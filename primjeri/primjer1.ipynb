{
 "cells": [
  {
   "cell_type": "code",
   "execution_count": 1,
   "metadata": {},
   "outputs": [
    {
     "data": {
      "text/html": [
       "<style>.container { width:100% !important; }</style>"
      ],
      "text/plain": [
       "<IPython.core.display.HTML object>"
      ]
     },
     "metadata": {},
     "output_type": "display_data"
    }
   ],
   "source": [
    "#Širi prikaz u notebook-u\n",
    "from IPython.core.display import display, HTML\n",
    "display(HTML(\"<style>.container { width:100% !important; }</style>\"))"
   ]
  },
  {
   "cell_type": "code",
   "execution_count": 1,
   "metadata": {},
   "outputs": [],
   "source": [
    "import pprint, genalg, json\n",
    "import plotly.offline as py\n",
    "import plotly.graph_objs as go\n",
    "import matplotlib.ticker as ticker\n",
    "import matplotlib.cm as cm\n",
    "import matplotlib as mpl\n",
    "\n",
    "import matplotlib.pyplot as plt"
   ]
  },
  {
   "cell_type": "code",
   "execution_count": 2,
   "metadata": {},
   "outputs": [
    {
     "data": {
      "text/html": [
       "        <script type=\"text/javascript\">\n",
       "        window.PlotlyConfig = {MathJaxConfig: 'local'};\n",
       "        if (window.MathJax) {MathJax.Hub.Config({SVG: {font: \"STIX-Web\"}});}\n",
       "        if (typeof require !== 'undefined') {\n",
       "        require.undef(\"plotly\");\n",
       "        requirejs.config({\n",
       "            paths: {\n",
       "                'plotly': ['https://cdn.plot.ly/plotly-latest.min']\n",
       "            }\n",
       "        });\n",
       "        require(['plotly'], function(Plotly) {\n",
       "            window._Plotly = Plotly;\n",
       "        });\n",
       "        }\n",
       "        </script>\n",
       "        "
      ]
     },
     "metadata": {},
     "output_type": "display_data"
    }
   ],
   "source": [
    "py.init_notebook_mode(connected=True)"
   ]
  },
  {
   "cell_type": "code",
   "execution_count": 3,
   "metadata": {},
   "outputs": [],
   "source": [
    "%matplotlib inline"
   ]
  },
  {
   "cell_type": "code",
   "execution_count": 4,
   "metadata": {},
   "outputs": [],
   "source": [
    "with open('podaci1.json', \"r\", encoding='utf-8-sig') as f:\n",
    "    podaci = json.loads(f.read())"
   ]
  },
  {
   "cell_type": "code",
   "execution_count": 5,
   "metadata": {},
   "outputs": [
    {
     "name": "stdout",
     "output_type": "stream",
     "text": [
      "  1. generacija -> population average fit: 9.774566567496734, best chromosome fit: None\n",
      "  2. generacija -> population average fit: 9.774566567496734,  best chromosome fit: None\n",
      "  3. generacija -> population average fit: 10.175842091011797,  best chromosome fit: None\n",
      "  4. generacija -> population average fit: 116.34553931976887,  best chromosome fit: 817.15618166376\n",
      "  5. generacija -> population average fit: 203.67230713778682,  best chromosome fit: 808.9846198471224\n",
      "  6. generacija -> population average fit: 564.9161872977036,  best chromosome fit: 833.8328384324082\n",
      "  7. generacija -> population average fit: 553.2133351408881,  best chromosome fit: 825.4102845088485\n",
      "  8. generacija -> population average fit: 772.9458861690108,  best chromosome fit: 808.9020788186714\n",
      "  9. generacija -> population average fit: 791.9221528017181,  best chromosome fit: 808.9020788186714\n",
      " 10. generacija -> population average fit: 804.8656574453662,  best chromosome fit: 808.9020788186715\n",
      " 11. generacija -> population average fit: 808.9020788186714,  best chromosome fit: 808.9020788186715\n",
      " 12. generacija -> population average fit: 808.9184202748093,  best chromosome fit: 817.0728068875469\n",
      " 13. generacija -> population average fit: 812.1785407742905,  best chromosome fit: 817.0728068875469\n",
      " 14. generacija -> population average fit: 816.2557340806594,  best chromosome fit: 817.0728068875469\n",
      " 15. generacija -> population average fit: 817.0728068875469,  best chromosome fit: 817.0728068875469\n",
      " 16. generacija -> population average fit: 817.0728068875469,  best chromosome fit: 817.0728068875469\n",
      " 17. generacija -> population average fit: 817.0728068875469,  best chromosome fit: 817.0728068875469\n",
      " 18. generacija -> population average fit: 817.0728068875469,  best chromosome fit: 817.0728068875469\n",
      " 19. generacija -> population average fit: 817.0728068875469,  best chromosome fit: 817.0728068875469\n",
      " 20. generacija -> population average fit: 817.0728068875469,  best chromosome fit: 817.0728068875469\n",
      "\n",
      "Izlaz zapisan u datoteku 'rezultati1.json'\n"
     ]
    }
   ],
   "source": [
    "ulazni_podaci, generacije = genalg.glavna_funk(podaci, write_to_file=True, file_name=\"rezultati1.json\")"
   ]
  },
  {
   "cell_type": "code",
   "execution_count": 6,
   "metadata": {},
   "outputs": [
    {
     "name": "stdout",
     "output_type": "stream",
     "text": [
      "{'dani': [1, 2, 3, 4, 5],\n",
      " 'dvorane': {0: {'id': 0, 'kapacitet': 100, 'naziv': 'D1', 'spec': {'P'}},\n",
      "             1: {'id': 1, 'kapacitet': 75, 'naziv': 'D2', 'spec': {'P', 'S'}},\n",
      "             2: {'id': 2, 'kapacitet': 95, 'naziv': 'D3', 'spec': {'P', 'S'}},\n",
      "             3: {'id': 3, 'kapacitet': 30, 'naziv': 'D4', 'spec': {'L'}},\n",
      "             4: {'id': 4, 'kapacitet': 45, 'naziv': 'D5', 'spec': {'L'}},\n",
      "             5: {'id': 5, 'kapacitet': 70, 'naziv': 'D6', 'spec': {'P', 'S'}}},\n",
      " 'grupe': {0: {'id': 0, 'kapacitet': 90, 'naziv': 'G1'},\n",
      "           1: {'id': 1, 'kapacitet': 50, 'naziv': 'G2'},\n",
      "           2: {'id': 2, 'kapacitet': 30, 'naziv': 'G3'},\n",
      "           3: {'id': 3, 'kapacitet': 70, 'naziv': 'G4'}},\n",
      " 'kolegiji': {0: {'id': 0, 'naziv': 'Digitalna logika'},\n",
      "              1: {'id': 1, 'naziv': 'Inteligentni sustavi'},\n",
      "              2: {'id': 2, 'naziv': 'Teorija kaosa'},\n",
      "              3: {'id': 3, 'naziv': 'Odabrana poglavlja matematike'},\n",
      "              4: {'id': 4, 'naziv': 'Informatika 1'},\n",
      "              5: {'id': 5, 'naziv': 'Baze podataka 1'}},\n",
      " 'nastava': {0: {'dvorana': {'S'},\n",
      "                 'g_id': 0,\n",
      "                 'k_id': 3,\n",
      "                 'p_id': 2,\n",
      "                 'trajanje': 3},\n",
      "             1: {'dvorana': {'P'},\n",
      "                 'g_id': 0,\n",
      "                 'k_id': 5,\n",
      "                 'p_id': 1,\n",
      "                 'trajanje': 1},\n",
      "             2: {'dvorana': {'P'},\n",
      "                 'g_id': 1,\n",
      "                 'k_id': 5,\n",
      "                 'p_id': 3,\n",
      "                 'trajanje': 2},\n",
      "             3: {'dvorana': {'S'},\n",
      "                 'g_id': 1,\n",
      "                 'k_id': 4,\n",
      "                 'p_id': 5,\n",
      "                 'trajanje': 2},\n",
      "             4: {'dvorana': {'S'},\n",
      "                 'g_id': 1,\n",
      "                 'k_id': 2,\n",
      "                 'p_id': 4,\n",
      "                 'trajanje': 2},\n",
      "             5: {'dvorana': {'L'},\n",
      "                 'g_id': 2,\n",
      "                 'k_id': 0,\n",
      "                 'p_id': 5,\n",
      "                 'trajanje': 2},\n",
      "             6: {'dvorana': {'L'},\n",
      "                 'g_id': 2,\n",
      "                 'k_id': 4,\n",
      "                 'p_id': 3,\n",
      "                 'trajanje': 2},\n",
      "             7: {'dvorana': {'L'},\n",
      "                 'g_id': 2,\n",
      "                 'k_id': 5,\n",
      "                 'p_id': 0,\n",
      "                 'trajanje': 1},\n",
      "             8: {'dvorana': {'L'},\n",
      "                 'g_id': 2,\n",
      "                 'k_id': 1,\n",
      "                 'p_id': 2,\n",
      "                 'trajanje': 2},\n",
      "             9: {'dvorana': {'P'},\n",
      "                 'g_id': 3,\n",
      "                 'k_id': 1,\n",
      "                 'p_id': 1,\n",
      "                 'trajanje': 3},\n",
      "             10: {'dvorana': {'P'},\n",
      "                  'g_id': 3,\n",
      "                  'k_id': 3,\n",
      "                  'p_id': 3,\n",
      "                  'trajanje': 2},\n",
      "             11: {'dvorana': {'S'},\n",
      "                  'g_id': 3,\n",
      "                  'k_id': 3,\n",
      "                  'p_id': 4,\n",
      "                  'trajanje': 2},\n",
      "             12: {'dvorana': {'S'},\n",
      "                  'g_id': 3,\n",
      "                  'k_id': 1,\n",
      "                  'p_id': 2,\n",
      "                  'trajanje': 3},\n",
      "             13: {'dvorana': {'P'},\n",
      "                  'g_id': 0,\n",
      "                  'k_id': 0,\n",
      "                  'p_id': 0,\n",
      "                  'trajanje': 2},\n",
      "             14: {'dvorana': {'P'},\n",
      "                  'g_id': 0,\n",
      "                  'k_id': 3,\n",
      "                  'p_id': 2,\n",
      "                  'trajanje': 3}},\n",
      " 'nastavnici': {0: {'id': 0, 'preime': 'Ana Anić'},\n",
      "                1: {'id': 1, 'preime': 'Ivan Ivanek'},\n",
      "                2: {'id': 2, 'preime': 'Nikola Kavezić'},\n",
      "                3: {'id': 3, 'preime': 'Blanka Ljubić'},\n",
      "                4: {'id': 4, 'preime': 'Jelena Guljaš'},\n",
      "                5: {'id': 5, 'preime': 'Jasmin Starwars'}},\n",
      " 'parametri': {'max_gen': 20,\n",
      "               'mut': {'a': 0.5, 'b': 0.9},\n",
      "               'n_best': 5,\n",
      "               'n_pop': 10,\n",
      "               'p_cross': 0.75,\n",
      "               'tournament_size': 3},\n",
      " 'preferencije': {'dnevni_limit': {'aktivan': True, 'limit': 8},\n",
      "                  'dvorane': {'aktivan': True, 'popunjenost': 0.35},\n",
      "                  'grupe': {'aktivan': True, 'max_razmak': 2},\n",
      "                  'kolegiji': [{'k_id': 3,\n",
      "                                'odabir': [{'dvorane': [0],\n",
      "                                            'termini': {1, 2, 3}}]},\n",
      "                               {'k_id': 4,\n",
      "                                'odabir': [{'dvorane': [3],\n",
      "                                            'termini': {5, 6, 7, 8, 9}}]}],\n",
      "                  'profesori': [{'odabir': [{'dan': 2, 'termini': {1, 2, 3}}],\n",
      "                                 'p_id': 1},\n",
      "                                {'odabir': [{'dan': 3,\n",
      "                                             'termini': {8, 5, 6, 7}}],\n",
      "                                 'p_id': 4}]},\n",
      " 'termini': [1, 2, 3, 4, 5, 6, 7, 8, 9, 10, 11, 12]}\n"
     ]
    }
   ],
   "source": [
    "pprint.pprint(ulazni_podaci)"
   ]
  },
  {
   "cell_type": "code",
   "execution_count": 7,
   "metadata": {},
   "outputs": [
    {
     "name": "stdout",
     "output_type": "stream",
     "text": [
      "('[{\"fit\": 833.8328384324082, \"hard_dev\": 0, \"hard_pos\": [], \"jedinka\": '\n",
      " '[{\"dan\": 3, \"dvorana\": \"D3\", \"grupa\": \"G1\", \"kolegij\": \"Odabrana poglavlja '\n",
      " 'matematike\", \"profesor\": \"Nikola Kavezić\", \"termin\": [2, 3, 4]}, {\"dan\": 4, '\n",
      " '\"dvorana\": \"D1\", \"grupa\": \"G1\", \"kolegij\": \"Baze podataka 1\", \"profesor\": '\n",
      " '\"Ivan Ivanek\", \"termin\": [10]}, {\"dan\": 1, \"dvorana\": \"D1\", \"grupa\": \"G2\", '\n",
      " '\"kolegij\": \"Baze podataka 1\", \"profesor\": \"Blanka Ljubić\", \"termin\": [9, '\n",
      " '10]}, {\"dan\": 2, \"dvorana\": \"D3\", \"grupa\": \"G2\", \"kolegij\": \"Informatika 1\", '\n",
      " '\"profesor\": \"Jasmin Starwars\", \"termin\": [1, 2]}, {\"dan\": 3, \"dvorana\": '\n",
      " '\"D6\", \"grupa\": \"G2\", \"kolegij\": \"Teorija kaosa\", \"profesor\": \"Jelena '\n",
      " 'Guljaš\", \"termin\": [11, 12]}, {\"dan\": 5, \"dvorana\": \"D5\", \"grupa\": \"G3\", '\n",
      " '\"kolegij\": \"Digitalna logika\", \"profesor\": \"Jasmin Starwars\", \"termin\": [4, '\n",
      " '5]}, {\"dan\": 3, \"dvorana\": \"D5\", \"grupa\": \"G3\", \"kolegij\": \"Informatika 1\", '\n",
      " '\"profesor\": \"Blanka Ljubić\", \"termin\": [5, 6]}, {\"dan\": 1, \"dvorana\": \"D4\", '\n",
      " '\"grupa\": \"G3\", \"kolegij\": \"Baze podataka 1\", \"profesor\": \"Ana Anić\", '\n",
      " '\"termin\": [12]}, {\"dan\": 2, \"dvorana\": \"D4\", \"grupa\": \"G3\", \"kolegij\": '\n",
      " '\"Inteligentni sustavi\", \"profesor\": \"Nikola Kavezić\", \"termin\": [9, 10]}, '\n",
      " '{\"dan\": 1, \"dvorana\": \"D1\", \"grupa\": \"G4\", \"kolegij\": \"Inteligentni '\n",
      " 'sustavi\", \"profesor\": \"Ivan Ivanek\", \"termin\": [1, 2, 3]}, {\"dan\": 2, '\n",
      " '\"dvorana\": \"D1\", \"grupa\": \"G4\", \"kolegij\": \"Odabrana poglavlja matematike\", '\n",
      " '\"profesor\": \"Blanka Ljubić\", \"termin\": [5, 6]}, {\"dan\": 1, \"dvorana\": \"D6\", '\n",
      " '\"grupa\": \"G4\", \"kolegij\": \"Odabrana poglavlja matematike\", \"profesor\": '\n",
      " '\"Jelena Guljaš\", \"termin\": [5, 6]}, {\"dan\": 1, \"dvorana\": \"D3\", \"grupa\": '\n",
      " '\"G4\", \"kolegij\": \"Inteligentni sustavi\", \"profesor\": \"Nikola Kavezić\", '\n",
      " '\"termin\": [8, 9, 7]}, {\"dan\": 2, \"dvorana\": \"D1\", \"grupa\": \"G1\", \"kolegij\": '\n",
      " '\"Digitalna logika\", \"profesor\": \"Ana Anić\", \"termin\": [3, 4]}, {\"dan\": 5, '\n",
      " '\"dvorana\": \"D1\", \"grupa\": \"G1\", \"kolegij\": \"Odabrana poglavlja matematike\", '\n",
      " '\"profesor\": \"Nikola Kavezić\", \"termin\": [1, 2, 3]}], \"soft_dev\": 10, '\n",
      " '\"soft_pos\": [[\"k-d\", 0], [\"k-t\", 0], [\"k-d\", 3], [\"k-t\", 3], [\"p-t\", 4], '\n",
      " '[\"k-d\", 6], [\"k-t\", 10], [\"k-d\", 11], [\"k-t\", 11], [\"l\", 2, 7, 9, 11, 12]], '\n",
      " '\"validnost\": true}, {\"fit\": 825.4102845088485, \"hard_dev\": 0, \"hard_pos\": '\n",
      " '[], \"jedinka\": [{\"dan\": 3, \"dvorana\": \"D3\", \"grupa\": \"G1\", \"kolegij\": '\n",
      " '\"Odabrana poglavlja matematike\", \"profesor\": \"Nikola Kavezić\", \"termin\": [2, '\n",
      " '3, 4]}, {\"dan\": 4, \"dvorana\": \"D1\", \"grupa\": \"G1\", \"kolegij\": \"Baze podataka '\n",
      " '1\", \"profesor\": \"Ivan Ivanek\", \"termin\": [10]}, {\"dan\": 1, \"dvorana\": \"D1\", '\n",
      " '\"grupa\": \"G2\", \"kolegij\": \"Baze podataka 1\", \"profesor\": \"Blanka Ljubić\", '\n",
      " '\"termin\": [9, 10]}, {\"dan\": 2, \"dvorana\": \"D3\", \"grupa\": \"G2\", \"kolegij\": '\n",
      " '\"Informatika 1\", \"profesor\": \"Jasmin Starwars\", \"termin\": [1, 2]}, {\"dan\": '\n",
      " '2, \"dvorana\": \"D6\", \"grupa\": \"G2\", \"kolegij\": \"Teorija kaosa\", \"profesor\": '\n",
      " '\"Jelena Guljaš\", \"termin\": [9, 10]}, {\"dan\": 5, \"dvorana\": \"D5\", \"grupa\": '\n",
      " '\"G3\", \"kolegij\": \"Digitalna logika\", \"profesor\": \"Jasmin Starwars\", '\n",
      " '\"termin\": [4, 5]}, {\"dan\": 3, \"dvorana\": \"D5\", \"grupa\": \"G3\", \"kolegij\": '\n",
      " '\"Informatika 1\", \"profesor\": \"Blanka Ljubić\", \"termin\": [2, 3]}, {\"dan\": 1, '\n",
      " '\"dvorana\": \"D4\", \"grupa\": \"G3\", \"kolegij\": \"Baze podataka 1\", \"profesor\": '\n",
      " '\"Ana Anić\", \"termin\": [12]}, {\"dan\": 2, \"dvorana\": \"D4\", \"grupa\": \"G3\", '\n",
      " '\"kolegij\": \"Inteligentni sustavi\", \"profesor\": \"Nikola Kavezić\", \"termin\": '\n",
      " '[9, 10]}, {\"dan\": 1, \"dvorana\": \"D1\", \"grupa\": \"G4\", \"kolegij\": '\n",
      " '\"Inteligentni sustavi\", \"profesor\": \"Ivan Ivanek\", \"termin\": [1, 2, 3]}, '\n",
      " '{\"dan\": 2, \"dvorana\": \"D1\", \"grupa\": \"G4\", \"kolegij\": \"Odabrana poglavlja '\n",
      " 'matematike\", \"profesor\": \"Blanka Ljubić\", \"termin\": [5, 6]}, {\"dan\": 1, '\n",
      " '\"dvorana\": \"D6\", \"grupa\": \"G4\", \"kolegij\": \"Odabrana poglavlja matematike\", '\n",
      " '\"profesor\": \"Jelena Guljaš\", \"termin\": [5, 6]}, {\"dan\": 1, \"dvorana\": \"D3\", '\n",
      " '\"grupa\": \"G4\", \"kolegij\": \"Inteligentni sustavi\", \"profesor\": \"Nikola '\n",
      " 'Kavezić\", \"termin\": [8, 9, 7]}, {\"dan\": 2, \"dvorana\": \"D1\", \"grupa\": \"G1\", '\n",
      " '\"kolegij\": \"Digitalna logika\", \"profesor\": \"Ana Anić\", \"termin\": [3, 4]}, '\n",
      " '{\"dan\": 5, \"dvorana\": \"D1\", \"grupa\": \"G1\", \"kolegij\": \"Odabrana poglavlja '\n",
      " 'matematike\", \"profesor\": \"Nikola Kavezić\", \"termin\": [1, 2, 3]}], '\n",
      " '\"soft_dev\": 10, \"soft_pos\": [[\"k-d\", 0], [\"k-t\", 0], [\"k-d\", 3], [\"k-t\", 3], '\n",
      " '[\"k-d\", 6], [\"k-t\", 6], [\"k-t\", 10], [\"k-d\", 11], [\"k-t\", 11], [\"l\", 2, 7, '\n",
      " '9, 11, 12]], \"validnost\": true}, {\"fit\": 817.15618166376, \"hard_dev\": 0, '\n",
      " '\"hard_pos\": [], \"jedinka\": [{\"dan\": 1, \"dvorana\": \"D3\", \"grupa\": \"G1\", '\n",
      " '\"kolegij\": \"Odabrana poglavlja matematike\", \"profesor\": \"Nikola Kavezić\", '\n",
      " '\"termin\": [8, 9, 7]}, {\"dan\": 4, \"dvorana\": \"D1\", \"grupa\": \"G1\", \"kolegij\": '\n",
      " '\"Baze podataka 1\", \"profesor\": \"Ivan Ivanek\", \"termin\": [10]}, {\"dan\": 1, '\n",
      " '\"dvorana\": \"D1\", \"grupa\": \"G2\", \"kolegij\": \"Baze podataka 1\", \"profesor\": '\n",
      " '\"Blanka Ljubić\", \"termin\": [9, 10]}, {\"dan\": 2, \"dvorana\": \"D3\", \"grupa\": '\n",
      " '\"G2\", \"kolegij\": \"Informatika 1\", \"profesor\": \"Jasmin Starwars\", \"termin\": '\n",
      " '[1, 2]}, {\"dan\": 3, \"dvorana\": \"D6\", \"grupa\": \"G2\", \"kolegij\": \"Teorija '\n",
      " 'kaosa\", \"profesor\": \"Jelena Guljaš\", \"termin\": [11, 12]}, {\"dan\": 5, '\n",
      " '\"dvorana\": \"D5\", \"grupa\": \"G3\", \"kolegij\": \"Digitalna logika\", \"profesor\": '\n",
      " '\"Jasmin Starwars\", \"termin\": [4, 5]}, {\"dan\": 3, \"dvorana\": \"D5\", \"grupa\": '\n",
      " '\"G3\", \"kolegij\": \"Informatika 1\", \"profesor\": \"Blanka Ljubić\", \"termin\": [5, '\n",
      " '6]}, {\"dan\": 1, \"dvorana\": \"D4\", \"grupa\": \"G3\", \"kolegij\": \"Baze podataka '\n",
      " '1\", \"profesor\": \"Ana Anić\", \"termin\": [12]}, {\"dan\": 2, \"dvorana\": \"D4\", '\n",
      " '\"grupa\": \"G3\", \"kolegij\": \"Inteligentni sustavi\", \"profesor\": \"Nikola '\n",
      " 'Kavezić\", \"termin\": [9, 10]}, {\"dan\": 1, \"dvorana\": \"D1\", \"grupa\": \"G4\", '\n",
      " '\"kolegij\": \"Inteligentni sustavi\", \"profesor\": \"Ivan Ivanek\", \"termin\": [1, '\n",
      " '2, 3]}, {\"dan\": 3, \"dvorana\": \"D3\", \"grupa\": \"G4\", \"kolegij\": \"Odabrana '\n",
      " 'poglavlja matematike\", \"profesor\": \"Blanka Ljubić\", \"termin\": [8, 9]}, '\n",
      " '{\"dan\": 1, \"dvorana\": \"D6\", \"grupa\": \"G4\", \"kolegij\": \"Odabrana poglavlja '\n",
      " 'matematike\", \"profesor\": \"Jelena Guljaš\", \"termin\": [5, 6]}, {\"dan\": 5, '\n",
      " '\"dvorana\": \"D6\", \"grupa\": \"G4\", \"kolegij\": \"Inteligentni sustavi\", '\n",
      " '\"profesor\": \"Nikola Kavezić\", \"termin\": [8, 9, 7]}, {\"dan\": 2, \"dvorana\": '\n",
      " '\"D1\", \"grupa\": \"G1\", \"kolegij\": \"Digitalna logika\", \"profesor\": \"Ana Anić\", '\n",
      " '\"termin\": [3, 4]}, {\"dan\": 5, \"dvorana\": \"D1\", \"grupa\": \"G1\", \"kolegij\": '\n",
      " '\"Odabrana poglavlja matematike\", \"profesor\": \"Nikola Kavezić\", \"termin\": [1, '\n",
      " '2, 3]}], \"soft_dev\": 11, \"soft_pos\": [[\"k-d\", 0], [\"k-t\", 0], [\"k-d\", 3], '\n",
      " '[\"k-t\", 3], [\"p-t\", 4], [\"k-d\", 6], [\"k-d\", 10], [\"k-t\", 10], [\"k-d\", 11], '\n",
      " '[\"k-t\", 11], [\"l\", 0, 2, 7, 9, 11]], \"validnost\": true}, {\"fit\": '\n",
      " '817.0728068875469, \"hard_dev\": 0, \"hard_pos\": [], \"jedinka\": [{\"dan\": 3, '\n",
      " '\"dvorana\": \"D3\", \"grupa\": \"G1\", \"kolegij\": \"Odabrana poglavlja matematike\", '\n",
      " '\"profesor\": \"Nikola Kavezić\", \"termin\": [2, 3, 4]}, {\"dan\": 4, \"dvorana\": '\n",
      " '\"D1\", \"grupa\": \"G1\", \"kolegij\": \"Baze podataka 1\", \"profesor\": \"Ivan '\n",
      " 'Ivanek\", \"termin\": [10]}, {\"dan\": 1, \"dvorana\": \"D1\", \"grupa\": \"G2\", '\n",
      " '\"kolegij\": \"Baze podataka 1\", \"profesor\": \"Blanka Ljubić\", \"termin\": [9, '\n",
      " '10]}, {\"dan\": 2, \"dvorana\": \"D3\", \"grupa\": \"G2\", \"kolegij\": \"Informatika 1\", '\n",
      " '\"profesor\": \"Jasmin Starwars\", \"termin\": [1, 2]}, {\"dan\": 2, \"dvorana\": '\n",
      " '\"D6\", \"grupa\": \"G2\", \"kolegij\": \"Teorija kaosa\", \"profesor\": \"Jelena '\n",
      " 'Guljaš\", \"termin\": [9, 10]}, {\"dan\": 5, \"dvorana\": \"D5\", \"grupa\": \"G3\", '\n",
      " '\"kolegij\": \"Digitalna logika\", \"profesor\": \"Jasmin Starwars\", \"termin\": [4, '\n",
      " '5]}, {\"dan\": 3, \"dvorana\": \"D5\", \"grupa\": \"G3\", \"kolegij\": \"Informatika 1\", '\n",
      " '\"profesor\": \"Blanka Ljubić\", \"termin\": [2, 3]}, {\"dan\": 1, \"dvorana\": \"D4\", '\n",
      " '\"grupa\": \"G3\", \"kolegij\": \"Baze podataka 1\", \"profesor\": \"Ana Anić\", '\n",
      " '\"termin\": [12]}, {\"dan\": 2, \"dvorana\": \"D4\", \"grupa\": \"G3\", \"kolegij\": '\n",
      " '\"Inteligentni sustavi\", \"profesor\": \"Nikola Kavezić\", \"termin\": [9, 10]}, '\n",
      " '{\"dan\": 1, \"dvorana\": \"D1\", \"grupa\": \"G4\", \"kolegij\": \"Inteligentni '\n",
      " 'sustavi\", \"profesor\": \"Ivan Ivanek\", \"termin\": [1, 2, 3]}, {\"dan\": 3, '\n",
      " '\"dvorana\": \"D3\", \"grupa\": \"G4\", \"kolegij\": \"Odabrana poglavlja matematike\", '\n",
      " '\"profesor\": \"Blanka Ljubić\", \"termin\": [8, 9]}, {\"dan\": 1, \"dvorana\": \"D6\", '\n",
      " '\"grupa\": \"G4\", \"kolegij\": \"Odabrana poglavlja matematike\", \"profesor\": '\n",
      " '\"Jelena Guljaš\", \"termin\": [5, 6]}, {\"dan\": 5, \"dvorana\": \"D6\", \"grupa\": '\n",
      " '\"G4\", \"kolegij\": \"Inteligentni sustavi\", \"profesor\": \"Nikola Kavezić\", '\n",
      " '\"termin\": [8, 9, 7]}, {\"dan\": 2, \"dvorana\": \"D1\", \"grupa\": \"G1\", \"kolegij\": '\n",
      " '\"Digitalna logika\", \"profesor\": \"Ana Anić\", \"termin\": [3, 4]}, {\"dan\": 5, '\n",
      " '\"dvorana\": \"D1\", \"grupa\": \"G1\", \"kolegij\": \"Odabrana poglavlja matematike\", '\n",
      " '\"profesor\": \"Nikola Kavezić\", \"termin\": [1, 2, 3]}], \"soft_dev\": 10, '\n",
      " '\"soft_pos\": [[\"k-d\", 0], [\"k-t\", 0], [\"k-d\", 3], [\"k-t\", 3], [\"k-d\", 6], '\n",
      " '[\"k-t\", 6], [\"k-d\", 10], [\"k-t\", 10], [\"k-d\", 11], [\"k-t\", 11]], '\n",
      " '\"validnost\": true}, {\"fit\": 817.0728068875469, \"hard_dev\": 0, \"hard_pos\": '\n",
      " '[], \"jedinka\": [{\"dan\": 3, \"dvorana\": \"D3\", \"grupa\": \"G1\", \"kolegij\": '\n",
      " '\"Odabrana poglavlja matematike\", \"profesor\": \"Nikola Kavezić\", \"termin\": [2, '\n",
      " '3, 4]}, {\"dan\": 4, \"dvorana\": \"D1\", \"grupa\": \"G1\", \"kolegij\": \"Baze podataka '\n",
      " '1\", \"profesor\": \"Ivan Ivanek\", \"termin\": [10]}, {\"dan\": 1, \"dvorana\": \"D1\", '\n",
      " '\"grupa\": \"G2\", \"kolegij\": \"Baze podataka 1\", \"profesor\": \"Blanka Ljubić\", '\n",
      " '\"termin\": [9, 10]}, {\"dan\": 2, \"dvorana\": \"D3\", \"grupa\": \"G2\", \"kolegij\": '\n",
      " '\"Informatika 1\", \"profesor\": \"Jasmin Starwars\", \"termin\": [1, 2]}, {\"dan\": '\n",
      " '2, \"dvorana\": \"D6\", \"grupa\": \"G2\", \"kolegij\": \"Teorija kaosa\", \"profesor\": '\n",
      " '\"Jelena Guljaš\", \"termin\": [9, 10]}, {\"dan\": 5, \"dvorana\": \"D5\", \"grupa\": '\n",
      " '\"G3\", \"kolegij\": \"Digitalna logika\", \"profesor\": \"Jasmin Starwars\", '\n",
      " '\"termin\": [4, 5]}, {\"dan\": 3, \"dvorana\": \"D5\", \"grupa\": \"G3\", \"kolegij\": '\n",
      " '\"Informatika 1\", \"profesor\": \"Blanka Ljubić\", \"termin\": [2, 3]}, {\"dan\": 1, '\n",
      " '\"dvorana\": \"D4\", \"grupa\": \"G3\", \"kolegij\": \"Baze podataka 1\", \"profesor\": '\n",
      " '\"Ana Anić\", \"termin\": [12]}, {\"dan\": 2, \"dvorana\": \"D4\", \"grupa\": \"G3\", '\n",
      " '\"kolegij\": \"Inteligentni sustavi\", \"profesor\": \"Nikola Kavezić\", \"termin\": '\n",
      " '[9, 10]}, {\"dan\": 1, \"dvorana\": \"D1\", \"grupa\": \"G4\", \"kolegij\": '\n",
      " '\"Inteligentni sustavi\", \"profesor\": \"Ivan Ivanek\", \"termin\": [1, 2, 3]}, '\n",
      " '{\"dan\": 3, \"dvorana\": \"D3\", \"grupa\": \"G4\", \"kolegij\": \"Odabrana poglavlja '\n",
      " 'matematike\", \"profesor\": \"Blanka Ljubić\", \"termin\": [8, 9]}, {\"dan\": 1, '\n",
      " '\"dvorana\": \"D6\", \"grupa\": \"G4\", \"kolegij\": \"Odabrana poglavlja matematike\", '\n",
      " '\"profesor\": \"Jelena Guljaš\", \"termin\": [5, 6]}, {\"dan\": 5, \"dvorana\": \"D6\", '\n",
      " '\"grupa\": \"G4\", \"kolegij\": \"Inteligentni sustavi\", \"profesor\": \"Nikola '\n",
      " 'Kavezić\", \"termin\": [8, 9, 7]}, {\"dan\": 2, \"dvorana\": \"D1\", \"grupa\": \"G1\", '\n",
      " '\"kolegij\": \"Digitalna logika\", \"profesor\": \"Ana Anić\", \"termin\": [3, 4]}, '\n",
      " '{\"dan\": 5, \"dvorana\": \"D1\", \"grupa\": \"G1\", \"kolegij\": \"Odabrana poglavlja '\n",
      " 'matematike\", \"profesor\": \"Nikola Kavezić\", \"termin\": [1, 2, 3]}], '\n",
      " '\"soft_dev\": 10, \"soft_pos\": [[\"k-d\", 0], [\"k-t\", 0], [\"k-d\", 3], [\"k-t\", 3], '\n",
      " '[\"k-d\", 6], [\"k-t\", 6], [\"k-d\", 10], [\"k-t\", 10], [\"k-d\", 11], [\"k-t\", 11]], '\n",
      " '\"validnost\": true}]')\n"
     ]
    }
   ],
   "source": [
    "pprint.pprint(genalg.json_rez(generacije['best'], ulazni_podaci))"
   ]
  },
  {
   "cell_type": "code",
   "execution_count": 17,
   "metadata": {},
   "outputs": [],
   "source": [
    "def plot_generation_fitness(ulazni_podaci):\n",
    "    x = list(range(len(generacije['all'])))\n",
    "    y = [populacija['avg_fit'] for populacija in generacije['all']]\n",
    "    y_lower = [populacija['avg_fit'] - populacija['std_fit'] for populacija in generacije['all']]\n",
    "    y_upper = [populacija['avg_fit'] + populacija['std_fit'] for populacija in generacije['all']]\n",
    "\n",
    "    upper_bound = go.Scatter(\n",
    "        name='Gornja vrijednost',\n",
    "        x=x,\n",
    "        y=y_upper,\n",
    "        mode='lines',\n",
    "        marker=dict(color=\"#444\"),\n",
    "        line=dict(width=0),\n",
    "        fillcolor='rgba(68, 68, 68, 0.3)',\n",
    "        fill='tonexty')\n",
    "\n",
    "    trace = go.Scatter(\n",
    "        name='Prosječna vrijednost karakteristične funkcije',\n",
    "        x=x,\n",
    "        y=y,\n",
    "        mode='lines',\n",
    "        line=dict(color='rgb(31, 119, 180)'),\n",
    "        fillcolor='rgba(68, 68, 68, 0.3)',\n",
    "        fill='tonexty')\n",
    "\n",
    "    lower_bound = go.Scatter(\n",
    "        name='Donja vrijednost',\n",
    "        x=x,\n",
    "        y=y_lower,\n",
    "        marker=dict(color=\"#444\"),\n",
    "        line=dict(width=0),\n",
    "        mode='lines')\n",
    "\n",
    "    # Trace order can be important\n",
    "    # with continuous error bars\n",
    "    data = [lower_bound, trace, upper_bound]\n",
    "\n",
    "    layout = go.Layout(\n",
    "        yaxis=dict(title='Fitness populacije', range=[0, 1000]),\n",
    "        xaxis=dict(title='Generacije populacija', type='category'),\n",
    "        title='Fitness populacija svih generacija',\n",
    "        showlegend = False)\n",
    "\n",
    "    fig = go.Figure(data=data, layout=layout)\n",
    "    py.iplot(fig, filename='fitness-all-generations')"
   ]
  },
  {
   "cell_type": "code",
   "execution_count": 18,
   "metadata": {},
   "outputs": [
    {
     "data": {
      "application/vnd.plotly.v1+json": {
       "config": {
        "linkText": "Export to plot.ly",
        "plotlyServerURL": "https://plot.ly",
        "showLink": false
       },
       "data": [
        {
         "line": {
          "width": 0
         },
         "marker": {
          "color": "#444"
         },
         "mode": "lines",
         "name": "Donja vrijednost",
         "type": "scatter",
         "x": [
          0,
          1,
          2,
          3,
          4,
          5,
          6,
          7,
          8,
          9,
          10,
          11,
          12,
          13,
          14,
          15,
          16,
          17,
          18,
          19
         ],
         "y": [
          -13.576742104537388,
          -13.551908514160454,
          -119.94869514955226,
          -79.31249704775959,
          245.3744006131675,
          226.52996616933154,
          744.493034996618,
          780.7811837896437,
          799.457440742177,
          808.9020788186714,
          803.7765972659673,
          806.7759098066686,
          813.8045156599968,
          817.0728068875469,
          817.0728068875469,
          817.0728068875469,
          817.0728068875469,
          817.0728068875469,
          817.0728068875469,
          817.0728068875469
         ]
        },
        {
         "fill": "tonexty",
         "fillcolor": "rgba(68, 68, 68, 0.3)",
         "line": {
          "color": "rgb(31, 119, 180)"
         },
         "mode": "lines",
         "name": "Prosječna vrijednost karakteristične funkcije",
         "type": "scatter",
         "x": [
          0,
          1,
          2,
          3,
          4,
          5,
          6,
          7,
          8,
          9,
          10,
          11,
          12,
          13,
          14,
          15,
          16,
          17,
          18,
          19
         ],
         "y": [
          9.774566567496734,
          10.175842091011797,
          116.34553931976887,
          203.67230713778682,
          564.9161872977036,
          553.2133351408881,
          772.9458861690108,
          791.9221528017181,
          804.8656574453662,
          808.9020788186714,
          808.9184202748093,
          812.1785407742905,
          816.2557340806594,
          817.0728068875469,
          817.0728068875469,
          817.0728068875469,
          817.0728068875469,
          817.0728068875469,
          817.0728068875469,
          817.0728068875469
         ]
        },
        {
         "fill": "tonexty",
         "fillcolor": "rgba(68, 68, 68, 0.3)",
         "line": {
          "width": 0
         },
         "marker": {
          "color": "#444"
         },
         "mode": "lines",
         "name": "Gornja vrijednost",
         "type": "scatter",
         "x": [
          0,
          1,
          2,
          3,
          4,
          5,
          6,
          7,
          8,
          9,
          10,
          11,
          12,
          13,
          14,
          15,
          16,
          17,
          18,
          19
         ],
         "y": [
          33.125875239530856,
          33.90359269618405,
          352.63977378909,
          486.6571113233332,
          884.4579739822397,
          879.8967041124447,
          801.3987373414036,
          803.0631218137925,
          810.2738741485554,
          808.9020788186714,
          814.0602432836512,
          817.5811717419124,
          818.706952501322,
          817.0728068875469,
          817.0728068875469,
          817.0728068875469,
          817.0728068875469,
          817.0728068875469,
          817.0728068875469,
          817.0728068875469
         ]
        }
       ],
       "layout": {
        "showlegend": false,
        "template": {
         "data": {
          "bar": [
           {
            "error_x": {
             "color": "#2a3f5f"
            },
            "error_y": {
             "color": "#2a3f5f"
            },
            "marker": {
             "line": {
              "color": "#E5ECF6",
              "width": 0.5
             }
            },
            "type": "bar"
           }
          ],
          "barpolar": [
           {
            "marker": {
             "line": {
              "color": "#E5ECF6",
              "width": 0.5
             }
            },
            "type": "barpolar"
           }
          ],
          "carpet": [
           {
            "aaxis": {
             "endlinecolor": "#2a3f5f",
             "gridcolor": "white",
             "linecolor": "white",
             "minorgridcolor": "white",
             "startlinecolor": "#2a3f5f"
            },
            "baxis": {
             "endlinecolor": "#2a3f5f",
             "gridcolor": "white",
             "linecolor": "white",
             "minorgridcolor": "white",
             "startlinecolor": "#2a3f5f"
            },
            "type": "carpet"
           }
          ],
          "choropleth": [
           {
            "colorbar": {
             "outlinewidth": 0,
             "ticks": ""
            },
            "type": "choropleth"
           }
          ],
          "contour": [
           {
            "colorbar": {
             "outlinewidth": 0,
             "ticks": ""
            },
            "colorscale": [
             [
              0,
              "#0d0887"
             ],
             [
              0.1111111111111111,
              "#46039f"
             ],
             [
              0.2222222222222222,
              "#7201a8"
             ],
             [
              0.3333333333333333,
              "#9c179e"
             ],
             [
              0.4444444444444444,
              "#bd3786"
             ],
             [
              0.5555555555555556,
              "#d8576b"
             ],
             [
              0.6666666666666666,
              "#ed7953"
             ],
             [
              0.7777777777777778,
              "#fb9f3a"
             ],
             [
              0.8888888888888888,
              "#fdca26"
             ],
             [
              1,
              "#f0f921"
             ]
            ],
            "type": "contour"
           }
          ],
          "contourcarpet": [
           {
            "colorbar": {
             "outlinewidth": 0,
             "ticks": ""
            },
            "type": "contourcarpet"
           }
          ],
          "heatmap": [
           {
            "colorbar": {
             "outlinewidth": 0,
             "ticks": ""
            },
            "colorscale": [
             [
              0,
              "#0d0887"
             ],
             [
              0.1111111111111111,
              "#46039f"
             ],
             [
              0.2222222222222222,
              "#7201a8"
             ],
             [
              0.3333333333333333,
              "#9c179e"
             ],
             [
              0.4444444444444444,
              "#bd3786"
             ],
             [
              0.5555555555555556,
              "#d8576b"
             ],
             [
              0.6666666666666666,
              "#ed7953"
             ],
             [
              0.7777777777777778,
              "#fb9f3a"
             ],
             [
              0.8888888888888888,
              "#fdca26"
             ],
             [
              1,
              "#f0f921"
             ]
            ],
            "type": "heatmap"
           }
          ],
          "heatmapgl": [
           {
            "colorbar": {
             "outlinewidth": 0,
             "ticks": ""
            },
            "colorscale": [
             [
              0,
              "#0d0887"
             ],
             [
              0.1111111111111111,
              "#46039f"
             ],
             [
              0.2222222222222222,
              "#7201a8"
             ],
             [
              0.3333333333333333,
              "#9c179e"
             ],
             [
              0.4444444444444444,
              "#bd3786"
             ],
             [
              0.5555555555555556,
              "#d8576b"
             ],
             [
              0.6666666666666666,
              "#ed7953"
             ],
             [
              0.7777777777777778,
              "#fb9f3a"
             ],
             [
              0.8888888888888888,
              "#fdca26"
             ],
             [
              1,
              "#f0f921"
             ]
            ],
            "type": "heatmapgl"
           }
          ],
          "histogram": [
           {
            "marker": {
             "colorbar": {
              "outlinewidth": 0,
              "ticks": ""
             }
            },
            "type": "histogram"
           }
          ],
          "histogram2d": [
           {
            "colorbar": {
             "outlinewidth": 0,
             "ticks": ""
            },
            "colorscale": [
             [
              0,
              "#0d0887"
             ],
             [
              0.1111111111111111,
              "#46039f"
             ],
             [
              0.2222222222222222,
              "#7201a8"
             ],
             [
              0.3333333333333333,
              "#9c179e"
             ],
             [
              0.4444444444444444,
              "#bd3786"
             ],
             [
              0.5555555555555556,
              "#d8576b"
             ],
             [
              0.6666666666666666,
              "#ed7953"
             ],
             [
              0.7777777777777778,
              "#fb9f3a"
             ],
             [
              0.8888888888888888,
              "#fdca26"
             ],
             [
              1,
              "#f0f921"
             ]
            ],
            "type": "histogram2d"
           }
          ],
          "histogram2dcontour": [
           {
            "colorbar": {
             "outlinewidth": 0,
             "ticks": ""
            },
            "colorscale": [
             [
              0,
              "#0d0887"
             ],
             [
              0.1111111111111111,
              "#46039f"
             ],
             [
              0.2222222222222222,
              "#7201a8"
             ],
             [
              0.3333333333333333,
              "#9c179e"
             ],
             [
              0.4444444444444444,
              "#bd3786"
             ],
             [
              0.5555555555555556,
              "#d8576b"
             ],
             [
              0.6666666666666666,
              "#ed7953"
             ],
             [
              0.7777777777777778,
              "#fb9f3a"
             ],
             [
              0.8888888888888888,
              "#fdca26"
             ],
             [
              1,
              "#f0f921"
             ]
            ],
            "type": "histogram2dcontour"
           }
          ],
          "mesh3d": [
           {
            "colorbar": {
             "outlinewidth": 0,
             "ticks": ""
            },
            "type": "mesh3d"
           }
          ],
          "parcoords": [
           {
            "line": {
             "colorbar": {
              "outlinewidth": 0,
              "ticks": ""
             }
            },
            "type": "parcoords"
           }
          ],
          "pie": [
           {
            "automargin": true,
            "type": "pie"
           }
          ],
          "scatter": [
           {
            "marker": {
             "colorbar": {
              "outlinewidth": 0,
              "ticks": ""
             }
            },
            "type": "scatter"
           }
          ],
          "scatter3d": [
           {
            "line": {
             "colorbar": {
              "outlinewidth": 0,
              "ticks": ""
             }
            },
            "marker": {
             "colorbar": {
              "outlinewidth": 0,
              "ticks": ""
             }
            },
            "type": "scatter3d"
           }
          ],
          "scattercarpet": [
           {
            "marker": {
             "colorbar": {
              "outlinewidth": 0,
              "ticks": ""
             }
            },
            "type": "scattercarpet"
           }
          ],
          "scattergeo": [
           {
            "marker": {
             "colorbar": {
              "outlinewidth": 0,
              "ticks": ""
             }
            },
            "type": "scattergeo"
           }
          ],
          "scattergl": [
           {
            "marker": {
             "colorbar": {
              "outlinewidth": 0,
              "ticks": ""
             }
            },
            "type": "scattergl"
           }
          ],
          "scattermapbox": [
           {
            "marker": {
             "colorbar": {
              "outlinewidth": 0,
              "ticks": ""
             }
            },
            "type": "scattermapbox"
           }
          ],
          "scatterpolar": [
           {
            "marker": {
             "colorbar": {
              "outlinewidth": 0,
              "ticks": ""
             }
            },
            "type": "scatterpolar"
           }
          ],
          "scatterpolargl": [
           {
            "marker": {
             "colorbar": {
              "outlinewidth": 0,
              "ticks": ""
             }
            },
            "type": "scatterpolargl"
           }
          ],
          "scatterternary": [
           {
            "marker": {
             "colorbar": {
              "outlinewidth": 0,
              "ticks": ""
             }
            },
            "type": "scatterternary"
           }
          ],
          "surface": [
           {
            "colorbar": {
             "outlinewidth": 0,
             "ticks": ""
            },
            "colorscale": [
             [
              0,
              "#0d0887"
             ],
             [
              0.1111111111111111,
              "#46039f"
             ],
             [
              0.2222222222222222,
              "#7201a8"
             ],
             [
              0.3333333333333333,
              "#9c179e"
             ],
             [
              0.4444444444444444,
              "#bd3786"
             ],
             [
              0.5555555555555556,
              "#d8576b"
             ],
             [
              0.6666666666666666,
              "#ed7953"
             ],
             [
              0.7777777777777778,
              "#fb9f3a"
             ],
             [
              0.8888888888888888,
              "#fdca26"
             ],
             [
              1,
              "#f0f921"
             ]
            ],
            "type": "surface"
           }
          ],
          "table": [
           {
            "cells": {
             "fill": {
              "color": "#EBF0F8"
             },
             "line": {
              "color": "white"
             }
            },
            "header": {
             "fill": {
              "color": "#C8D4E3"
             },
             "line": {
              "color": "white"
             }
            },
            "type": "table"
           }
          ]
         },
         "layout": {
          "annotationdefaults": {
           "arrowcolor": "#2a3f5f",
           "arrowhead": 0,
           "arrowwidth": 1
          },
          "coloraxis": {
           "colorbar": {
            "outlinewidth": 0,
            "ticks": ""
           }
          },
          "colorscale": {
           "diverging": [
            [
             0,
             "#8e0152"
            ],
            [
             0.1,
             "#c51b7d"
            ],
            [
             0.2,
             "#de77ae"
            ],
            [
             0.3,
             "#f1b6da"
            ],
            [
             0.4,
             "#fde0ef"
            ],
            [
             0.5,
             "#f7f7f7"
            ],
            [
             0.6,
             "#e6f5d0"
            ],
            [
             0.7,
             "#b8e186"
            ],
            [
             0.8,
             "#7fbc41"
            ],
            [
             0.9,
             "#4d9221"
            ],
            [
             1,
             "#276419"
            ]
           ],
           "sequential": [
            [
             0,
             "#0d0887"
            ],
            [
             0.1111111111111111,
             "#46039f"
            ],
            [
             0.2222222222222222,
             "#7201a8"
            ],
            [
             0.3333333333333333,
             "#9c179e"
            ],
            [
             0.4444444444444444,
             "#bd3786"
            ],
            [
             0.5555555555555556,
             "#d8576b"
            ],
            [
             0.6666666666666666,
             "#ed7953"
            ],
            [
             0.7777777777777778,
             "#fb9f3a"
            ],
            [
             0.8888888888888888,
             "#fdca26"
            ],
            [
             1,
             "#f0f921"
            ]
           ],
           "sequentialminus": [
            [
             0,
             "#0d0887"
            ],
            [
             0.1111111111111111,
             "#46039f"
            ],
            [
             0.2222222222222222,
             "#7201a8"
            ],
            [
             0.3333333333333333,
             "#9c179e"
            ],
            [
             0.4444444444444444,
             "#bd3786"
            ],
            [
             0.5555555555555556,
             "#d8576b"
            ],
            [
             0.6666666666666666,
             "#ed7953"
            ],
            [
             0.7777777777777778,
             "#fb9f3a"
            ],
            [
             0.8888888888888888,
             "#fdca26"
            ],
            [
             1,
             "#f0f921"
            ]
           ]
          },
          "colorway": [
           "#636efa",
           "#EF553B",
           "#00cc96",
           "#ab63fa",
           "#FFA15A",
           "#19d3f3",
           "#FF6692",
           "#B6E880",
           "#FF97FF",
           "#FECB52"
          ],
          "font": {
           "color": "#2a3f5f"
          },
          "geo": {
           "bgcolor": "white",
           "lakecolor": "white",
           "landcolor": "#E5ECF6",
           "showlakes": true,
           "showland": true,
           "subunitcolor": "white"
          },
          "hoverlabel": {
           "align": "left"
          },
          "hovermode": "closest",
          "mapbox": {
           "style": "light"
          },
          "paper_bgcolor": "white",
          "plot_bgcolor": "#E5ECF6",
          "polar": {
           "angularaxis": {
            "gridcolor": "white",
            "linecolor": "white",
            "ticks": ""
           },
           "bgcolor": "#E5ECF6",
           "radialaxis": {
            "gridcolor": "white",
            "linecolor": "white",
            "ticks": ""
           }
          },
          "scene": {
           "xaxis": {
            "backgroundcolor": "#E5ECF6",
            "gridcolor": "white",
            "gridwidth": 2,
            "linecolor": "white",
            "showbackground": true,
            "ticks": "",
            "zerolinecolor": "white"
           },
           "yaxis": {
            "backgroundcolor": "#E5ECF6",
            "gridcolor": "white",
            "gridwidth": 2,
            "linecolor": "white",
            "showbackground": true,
            "ticks": "",
            "zerolinecolor": "white"
           },
           "zaxis": {
            "backgroundcolor": "#E5ECF6",
            "gridcolor": "white",
            "gridwidth": 2,
            "linecolor": "white",
            "showbackground": true,
            "ticks": "",
            "zerolinecolor": "white"
           }
          },
          "shapedefaults": {
           "line": {
            "color": "#2a3f5f"
           }
          },
          "ternary": {
           "aaxis": {
            "gridcolor": "white",
            "linecolor": "white",
            "ticks": ""
           },
           "baxis": {
            "gridcolor": "white",
            "linecolor": "white",
            "ticks": ""
           },
           "bgcolor": "#E5ECF6",
           "caxis": {
            "gridcolor": "white",
            "linecolor": "white",
            "ticks": ""
           }
          },
          "title": {
           "x": 0.05
          },
          "xaxis": {
           "automargin": true,
           "gridcolor": "white",
           "linecolor": "white",
           "ticks": "",
           "title": {
            "standoff": 15
           },
           "zerolinecolor": "white",
           "zerolinewidth": 2
          },
          "yaxis": {
           "automargin": true,
           "gridcolor": "white",
           "linecolor": "white",
           "ticks": "",
           "title": {
            "standoff": 15
           },
           "zerolinecolor": "white",
           "zerolinewidth": 2
          }
         }
        },
        "title": {
         "text": "Fitness populacija svih generacija"
        },
        "xaxis": {
         "title": {
          "text": "Generacije populacija"
         },
         "type": "category"
        },
        "yaxis": {
         "range": [
          0,
          1000
         ],
         "title": {
          "text": "Fitness populacije"
         }
        }
       }
      },
      "text/html": [
       "<div>\n",
       "        \n",
       "        \n",
       "            <div id=\"f6ddd298-429c-47b3-934f-862bde68b6c1\" class=\"plotly-graph-div\" style=\"height:525px; width:100%;\"></div>\n",
       "            <script type=\"text/javascript\">\n",
       "                require([\"plotly\"], function(Plotly) {\n",
       "                    window.PLOTLYENV=window.PLOTLYENV || {};\n",
       "                    \n",
       "                if (document.getElementById(\"f6ddd298-429c-47b3-934f-862bde68b6c1\")) {\n",
       "                    Plotly.newPlot(\n",
       "                        'f6ddd298-429c-47b3-934f-862bde68b6c1',\n",
       "                        [{\"line\": {\"width\": 0}, \"marker\": {\"color\": \"#444\"}, \"mode\": \"lines\", \"name\": \"Donja vrijednost\", \"type\": \"scatter\", \"x\": [0, 1, 2, 3, 4, 5, 6, 7, 8, 9, 10, 11, 12, 13, 14, 15, 16, 17, 18, 19], \"y\": [-13.576742104537388, -13.551908514160454, -119.94869514955226, -79.31249704775959, 245.3744006131675, 226.52996616933154, 744.493034996618, 780.7811837896437, 799.457440742177, 808.9020788186714, 803.7765972659673, 806.7759098066686, 813.8045156599968, 817.0728068875469, 817.0728068875469, 817.0728068875469, 817.0728068875469, 817.0728068875469, 817.0728068875469, 817.0728068875469]}, {\"fill\": \"tonexty\", \"fillcolor\": \"rgba(68, 68, 68, 0.3)\", \"line\": {\"color\": \"rgb(31, 119, 180)\"}, \"mode\": \"lines\", \"name\": \"Prosje\\u010dna vrijednost karakteristi\\u010dne funkcije\", \"type\": \"scatter\", \"x\": [0, 1, 2, 3, 4, 5, 6, 7, 8, 9, 10, 11, 12, 13, 14, 15, 16, 17, 18, 19], \"y\": [9.774566567496734, 10.175842091011797, 116.34553931976887, 203.67230713778682, 564.9161872977036, 553.2133351408881, 772.9458861690108, 791.9221528017181, 804.8656574453662, 808.9020788186714, 808.9184202748093, 812.1785407742905, 816.2557340806594, 817.0728068875469, 817.0728068875469, 817.0728068875469, 817.0728068875469, 817.0728068875469, 817.0728068875469, 817.0728068875469]}, {\"fill\": \"tonexty\", \"fillcolor\": \"rgba(68, 68, 68, 0.3)\", \"line\": {\"width\": 0}, \"marker\": {\"color\": \"#444\"}, \"mode\": \"lines\", \"name\": \"Gornja vrijednost\", \"type\": \"scatter\", \"x\": [0, 1, 2, 3, 4, 5, 6, 7, 8, 9, 10, 11, 12, 13, 14, 15, 16, 17, 18, 19], \"y\": [33.125875239530856, 33.90359269618405, 352.63977378909, 486.6571113233332, 884.4579739822397, 879.8967041124447, 801.3987373414036, 803.0631218137925, 810.2738741485554, 808.9020788186714, 814.0602432836512, 817.5811717419124, 818.706952501322, 817.0728068875469, 817.0728068875469, 817.0728068875469, 817.0728068875469, 817.0728068875469, 817.0728068875469, 817.0728068875469]}],\n",
       "                        {\"showlegend\": false, \"template\": {\"data\": {\"bar\": [{\"error_x\": {\"color\": \"#2a3f5f\"}, \"error_y\": {\"color\": \"#2a3f5f\"}, \"marker\": {\"line\": {\"color\": \"#E5ECF6\", \"width\": 0.5}}, \"type\": \"bar\"}], \"barpolar\": [{\"marker\": {\"line\": {\"color\": \"#E5ECF6\", \"width\": 0.5}}, \"type\": \"barpolar\"}], \"carpet\": [{\"aaxis\": {\"endlinecolor\": \"#2a3f5f\", \"gridcolor\": \"white\", \"linecolor\": \"white\", \"minorgridcolor\": \"white\", \"startlinecolor\": \"#2a3f5f\"}, \"baxis\": {\"endlinecolor\": \"#2a3f5f\", \"gridcolor\": \"white\", \"linecolor\": \"white\", \"minorgridcolor\": \"white\", \"startlinecolor\": \"#2a3f5f\"}, \"type\": \"carpet\"}], \"choropleth\": [{\"colorbar\": {\"outlinewidth\": 0, \"ticks\": \"\"}, \"type\": \"choropleth\"}], \"contour\": [{\"colorbar\": {\"outlinewidth\": 0, \"ticks\": \"\"}, \"colorscale\": [[0.0, \"#0d0887\"], [0.1111111111111111, \"#46039f\"], [0.2222222222222222, \"#7201a8\"], [0.3333333333333333, \"#9c179e\"], [0.4444444444444444, \"#bd3786\"], [0.5555555555555556, \"#d8576b\"], [0.6666666666666666, \"#ed7953\"], [0.7777777777777778, \"#fb9f3a\"], [0.8888888888888888, \"#fdca26\"], [1.0, \"#f0f921\"]], \"type\": \"contour\"}], \"contourcarpet\": [{\"colorbar\": {\"outlinewidth\": 0, \"ticks\": \"\"}, \"type\": \"contourcarpet\"}], \"heatmap\": [{\"colorbar\": {\"outlinewidth\": 0, \"ticks\": \"\"}, \"colorscale\": [[0.0, \"#0d0887\"], [0.1111111111111111, \"#46039f\"], [0.2222222222222222, \"#7201a8\"], [0.3333333333333333, \"#9c179e\"], [0.4444444444444444, \"#bd3786\"], [0.5555555555555556, \"#d8576b\"], [0.6666666666666666, \"#ed7953\"], [0.7777777777777778, \"#fb9f3a\"], [0.8888888888888888, \"#fdca26\"], [1.0, \"#f0f921\"]], \"type\": \"heatmap\"}], \"heatmapgl\": [{\"colorbar\": {\"outlinewidth\": 0, \"ticks\": \"\"}, \"colorscale\": [[0.0, \"#0d0887\"], [0.1111111111111111, \"#46039f\"], [0.2222222222222222, \"#7201a8\"], [0.3333333333333333, \"#9c179e\"], [0.4444444444444444, \"#bd3786\"], [0.5555555555555556, \"#d8576b\"], [0.6666666666666666, \"#ed7953\"], [0.7777777777777778, \"#fb9f3a\"], [0.8888888888888888, \"#fdca26\"], [1.0, \"#f0f921\"]], \"type\": \"heatmapgl\"}], \"histogram\": [{\"marker\": {\"colorbar\": {\"outlinewidth\": 0, \"ticks\": \"\"}}, \"type\": \"histogram\"}], \"histogram2d\": [{\"colorbar\": {\"outlinewidth\": 0, \"ticks\": \"\"}, \"colorscale\": [[0.0, \"#0d0887\"], [0.1111111111111111, \"#46039f\"], [0.2222222222222222, \"#7201a8\"], [0.3333333333333333, \"#9c179e\"], [0.4444444444444444, \"#bd3786\"], [0.5555555555555556, \"#d8576b\"], [0.6666666666666666, \"#ed7953\"], [0.7777777777777778, \"#fb9f3a\"], [0.8888888888888888, \"#fdca26\"], [1.0, \"#f0f921\"]], \"type\": \"histogram2d\"}], \"histogram2dcontour\": [{\"colorbar\": {\"outlinewidth\": 0, \"ticks\": \"\"}, \"colorscale\": [[0.0, \"#0d0887\"], [0.1111111111111111, \"#46039f\"], [0.2222222222222222, \"#7201a8\"], [0.3333333333333333, \"#9c179e\"], [0.4444444444444444, \"#bd3786\"], [0.5555555555555556, \"#d8576b\"], [0.6666666666666666, \"#ed7953\"], [0.7777777777777778, \"#fb9f3a\"], [0.8888888888888888, \"#fdca26\"], [1.0, \"#f0f921\"]], \"type\": \"histogram2dcontour\"}], \"mesh3d\": [{\"colorbar\": {\"outlinewidth\": 0, \"ticks\": \"\"}, \"type\": \"mesh3d\"}], \"parcoords\": [{\"line\": {\"colorbar\": {\"outlinewidth\": 0, \"ticks\": \"\"}}, \"type\": \"parcoords\"}], \"pie\": [{\"automargin\": true, \"type\": \"pie\"}], \"scatter\": [{\"marker\": {\"colorbar\": {\"outlinewidth\": 0, \"ticks\": \"\"}}, \"type\": \"scatter\"}], \"scatter3d\": [{\"line\": {\"colorbar\": {\"outlinewidth\": 0, \"ticks\": \"\"}}, \"marker\": {\"colorbar\": {\"outlinewidth\": 0, \"ticks\": \"\"}}, \"type\": \"scatter3d\"}], \"scattercarpet\": [{\"marker\": {\"colorbar\": {\"outlinewidth\": 0, \"ticks\": \"\"}}, \"type\": \"scattercarpet\"}], \"scattergeo\": [{\"marker\": {\"colorbar\": {\"outlinewidth\": 0, \"ticks\": \"\"}}, \"type\": \"scattergeo\"}], \"scattergl\": [{\"marker\": {\"colorbar\": {\"outlinewidth\": 0, \"ticks\": \"\"}}, \"type\": \"scattergl\"}], \"scattermapbox\": [{\"marker\": {\"colorbar\": {\"outlinewidth\": 0, \"ticks\": \"\"}}, \"type\": \"scattermapbox\"}], \"scatterpolar\": [{\"marker\": {\"colorbar\": {\"outlinewidth\": 0, \"ticks\": \"\"}}, \"type\": \"scatterpolar\"}], \"scatterpolargl\": [{\"marker\": {\"colorbar\": {\"outlinewidth\": 0, \"ticks\": \"\"}}, \"type\": \"scatterpolargl\"}], \"scatterternary\": [{\"marker\": {\"colorbar\": {\"outlinewidth\": 0, \"ticks\": \"\"}}, \"type\": \"scatterternary\"}], \"surface\": [{\"colorbar\": {\"outlinewidth\": 0, \"ticks\": \"\"}, \"colorscale\": [[0.0, \"#0d0887\"], [0.1111111111111111, \"#46039f\"], [0.2222222222222222, \"#7201a8\"], [0.3333333333333333, \"#9c179e\"], [0.4444444444444444, \"#bd3786\"], [0.5555555555555556, \"#d8576b\"], [0.6666666666666666, \"#ed7953\"], [0.7777777777777778, \"#fb9f3a\"], [0.8888888888888888, \"#fdca26\"], [1.0, \"#f0f921\"]], \"type\": \"surface\"}], \"table\": [{\"cells\": {\"fill\": {\"color\": \"#EBF0F8\"}, \"line\": {\"color\": \"white\"}}, \"header\": {\"fill\": {\"color\": \"#C8D4E3\"}, \"line\": {\"color\": \"white\"}}, \"type\": \"table\"}]}, \"layout\": {\"annotationdefaults\": {\"arrowcolor\": \"#2a3f5f\", \"arrowhead\": 0, \"arrowwidth\": 1}, \"coloraxis\": {\"colorbar\": {\"outlinewidth\": 0, \"ticks\": \"\"}}, \"colorscale\": {\"diverging\": [[0, \"#8e0152\"], [0.1, \"#c51b7d\"], [0.2, \"#de77ae\"], [0.3, \"#f1b6da\"], [0.4, \"#fde0ef\"], [0.5, \"#f7f7f7\"], [0.6, \"#e6f5d0\"], [0.7, \"#b8e186\"], [0.8, \"#7fbc41\"], [0.9, \"#4d9221\"], [1, \"#276419\"]], \"sequential\": [[0.0, \"#0d0887\"], [0.1111111111111111, \"#46039f\"], [0.2222222222222222, \"#7201a8\"], [0.3333333333333333, \"#9c179e\"], [0.4444444444444444, \"#bd3786\"], [0.5555555555555556, \"#d8576b\"], [0.6666666666666666, \"#ed7953\"], [0.7777777777777778, \"#fb9f3a\"], [0.8888888888888888, \"#fdca26\"], [1.0, \"#f0f921\"]], \"sequentialminus\": [[0.0, \"#0d0887\"], [0.1111111111111111, \"#46039f\"], [0.2222222222222222, \"#7201a8\"], [0.3333333333333333, \"#9c179e\"], [0.4444444444444444, \"#bd3786\"], [0.5555555555555556, \"#d8576b\"], [0.6666666666666666, \"#ed7953\"], [0.7777777777777778, \"#fb9f3a\"], [0.8888888888888888, \"#fdca26\"], [1.0, \"#f0f921\"]]}, \"colorway\": [\"#636efa\", \"#EF553B\", \"#00cc96\", \"#ab63fa\", \"#FFA15A\", \"#19d3f3\", \"#FF6692\", \"#B6E880\", \"#FF97FF\", \"#FECB52\"], \"font\": {\"color\": \"#2a3f5f\"}, \"geo\": {\"bgcolor\": \"white\", \"lakecolor\": \"white\", \"landcolor\": \"#E5ECF6\", \"showlakes\": true, \"showland\": true, \"subunitcolor\": \"white\"}, \"hoverlabel\": {\"align\": \"left\"}, \"hovermode\": \"closest\", \"mapbox\": {\"style\": \"light\"}, \"paper_bgcolor\": \"white\", \"plot_bgcolor\": \"#E5ECF6\", \"polar\": {\"angularaxis\": {\"gridcolor\": \"white\", \"linecolor\": \"white\", \"ticks\": \"\"}, \"bgcolor\": \"#E5ECF6\", \"radialaxis\": {\"gridcolor\": \"white\", \"linecolor\": \"white\", \"ticks\": \"\"}}, \"scene\": {\"xaxis\": {\"backgroundcolor\": \"#E5ECF6\", \"gridcolor\": \"white\", \"gridwidth\": 2, \"linecolor\": \"white\", \"showbackground\": true, \"ticks\": \"\", \"zerolinecolor\": \"white\"}, \"yaxis\": {\"backgroundcolor\": \"#E5ECF6\", \"gridcolor\": \"white\", \"gridwidth\": 2, \"linecolor\": \"white\", \"showbackground\": true, \"ticks\": \"\", \"zerolinecolor\": \"white\"}, \"zaxis\": {\"backgroundcolor\": \"#E5ECF6\", \"gridcolor\": \"white\", \"gridwidth\": 2, \"linecolor\": \"white\", \"showbackground\": true, \"ticks\": \"\", \"zerolinecolor\": \"white\"}}, \"shapedefaults\": {\"line\": {\"color\": \"#2a3f5f\"}}, \"ternary\": {\"aaxis\": {\"gridcolor\": \"white\", \"linecolor\": \"white\", \"ticks\": \"\"}, \"baxis\": {\"gridcolor\": \"white\", \"linecolor\": \"white\", \"ticks\": \"\"}, \"bgcolor\": \"#E5ECF6\", \"caxis\": {\"gridcolor\": \"white\", \"linecolor\": \"white\", \"ticks\": \"\"}}, \"title\": {\"x\": 0.05}, \"xaxis\": {\"automargin\": true, \"gridcolor\": \"white\", \"linecolor\": \"white\", \"ticks\": \"\", \"title\": {\"standoff\": 15}, \"zerolinecolor\": \"white\", \"zerolinewidth\": 2}, \"yaxis\": {\"automargin\": true, \"gridcolor\": \"white\", \"linecolor\": \"white\", \"ticks\": \"\", \"title\": {\"standoff\": 15}, \"zerolinecolor\": \"white\", \"zerolinewidth\": 2}}}, \"title\": {\"text\": \"Fitness populacija svih generacija\"}, \"xaxis\": {\"title\": {\"text\": \"Generacije populacija\"}, \"type\": \"category\"}, \"yaxis\": {\"range\": [0, 1000], \"title\": {\"text\": \"Fitness populacije\"}}},\n",
       "                        {\"responsive\": true}\n",
       "                    ).then(function(){\n",
       "                            \n",
       "var gd = document.getElementById('f6ddd298-429c-47b3-934f-862bde68b6c1');\n",
       "var x = new MutationObserver(function (mutations, observer) {{\n",
       "        var display = window.getComputedStyle(gd).display;\n",
       "        if (!display || display === 'none') {{\n",
       "            console.log([gd, 'removed!']);\n",
       "            Plotly.purge(gd);\n",
       "            observer.disconnect();\n",
       "        }}\n",
       "}});\n",
       "\n",
       "// Listen for the removal of the full notebook cells\n",
       "var notebookContainer = gd.closest('#notebook-container');\n",
       "if (notebookContainer) {{\n",
       "    x.observe(notebookContainer, {childList: true});\n",
       "}}\n",
       "\n",
       "// Listen for the clearing of the current output cell\n",
       "var outputEl = gd.closest('.output');\n",
       "if (outputEl) {{\n",
       "    x.observe(outputEl, {childList: true});\n",
       "}}\n",
       "\n",
       "                        })\n",
       "                };\n",
       "                });\n",
       "            </script>\n",
       "        </div>"
      ]
     },
     "metadata": {},
     "output_type": "display_data"
    }
   ],
   "source": [
    "plot_generation_fitness(ulazni_podaci)"
   ]
  },
  {
   "cell_type": "code",
   "execution_count": 10,
   "metadata": {},
   "outputs": [],
   "source": [
    "def plot_fitness(ulazni_podaci):\n",
    "    x = list(range(ulazni_podaci['parametri']['n_pop']))\n",
    "    data = []\n",
    "    for i in range(len(generacije['all'])):\n",
    "        data.append(go.Bar(x=x, y=[jedinka['fit'] for jedinka in generacije['all'][i]['all']], visible = False, name=\"fitness\"))\n",
    "    data[0]['visible'] = True\n",
    "    steps = []\n",
    "    for i in range(len(data)):\n",
    "        step = dict(method = 'update', \n",
    "                    args = [{'visible': [t == i for t in range(len(data))]}, \n",
    "                            {'title.text': f'Fitness populacija {i + 1}. generacije'}], \n",
    "                    label = f'{i + 1}. gen')\n",
    "        steps.append(step)\n",
    "\n",
    "    sliders = [dict(\n",
    "        active=0,\n",
    "        currentvalue={\"prefix\": \"Generacija: \"},\n",
    "        pad={\"t\": 50},\n",
    "        steps=steps,\n",
    "        transition=dict(easing = \"bounce-in-out\")\n",
    "    )]\n",
    "    layout = go.Layout(\n",
    "        yaxis=dict(title='Fitness jedinki', range=[0, 1000]),\n",
    "        xaxis=dict(title='Jedinke generacija', type='category'),\n",
    "        title=f'Fitness populacija 1. generacije',\n",
    "        showlegend = False)\n",
    "\n",
    "    fig = go.Figure(data=data, layout=layout)\n",
    "    fig.update_layout(\n",
    "        sliders=sliders\n",
    "    )\n",
    "    py.iplot(fig, filename='fitness-one-population')"
   ]
  },
  {
   "cell_type": "code",
   "execution_count": 11,
   "metadata": {},
   "outputs": [
    {
     "data": {
      "application/vnd.plotly.v1+json": {
       "config": {
        "linkText": "Export to plot.ly",
        "plotlyServerURL": "https://plot.ly",
        "showLink": false
       },
       "data": [
        {
         "name": "fitness",
         "type": "bar",
         "visible": true,
         "x": [
          0,
          1,
          2,
          3,
          4,
          5,
          6,
          7,
          8,
          9
         ],
         "y": [
          7.530878353801831,
          0.8507630225817856,
          0.7607724051289604,
          0.7841397702834059,
          0.21921246335985956,
          0.07530878353801829,
          8.089020788186714,
          79.2724037242298,
          0.16164497429053903,
          0.0015213895664246112
         ]
        },
        {
         "name": "fitness",
         "type": "bar",
         "visible": false,
         "x": [
          0,
          1,
          2,
          3,
          4,
          5,
          6,
          7,
          8,
          9
         ],
         "y": [
          80.89020788186716,
          0.8507630225817856,
          8.089020788186714,
          0.8254102845088483,
          0.8008130580304847,
          7.154334436111739,
          0.7606947832123061,
          1.5369139497554747,
          0.8422553923559677,
          0.008007313507497954
         ]
        },
        {
         "name": "fitness",
         "type": "bar",
         "visible": false,
         "x": [
          0,
          1,
          2,
          3,
          4,
          5,
          6,
          7,
          8,
          9
         ],
         "y": [
          8.089020788186714,
          80.89020788186716,
          80.89020788186716,
          7.530878353801831,
          78.41397702834061,
          1.5049147106449194,
          8.089020788186714,
          80.89020788186716,
          817.15618166376,
          0.0007762191665431689
         ]
        },
        {
         "name": "fitness",
         "type": "bar",
         "visible": false,
         "x": [
          0,
          1,
          2,
          3,
          4,
          5,
          6,
          7,
          8,
          9
         ],
         "y": [
          80.89020788186716,
          80.89020788186716,
          80.08130580304848,
          77.62983725805721,
          808.9846198471224,
          8.089020788186714,
          82.54102845088485,
          79.27240372422982,
          15.6843956909136,
          722.6600440516909
         ]
        },
        {
         "name": "fitness",
         "type": "bar",
         "visible": false,
         "x": [
          0,
          1,
          2,
          3,
          4,
          5,
          6,
          7,
          8,
          9
         ],
         "y": [
          715.433443611174,
          81.715618166376,
          760.7724051289606,
          808.9020788186714,
          722.6600440516909,
          77.62983725805721,
          79.27240372422982,
          833.8328384324082,
          792.724037242298,
          776.2191665431695
         ]
        },
        {
         "name": "fitness",
         "type": "bar",
         "visible": false,
         "x": [
          0,
          1,
          2,
          3,
          4,
          5,
          6,
          7,
          8,
          9
         ],
         "y": [
          79.20603740236425,
          760.7724051289603,
          83.374776213015,
          776.2983725805719,
          8.254945100480843,
          722.6600440516909,
          722.6600440516909,
          792.724037242298,
          760.7724051289606,
          825.4102845088485
         ]
        },
        {
         "name": "fitness",
         "type": "bar",
         "visible": false,
         "x": [
          0,
          1,
          2,
          3,
          4,
          5,
          6,
          7,
          8,
          9
         ],
         "y": [
          784.139770283406,
          808.9020788186714,
          737.4082082160111,
          784.7967968698748,
          722.6600440516909,
          760.7724051289606,
          808.9020788186714,
          784.139770283406,
          792.8049274501797,
          744.9327817692357
         ]
        },
        {
         "name": "fitness",
         "type": "bar",
         "visible": false,
         "x": [
          0,
          1,
          2,
          3,
          4,
          5,
          6,
          7,
          8,
          9
         ],
         "y": [
          792.8049274501797,
          808.9020788186714,
          768.4569748777379,
          784.8768781756779,
          808.9020788186714,
          792.8049274501797,
          792.8049274501797,
          784.139770283406,
          792.8049274501797,
          792.724037242298
         ]
        },
        {
         "name": "fitness",
         "type": "bar",
         "visible": false,
         "x": [
          0,
          1,
          2,
          3,
          4,
          5,
          6,
          7,
          8,
          9
         ],
         "y": [
          792.8049274501797,
          808.9020788186714,
          808.9020788186714,
          808.9020788186714,
          808.9020788186714,
          808.9020788186714,
          800.8130580304847,
          800.8130580304846,
          800.8130580304846,
          808.9020788186715
         ]
        },
        {
         "name": "fitness",
         "type": "bar",
         "visible": false,
         "x": [
          0,
          1,
          2,
          3,
          4,
          5,
          6,
          7,
          8,
          9
         ],
         "y": [
          808.9020788186714,
          808.9020788186714,
          808.9020788186714,
          808.9020788186715,
          808.9020788186715,
          808.9020788186714,
          808.9020788186714,
          808.9020788186714,
          808.9020788186714,
          808.9020788186714
         ]
        },
        {
         "name": "fitness",
         "type": "bar",
         "visible": false,
         "x": [
          0,
          1,
          2,
          3,
          4,
          5,
          6,
          7,
          8,
          9
         ],
         "y": [
          817.0728068875469,
          800.8130580304847,
          800.8130580304847,
          817.0728068875469,
          808.9020788186714,
          808.9020788186714,
          808.9020788186715,
          808.9020788186715,
          808.9020788186714,
          808.9020788186715
         ]
        },
        {
         "name": "fitness",
         "type": "bar",
         "visible": false,
         "x": [
          0,
          1,
          2,
          3,
          4,
          5,
          6,
          7,
          8,
          9
         ],
         "y": [
          817.0728068875469,
          800.8130580304847,
          817.0728068875469,
          817.0728068875469,
          817.0728068875469,
          808.9020788186715,
          808.9020788186715,
          808.9020788186715,
          808.9020788186715,
          817.0728068875469
         ]
        },
        {
         "name": "fitness",
         "type": "bar",
         "visible": false,
         "x": [
          0,
          1,
          2,
          3,
          4,
          5,
          6,
          7,
          8,
          9
         ],
         "y": [
          817.0728068875469,
          817.0728068875469,
          817.0728068875469,
          817.0728068875469,
          817.0728068875469,
          808.9020788186715,
          817.0728068875469,
          817.0728068875469,
          817.0728068875469,
          817.0728068875469
         ]
        },
        {
         "name": "fitness",
         "type": "bar",
         "visible": false,
         "x": [
          0,
          1,
          2,
          3,
          4,
          5,
          6,
          7,
          8,
          9
         ],
         "y": [
          817.0728068875469,
          817.0728068875469,
          817.0728068875469,
          817.0728068875469,
          817.0728068875469,
          817.0728068875469,
          817.0728068875469,
          817.0728068875469,
          817.0728068875469,
          817.0728068875469
         ]
        },
        {
         "name": "fitness",
         "type": "bar",
         "visible": false,
         "x": [
          0,
          1,
          2,
          3,
          4,
          5,
          6,
          7,
          8,
          9
         ],
         "y": [
          817.0728068875469,
          817.0728068875469,
          817.0728068875469,
          817.0728068875469,
          817.0728068875469,
          817.0728068875469,
          817.0728068875469,
          817.0728068875469,
          817.0728068875469,
          817.0728068875469
         ]
        },
        {
         "name": "fitness",
         "type": "bar",
         "visible": false,
         "x": [
          0,
          1,
          2,
          3,
          4,
          5,
          6,
          7,
          8,
          9
         ],
         "y": [
          817.0728068875469,
          817.0728068875469,
          817.0728068875469,
          817.0728068875469,
          817.0728068875469,
          817.0728068875469,
          817.0728068875469,
          817.0728068875469,
          817.0728068875469,
          817.0728068875469
         ]
        },
        {
         "name": "fitness",
         "type": "bar",
         "visible": false,
         "x": [
          0,
          1,
          2,
          3,
          4,
          5,
          6,
          7,
          8,
          9
         ],
         "y": [
          817.0728068875469,
          817.0728068875469,
          817.0728068875469,
          817.0728068875469,
          817.0728068875469,
          817.0728068875469,
          817.0728068875469,
          817.0728068875469,
          817.0728068875469,
          817.0728068875469
         ]
        },
        {
         "name": "fitness",
         "type": "bar",
         "visible": false,
         "x": [
          0,
          1,
          2,
          3,
          4,
          5,
          6,
          7,
          8,
          9
         ],
         "y": [
          817.0728068875469,
          817.0728068875469,
          817.0728068875469,
          817.0728068875469,
          817.0728068875469,
          817.0728068875469,
          817.0728068875469,
          817.0728068875469,
          817.0728068875469,
          817.0728068875469
         ]
        },
        {
         "name": "fitness",
         "type": "bar",
         "visible": false,
         "x": [
          0,
          1,
          2,
          3,
          4,
          5,
          6,
          7,
          8,
          9
         ],
         "y": [
          817.0728068875469,
          817.0728068875469,
          817.0728068875469,
          817.0728068875469,
          817.0728068875469,
          817.0728068875469,
          817.0728068875469,
          817.0728068875469,
          817.0728068875469,
          817.0728068875469
         ]
        },
        {
         "name": "fitness",
         "type": "bar",
         "visible": false,
         "x": [
          0,
          1,
          2,
          3,
          4,
          5,
          6,
          7,
          8,
          9
         ],
         "y": [
          817.0728068875469,
          817.0728068875469,
          817.0728068875469,
          817.0728068875469,
          817.0728068875469,
          817.0728068875469,
          817.0728068875469,
          817.0728068875469,
          817.0728068875469,
          817.0728068875469
         ]
        }
       ],
       "layout": {
        "showlegend": false,
        "sliders": [
         {
          "active": 0,
          "currentvalue": {
           "prefix": "Generacija: "
          },
          "pad": {
           "t": 50
          },
          "steps": [
           {
            "args": [
             {
              "visible": [
               true,
               false,
               false,
               false,
               false,
               false,
               false,
               false,
               false,
               false,
               false,
               false,
               false,
               false,
               false,
               false,
               false,
               false,
               false,
               false
              ]
             },
             {
              "title.text": "Fitness populacija 1. generacije"
             }
            ],
            "label": "1. gen",
            "method": "update"
           },
           {
            "args": [
             {
              "visible": [
               false,
               true,
               false,
               false,
               false,
               false,
               false,
               false,
               false,
               false,
               false,
               false,
               false,
               false,
               false,
               false,
               false,
               false,
               false,
               false
              ]
             },
             {
              "title.text": "Fitness populacija 2. generacije"
             }
            ],
            "label": "2. gen",
            "method": "update"
           },
           {
            "args": [
             {
              "visible": [
               false,
               false,
               true,
               false,
               false,
               false,
               false,
               false,
               false,
               false,
               false,
               false,
               false,
               false,
               false,
               false,
               false,
               false,
               false,
               false
              ]
             },
             {
              "title.text": "Fitness populacija 3. generacije"
             }
            ],
            "label": "3. gen",
            "method": "update"
           },
           {
            "args": [
             {
              "visible": [
               false,
               false,
               false,
               true,
               false,
               false,
               false,
               false,
               false,
               false,
               false,
               false,
               false,
               false,
               false,
               false,
               false,
               false,
               false,
               false
              ]
             },
             {
              "title.text": "Fitness populacija 4. generacije"
             }
            ],
            "label": "4. gen",
            "method": "update"
           },
           {
            "args": [
             {
              "visible": [
               false,
               false,
               false,
               false,
               true,
               false,
               false,
               false,
               false,
               false,
               false,
               false,
               false,
               false,
               false,
               false,
               false,
               false,
               false,
               false
              ]
             },
             {
              "title.text": "Fitness populacija 5. generacije"
             }
            ],
            "label": "5. gen",
            "method": "update"
           },
           {
            "args": [
             {
              "visible": [
               false,
               false,
               false,
               false,
               false,
               true,
               false,
               false,
               false,
               false,
               false,
               false,
               false,
               false,
               false,
               false,
               false,
               false,
               false,
               false
              ]
             },
             {
              "title.text": "Fitness populacija 6. generacije"
             }
            ],
            "label": "6. gen",
            "method": "update"
           },
           {
            "args": [
             {
              "visible": [
               false,
               false,
               false,
               false,
               false,
               false,
               true,
               false,
               false,
               false,
               false,
               false,
               false,
               false,
               false,
               false,
               false,
               false,
               false,
               false
              ]
             },
             {
              "title.text": "Fitness populacija 7. generacije"
             }
            ],
            "label": "7. gen",
            "method": "update"
           },
           {
            "args": [
             {
              "visible": [
               false,
               false,
               false,
               false,
               false,
               false,
               false,
               true,
               false,
               false,
               false,
               false,
               false,
               false,
               false,
               false,
               false,
               false,
               false,
               false
              ]
             },
             {
              "title.text": "Fitness populacija 8. generacije"
             }
            ],
            "label": "8. gen",
            "method": "update"
           },
           {
            "args": [
             {
              "visible": [
               false,
               false,
               false,
               false,
               false,
               false,
               false,
               false,
               true,
               false,
               false,
               false,
               false,
               false,
               false,
               false,
               false,
               false,
               false,
               false
              ]
             },
             {
              "title.text": "Fitness populacija 9. generacije"
             }
            ],
            "label": "9. gen",
            "method": "update"
           },
           {
            "args": [
             {
              "visible": [
               false,
               false,
               false,
               false,
               false,
               false,
               false,
               false,
               false,
               true,
               false,
               false,
               false,
               false,
               false,
               false,
               false,
               false,
               false,
               false
              ]
             },
             {
              "title.text": "Fitness populacija 10. generacije"
             }
            ],
            "label": "10. gen",
            "method": "update"
           },
           {
            "args": [
             {
              "visible": [
               false,
               false,
               false,
               false,
               false,
               false,
               false,
               false,
               false,
               false,
               true,
               false,
               false,
               false,
               false,
               false,
               false,
               false,
               false,
               false
              ]
             },
             {
              "title.text": "Fitness populacija 11. generacije"
             }
            ],
            "label": "11. gen",
            "method": "update"
           },
           {
            "args": [
             {
              "visible": [
               false,
               false,
               false,
               false,
               false,
               false,
               false,
               false,
               false,
               false,
               false,
               true,
               false,
               false,
               false,
               false,
               false,
               false,
               false,
               false
              ]
             },
             {
              "title.text": "Fitness populacija 12. generacije"
             }
            ],
            "label": "12. gen",
            "method": "update"
           },
           {
            "args": [
             {
              "visible": [
               false,
               false,
               false,
               false,
               false,
               false,
               false,
               false,
               false,
               false,
               false,
               false,
               true,
               false,
               false,
               false,
               false,
               false,
               false,
               false
              ]
             },
             {
              "title.text": "Fitness populacija 13. generacije"
             }
            ],
            "label": "13. gen",
            "method": "update"
           },
           {
            "args": [
             {
              "visible": [
               false,
               false,
               false,
               false,
               false,
               false,
               false,
               false,
               false,
               false,
               false,
               false,
               false,
               true,
               false,
               false,
               false,
               false,
               false,
               false
              ]
             },
             {
              "title.text": "Fitness populacija 14. generacije"
             }
            ],
            "label": "14. gen",
            "method": "update"
           },
           {
            "args": [
             {
              "visible": [
               false,
               false,
               false,
               false,
               false,
               false,
               false,
               false,
               false,
               false,
               false,
               false,
               false,
               false,
               true,
               false,
               false,
               false,
               false,
               false
              ]
             },
             {
              "title.text": "Fitness populacija 15. generacije"
             }
            ],
            "label": "15. gen",
            "method": "update"
           },
           {
            "args": [
             {
              "visible": [
               false,
               false,
               false,
               false,
               false,
               false,
               false,
               false,
               false,
               false,
               false,
               false,
               false,
               false,
               false,
               true,
               false,
               false,
               false,
               false
              ]
             },
             {
              "title.text": "Fitness populacija 16. generacije"
             }
            ],
            "label": "16. gen",
            "method": "update"
           },
           {
            "args": [
             {
              "visible": [
               false,
               false,
               false,
               false,
               false,
               false,
               false,
               false,
               false,
               false,
               false,
               false,
               false,
               false,
               false,
               false,
               true,
               false,
               false,
               false
              ]
             },
             {
              "title.text": "Fitness populacija 17. generacije"
             }
            ],
            "label": "17. gen",
            "method": "update"
           },
           {
            "args": [
             {
              "visible": [
               false,
               false,
               false,
               false,
               false,
               false,
               false,
               false,
               false,
               false,
               false,
               false,
               false,
               false,
               false,
               false,
               false,
               true,
               false,
               false
              ]
             },
             {
              "title.text": "Fitness populacija 18. generacije"
             }
            ],
            "label": "18. gen",
            "method": "update"
           },
           {
            "args": [
             {
              "visible": [
               false,
               false,
               false,
               false,
               false,
               false,
               false,
               false,
               false,
               false,
               false,
               false,
               false,
               false,
               false,
               false,
               false,
               false,
               true,
               false
              ]
             },
             {
              "title.text": "Fitness populacija 19. generacije"
             }
            ],
            "label": "19. gen",
            "method": "update"
           },
           {
            "args": [
             {
              "visible": [
               false,
               false,
               false,
               false,
               false,
               false,
               false,
               false,
               false,
               false,
               false,
               false,
               false,
               false,
               false,
               false,
               false,
               false,
               false,
               true
              ]
             },
             {
              "title.text": "Fitness populacija 20. generacije"
             }
            ],
            "label": "20. gen",
            "method": "update"
           }
          ],
          "transition": {
           "easing": "bounce-in-out"
          }
         }
        ],
        "template": {
         "data": {
          "bar": [
           {
            "error_x": {
             "color": "#2a3f5f"
            },
            "error_y": {
             "color": "#2a3f5f"
            },
            "marker": {
             "line": {
              "color": "#E5ECF6",
              "width": 0.5
             }
            },
            "type": "bar"
           }
          ],
          "barpolar": [
           {
            "marker": {
             "line": {
              "color": "#E5ECF6",
              "width": 0.5
             }
            },
            "type": "barpolar"
           }
          ],
          "carpet": [
           {
            "aaxis": {
             "endlinecolor": "#2a3f5f",
             "gridcolor": "white",
             "linecolor": "white",
             "minorgridcolor": "white",
             "startlinecolor": "#2a3f5f"
            },
            "baxis": {
             "endlinecolor": "#2a3f5f",
             "gridcolor": "white",
             "linecolor": "white",
             "minorgridcolor": "white",
             "startlinecolor": "#2a3f5f"
            },
            "type": "carpet"
           }
          ],
          "choropleth": [
           {
            "colorbar": {
             "outlinewidth": 0,
             "ticks": ""
            },
            "type": "choropleth"
           }
          ],
          "contour": [
           {
            "colorbar": {
             "outlinewidth": 0,
             "ticks": ""
            },
            "colorscale": [
             [
              0,
              "#0d0887"
             ],
             [
              0.1111111111111111,
              "#46039f"
             ],
             [
              0.2222222222222222,
              "#7201a8"
             ],
             [
              0.3333333333333333,
              "#9c179e"
             ],
             [
              0.4444444444444444,
              "#bd3786"
             ],
             [
              0.5555555555555556,
              "#d8576b"
             ],
             [
              0.6666666666666666,
              "#ed7953"
             ],
             [
              0.7777777777777778,
              "#fb9f3a"
             ],
             [
              0.8888888888888888,
              "#fdca26"
             ],
             [
              1,
              "#f0f921"
             ]
            ],
            "type": "contour"
           }
          ],
          "contourcarpet": [
           {
            "colorbar": {
             "outlinewidth": 0,
             "ticks": ""
            },
            "type": "contourcarpet"
           }
          ],
          "heatmap": [
           {
            "colorbar": {
             "outlinewidth": 0,
             "ticks": ""
            },
            "colorscale": [
             [
              0,
              "#0d0887"
             ],
             [
              0.1111111111111111,
              "#46039f"
             ],
             [
              0.2222222222222222,
              "#7201a8"
             ],
             [
              0.3333333333333333,
              "#9c179e"
             ],
             [
              0.4444444444444444,
              "#bd3786"
             ],
             [
              0.5555555555555556,
              "#d8576b"
             ],
             [
              0.6666666666666666,
              "#ed7953"
             ],
             [
              0.7777777777777778,
              "#fb9f3a"
             ],
             [
              0.8888888888888888,
              "#fdca26"
             ],
             [
              1,
              "#f0f921"
             ]
            ],
            "type": "heatmap"
           }
          ],
          "heatmapgl": [
           {
            "colorbar": {
             "outlinewidth": 0,
             "ticks": ""
            },
            "colorscale": [
             [
              0,
              "#0d0887"
             ],
             [
              0.1111111111111111,
              "#46039f"
             ],
             [
              0.2222222222222222,
              "#7201a8"
             ],
             [
              0.3333333333333333,
              "#9c179e"
             ],
             [
              0.4444444444444444,
              "#bd3786"
             ],
             [
              0.5555555555555556,
              "#d8576b"
             ],
             [
              0.6666666666666666,
              "#ed7953"
             ],
             [
              0.7777777777777778,
              "#fb9f3a"
             ],
             [
              0.8888888888888888,
              "#fdca26"
             ],
             [
              1,
              "#f0f921"
             ]
            ],
            "type": "heatmapgl"
           }
          ],
          "histogram": [
           {
            "marker": {
             "colorbar": {
              "outlinewidth": 0,
              "ticks": ""
             }
            },
            "type": "histogram"
           }
          ],
          "histogram2d": [
           {
            "colorbar": {
             "outlinewidth": 0,
             "ticks": ""
            },
            "colorscale": [
             [
              0,
              "#0d0887"
             ],
             [
              0.1111111111111111,
              "#46039f"
             ],
             [
              0.2222222222222222,
              "#7201a8"
             ],
             [
              0.3333333333333333,
              "#9c179e"
             ],
             [
              0.4444444444444444,
              "#bd3786"
             ],
             [
              0.5555555555555556,
              "#d8576b"
             ],
             [
              0.6666666666666666,
              "#ed7953"
             ],
             [
              0.7777777777777778,
              "#fb9f3a"
             ],
             [
              0.8888888888888888,
              "#fdca26"
             ],
             [
              1,
              "#f0f921"
             ]
            ],
            "type": "histogram2d"
           }
          ],
          "histogram2dcontour": [
           {
            "colorbar": {
             "outlinewidth": 0,
             "ticks": ""
            },
            "colorscale": [
             [
              0,
              "#0d0887"
             ],
             [
              0.1111111111111111,
              "#46039f"
             ],
             [
              0.2222222222222222,
              "#7201a8"
             ],
             [
              0.3333333333333333,
              "#9c179e"
             ],
             [
              0.4444444444444444,
              "#bd3786"
             ],
             [
              0.5555555555555556,
              "#d8576b"
             ],
             [
              0.6666666666666666,
              "#ed7953"
             ],
             [
              0.7777777777777778,
              "#fb9f3a"
             ],
             [
              0.8888888888888888,
              "#fdca26"
             ],
             [
              1,
              "#f0f921"
             ]
            ],
            "type": "histogram2dcontour"
           }
          ],
          "mesh3d": [
           {
            "colorbar": {
             "outlinewidth": 0,
             "ticks": ""
            },
            "type": "mesh3d"
           }
          ],
          "parcoords": [
           {
            "line": {
             "colorbar": {
              "outlinewidth": 0,
              "ticks": ""
             }
            },
            "type": "parcoords"
           }
          ],
          "pie": [
           {
            "automargin": true,
            "type": "pie"
           }
          ],
          "scatter": [
           {
            "marker": {
             "colorbar": {
              "outlinewidth": 0,
              "ticks": ""
             }
            },
            "type": "scatter"
           }
          ],
          "scatter3d": [
           {
            "line": {
             "colorbar": {
              "outlinewidth": 0,
              "ticks": ""
             }
            },
            "marker": {
             "colorbar": {
              "outlinewidth": 0,
              "ticks": ""
             }
            },
            "type": "scatter3d"
           }
          ],
          "scattercarpet": [
           {
            "marker": {
             "colorbar": {
              "outlinewidth": 0,
              "ticks": ""
             }
            },
            "type": "scattercarpet"
           }
          ],
          "scattergeo": [
           {
            "marker": {
             "colorbar": {
              "outlinewidth": 0,
              "ticks": ""
             }
            },
            "type": "scattergeo"
           }
          ],
          "scattergl": [
           {
            "marker": {
             "colorbar": {
              "outlinewidth": 0,
              "ticks": ""
             }
            },
            "type": "scattergl"
           }
          ],
          "scattermapbox": [
           {
            "marker": {
             "colorbar": {
              "outlinewidth": 0,
              "ticks": ""
             }
            },
            "type": "scattermapbox"
           }
          ],
          "scatterpolar": [
           {
            "marker": {
             "colorbar": {
              "outlinewidth": 0,
              "ticks": ""
             }
            },
            "type": "scatterpolar"
           }
          ],
          "scatterpolargl": [
           {
            "marker": {
             "colorbar": {
              "outlinewidth": 0,
              "ticks": ""
             }
            },
            "type": "scatterpolargl"
           }
          ],
          "scatterternary": [
           {
            "marker": {
             "colorbar": {
              "outlinewidth": 0,
              "ticks": ""
             }
            },
            "type": "scatterternary"
           }
          ],
          "surface": [
           {
            "colorbar": {
             "outlinewidth": 0,
             "ticks": ""
            },
            "colorscale": [
             [
              0,
              "#0d0887"
             ],
             [
              0.1111111111111111,
              "#46039f"
             ],
             [
              0.2222222222222222,
              "#7201a8"
             ],
             [
              0.3333333333333333,
              "#9c179e"
             ],
             [
              0.4444444444444444,
              "#bd3786"
             ],
             [
              0.5555555555555556,
              "#d8576b"
             ],
             [
              0.6666666666666666,
              "#ed7953"
             ],
             [
              0.7777777777777778,
              "#fb9f3a"
             ],
             [
              0.8888888888888888,
              "#fdca26"
             ],
             [
              1,
              "#f0f921"
             ]
            ],
            "type": "surface"
           }
          ],
          "table": [
           {
            "cells": {
             "fill": {
              "color": "#EBF0F8"
             },
             "line": {
              "color": "white"
             }
            },
            "header": {
             "fill": {
              "color": "#C8D4E3"
             },
             "line": {
              "color": "white"
             }
            },
            "type": "table"
           }
          ]
         },
         "layout": {
          "annotationdefaults": {
           "arrowcolor": "#2a3f5f",
           "arrowhead": 0,
           "arrowwidth": 1
          },
          "coloraxis": {
           "colorbar": {
            "outlinewidth": 0,
            "ticks": ""
           }
          },
          "colorscale": {
           "diverging": [
            [
             0,
             "#8e0152"
            ],
            [
             0.1,
             "#c51b7d"
            ],
            [
             0.2,
             "#de77ae"
            ],
            [
             0.3,
             "#f1b6da"
            ],
            [
             0.4,
             "#fde0ef"
            ],
            [
             0.5,
             "#f7f7f7"
            ],
            [
             0.6,
             "#e6f5d0"
            ],
            [
             0.7,
             "#b8e186"
            ],
            [
             0.8,
             "#7fbc41"
            ],
            [
             0.9,
             "#4d9221"
            ],
            [
             1,
             "#276419"
            ]
           ],
           "sequential": [
            [
             0,
             "#0d0887"
            ],
            [
             0.1111111111111111,
             "#46039f"
            ],
            [
             0.2222222222222222,
             "#7201a8"
            ],
            [
             0.3333333333333333,
             "#9c179e"
            ],
            [
             0.4444444444444444,
             "#bd3786"
            ],
            [
             0.5555555555555556,
             "#d8576b"
            ],
            [
             0.6666666666666666,
             "#ed7953"
            ],
            [
             0.7777777777777778,
             "#fb9f3a"
            ],
            [
             0.8888888888888888,
             "#fdca26"
            ],
            [
             1,
             "#f0f921"
            ]
           ],
           "sequentialminus": [
            [
             0,
             "#0d0887"
            ],
            [
             0.1111111111111111,
             "#46039f"
            ],
            [
             0.2222222222222222,
             "#7201a8"
            ],
            [
             0.3333333333333333,
             "#9c179e"
            ],
            [
             0.4444444444444444,
             "#bd3786"
            ],
            [
             0.5555555555555556,
             "#d8576b"
            ],
            [
             0.6666666666666666,
             "#ed7953"
            ],
            [
             0.7777777777777778,
             "#fb9f3a"
            ],
            [
             0.8888888888888888,
             "#fdca26"
            ],
            [
             1,
             "#f0f921"
            ]
           ]
          },
          "colorway": [
           "#636efa",
           "#EF553B",
           "#00cc96",
           "#ab63fa",
           "#FFA15A",
           "#19d3f3",
           "#FF6692",
           "#B6E880",
           "#FF97FF",
           "#FECB52"
          ],
          "font": {
           "color": "#2a3f5f"
          },
          "geo": {
           "bgcolor": "white",
           "lakecolor": "white",
           "landcolor": "#E5ECF6",
           "showlakes": true,
           "showland": true,
           "subunitcolor": "white"
          },
          "hoverlabel": {
           "align": "left"
          },
          "hovermode": "closest",
          "mapbox": {
           "style": "light"
          },
          "paper_bgcolor": "white",
          "plot_bgcolor": "#E5ECF6",
          "polar": {
           "angularaxis": {
            "gridcolor": "white",
            "linecolor": "white",
            "ticks": ""
           },
           "bgcolor": "#E5ECF6",
           "radialaxis": {
            "gridcolor": "white",
            "linecolor": "white",
            "ticks": ""
           }
          },
          "scene": {
           "xaxis": {
            "backgroundcolor": "#E5ECF6",
            "gridcolor": "white",
            "gridwidth": 2,
            "linecolor": "white",
            "showbackground": true,
            "ticks": "",
            "zerolinecolor": "white"
           },
           "yaxis": {
            "backgroundcolor": "#E5ECF6",
            "gridcolor": "white",
            "gridwidth": 2,
            "linecolor": "white",
            "showbackground": true,
            "ticks": "",
            "zerolinecolor": "white"
           },
           "zaxis": {
            "backgroundcolor": "#E5ECF6",
            "gridcolor": "white",
            "gridwidth": 2,
            "linecolor": "white",
            "showbackground": true,
            "ticks": "",
            "zerolinecolor": "white"
           }
          },
          "shapedefaults": {
           "line": {
            "color": "#2a3f5f"
           }
          },
          "ternary": {
           "aaxis": {
            "gridcolor": "white",
            "linecolor": "white",
            "ticks": ""
           },
           "baxis": {
            "gridcolor": "white",
            "linecolor": "white",
            "ticks": ""
           },
           "bgcolor": "#E5ECF6",
           "caxis": {
            "gridcolor": "white",
            "linecolor": "white",
            "ticks": ""
           }
          },
          "title": {
           "x": 0.05
          },
          "xaxis": {
           "automargin": true,
           "gridcolor": "white",
           "linecolor": "white",
           "ticks": "",
           "title": {
            "standoff": 15
           },
           "zerolinecolor": "white",
           "zerolinewidth": 2
          },
          "yaxis": {
           "automargin": true,
           "gridcolor": "white",
           "linecolor": "white",
           "ticks": "",
           "title": {
            "standoff": 15
           },
           "zerolinecolor": "white",
           "zerolinewidth": 2
          }
         }
        },
        "title": {
         "text": "Fitness populacija 1. generacije"
        },
        "xaxis": {
         "title": {
          "text": "Jedinke generacija"
         },
         "type": "category"
        },
        "yaxis": {
         "range": [
          0,
          1000
         ],
         "title": {
          "text": "Fitness jedinki"
         }
        }
       }
      },
      "text/html": [
       "<div>\n",
       "        \n",
       "        \n",
       "            <div id=\"8087a453-1f79-45cf-bf44-4423cabecb39\" class=\"plotly-graph-div\" style=\"height:525px; width:100%;\"></div>\n",
       "            <script type=\"text/javascript\">\n",
       "                require([\"plotly\"], function(Plotly) {\n",
       "                    window.PLOTLYENV=window.PLOTLYENV || {};\n",
       "                    \n",
       "                if (document.getElementById(\"8087a453-1f79-45cf-bf44-4423cabecb39\")) {\n",
       "                    Plotly.newPlot(\n",
       "                        '8087a453-1f79-45cf-bf44-4423cabecb39',\n",
       "                        [{\"name\": \"fitness\", \"type\": \"bar\", \"visible\": true, \"x\": [0, 1, 2, 3, 4, 5, 6, 7, 8, 9], \"y\": [7.530878353801831, 0.8507630225817856, 0.7607724051289604, 0.7841397702834059, 0.21921246335985956, 0.07530878353801829, 8.089020788186714, 79.2724037242298, 0.16164497429053903, 0.0015213895664246112]}, {\"name\": \"fitness\", \"type\": \"bar\", \"visible\": false, \"x\": [0, 1, 2, 3, 4, 5, 6, 7, 8, 9], \"y\": [80.89020788186716, 0.8507630225817856, 8.089020788186714, 0.8254102845088483, 0.8008130580304847, 7.154334436111739, 0.7606947832123061, 1.5369139497554747, 0.8422553923559677, 0.008007313507497954]}, {\"name\": \"fitness\", \"type\": \"bar\", \"visible\": false, \"x\": [0, 1, 2, 3, 4, 5, 6, 7, 8, 9], \"y\": [8.089020788186714, 80.89020788186716, 80.89020788186716, 7.530878353801831, 78.41397702834061, 1.5049147106449194, 8.089020788186714, 80.89020788186716, 817.15618166376, 0.0007762191665431689]}, {\"name\": \"fitness\", \"type\": \"bar\", \"visible\": false, \"x\": [0, 1, 2, 3, 4, 5, 6, 7, 8, 9], \"y\": [80.89020788186716, 80.89020788186716, 80.08130580304848, 77.62983725805721, 808.9846198471224, 8.089020788186714, 82.54102845088485, 79.27240372422982, 15.6843956909136, 722.6600440516909]}, {\"name\": \"fitness\", \"type\": \"bar\", \"visible\": false, \"x\": [0, 1, 2, 3, 4, 5, 6, 7, 8, 9], \"y\": [715.433443611174, 81.715618166376, 760.7724051289606, 808.9020788186714, 722.6600440516909, 77.62983725805721, 79.27240372422982, 833.8328384324082, 792.724037242298, 776.2191665431695]}, {\"name\": \"fitness\", \"type\": \"bar\", \"visible\": false, \"x\": [0, 1, 2, 3, 4, 5, 6, 7, 8, 9], \"y\": [79.20603740236425, 760.7724051289603, 83.374776213015, 776.2983725805719, 8.254945100480843, 722.6600440516909, 722.6600440516909, 792.724037242298, 760.7724051289606, 825.4102845088485]}, {\"name\": \"fitness\", \"type\": \"bar\", \"visible\": false, \"x\": [0, 1, 2, 3, 4, 5, 6, 7, 8, 9], \"y\": [784.139770283406, 808.9020788186714, 737.4082082160111, 784.7967968698748, 722.6600440516909, 760.7724051289606, 808.9020788186714, 784.139770283406, 792.8049274501797, 744.9327817692357]}, {\"name\": \"fitness\", \"type\": \"bar\", \"visible\": false, \"x\": [0, 1, 2, 3, 4, 5, 6, 7, 8, 9], \"y\": [792.8049274501797, 808.9020788186714, 768.4569748777379, 784.8768781756779, 808.9020788186714, 792.8049274501797, 792.8049274501797, 784.139770283406, 792.8049274501797, 792.724037242298]}, {\"name\": \"fitness\", \"type\": \"bar\", \"visible\": false, \"x\": [0, 1, 2, 3, 4, 5, 6, 7, 8, 9], \"y\": [792.8049274501797, 808.9020788186714, 808.9020788186714, 808.9020788186714, 808.9020788186714, 808.9020788186714, 800.8130580304847, 800.8130580304846, 800.8130580304846, 808.9020788186715]}, {\"name\": \"fitness\", \"type\": \"bar\", \"visible\": false, \"x\": [0, 1, 2, 3, 4, 5, 6, 7, 8, 9], \"y\": [808.9020788186714, 808.9020788186714, 808.9020788186714, 808.9020788186715, 808.9020788186715, 808.9020788186714, 808.9020788186714, 808.9020788186714, 808.9020788186714, 808.9020788186714]}, {\"name\": \"fitness\", \"type\": \"bar\", \"visible\": false, \"x\": [0, 1, 2, 3, 4, 5, 6, 7, 8, 9], \"y\": [817.0728068875469, 800.8130580304847, 800.8130580304847, 817.0728068875469, 808.9020788186714, 808.9020788186714, 808.9020788186715, 808.9020788186715, 808.9020788186714, 808.9020788186715]}, {\"name\": \"fitness\", \"type\": \"bar\", \"visible\": false, \"x\": [0, 1, 2, 3, 4, 5, 6, 7, 8, 9], \"y\": [817.0728068875469, 800.8130580304847, 817.0728068875469, 817.0728068875469, 817.0728068875469, 808.9020788186715, 808.9020788186715, 808.9020788186715, 808.9020788186715, 817.0728068875469]}, {\"name\": \"fitness\", \"type\": \"bar\", \"visible\": false, \"x\": [0, 1, 2, 3, 4, 5, 6, 7, 8, 9], \"y\": [817.0728068875469, 817.0728068875469, 817.0728068875469, 817.0728068875469, 817.0728068875469, 808.9020788186715, 817.0728068875469, 817.0728068875469, 817.0728068875469, 817.0728068875469]}, {\"name\": \"fitness\", \"type\": \"bar\", \"visible\": false, \"x\": [0, 1, 2, 3, 4, 5, 6, 7, 8, 9], \"y\": [817.0728068875469, 817.0728068875469, 817.0728068875469, 817.0728068875469, 817.0728068875469, 817.0728068875469, 817.0728068875469, 817.0728068875469, 817.0728068875469, 817.0728068875469]}, {\"name\": \"fitness\", \"type\": \"bar\", \"visible\": false, \"x\": [0, 1, 2, 3, 4, 5, 6, 7, 8, 9], \"y\": [817.0728068875469, 817.0728068875469, 817.0728068875469, 817.0728068875469, 817.0728068875469, 817.0728068875469, 817.0728068875469, 817.0728068875469, 817.0728068875469, 817.0728068875469]}, {\"name\": \"fitness\", \"type\": \"bar\", \"visible\": false, \"x\": [0, 1, 2, 3, 4, 5, 6, 7, 8, 9], \"y\": [817.0728068875469, 817.0728068875469, 817.0728068875469, 817.0728068875469, 817.0728068875469, 817.0728068875469, 817.0728068875469, 817.0728068875469, 817.0728068875469, 817.0728068875469]}, {\"name\": \"fitness\", \"type\": \"bar\", \"visible\": false, \"x\": [0, 1, 2, 3, 4, 5, 6, 7, 8, 9], \"y\": [817.0728068875469, 817.0728068875469, 817.0728068875469, 817.0728068875469, 817.0728068875469, 817.0728068875469, 817.0728068875469, 817.0728068875469, 817.0728068875469, 817.0728068875469]}, {\"name\": \"fitness\", \"type\": \"bar\", \"visible\": false, \"x\": [0, 1, 2, 3, 4, 5, 6, 7, 8, 9], \"y\": [817.0728068875469, 817.0728068875469, 817.0728068875469, 817.0728068875469, 817.0728068875469, 817.0728068875469, 817.0728068875469, 817.0728068875469, 817.0728068875469, 817.0728068875469]}, {\"name\": \"fitness\", \"type\": \"bar\", \"visible\": false, \"x\": [0, 1, 2, 3, 4, 5, 6, 7, 8, 9], \"y\": [817.0728068875469, 817.0728068875469, 817.0728068875469, 817.0728068875469, 817.0728068875469, 817.0728068875469, 817.0728068875469, 817.0728068875469, 817.0728068875469, 817.0728068875469]}, {\"name\": \"fitness\", \"type\": \"bar\", \"visible\": false, \"x\": [0, 1, 2, 3, 4, 5, 6, 7, 8, 9], \"y\": [817.0728068875469, 817.0728068875469, 817.0728068875469, 817.0728068875469, 817.0728068875469, 817.0728068875469, 817.0728068875469, 817.0728068875469, 817.0728068875469, 817.0728068875469]}],\n",
       "                        {\"showlegend\": false, \"sliders\": [{\"active\": 0, \"currentvalue\": {\"prefix\": \"Generacija: \"}, \"pad\": {\"t\": 50}, \"steps\": [{\"args\": [{\"visible\": [true, false, false, false, false, false, false, false, false, false, false, false, false, false, false, false, false, false, false, false]}, {\"title.text\": \"Fitness populacija 1. generacije\"}], \"label\": \"1. gen\", \"method\": \"update\"}, {\"args\": [{\"visible\": [false, true, false, false, false, false, false, false, false, false, false, false, false, false, false, false, false, false, false, false]}, {\"title.text\": \"Fitness populacija 2. generacije\"}], \"label\": \"2. gen\", \"method\": \"update\"}, {\"args\": [{\"visible\": [false, false, true, false, false, false, false, false, false, false, false, false, false, false, false, false, false, false, false, false]}, {\"title.text\": \"Fitness populacija 3. generacije\"}], \"label\": \"3. gen\", \"method\": \"update\"}, {\"args\": [{\"visible\": [false, false, false, true, false, false, false, false, false, false, false, false, false, false, false, false, false, false, false, false]}, {\"title.text\": \"Fitness populacija 4. generacije\"}], \"label\": \"4. gen\", \"method\": \"update\"}, {\"args\": [{\"visible\": [false, false, false, false, true, false, false, false, false, false, false, false, false, false, false, false, false, false, false, false]}, {\"title.text\": \"Fitness populacija 5. generacije\"}], \"label\": \"5. gen\", \"method\": \"update\"}, {\"args\": [{\"visible\": [false, false, false, false, false, true, false, false, false, false, false, false, false, false, false, false, false, false, false, false]}, {\"title.text\": \"Fitness populacija 6. generacije\"}], \"label\": \"6. gen\", \"method\": \"update\"}, {\"args\": [{\"visible\": [false, false, false, false, false, false, true, false, false, false, false, false, false, false, false, false, false, false, false, false]}, {\"title.text\": \"Fitness populacija 7. generacije\"}], \"label\": \"7. gen\", \"method\": \"update\"}, {\"args\": [{\"visible\": [false, false, false, false, false, false, false, true, false, false, false, false, false, false, false, false, false, false, false, false]}, {\"title.text\": \"Fitness populacija 8. generacije\"}], \"label\": \"8. gen\", \"method\": \"update\"}, {\"args\": [{\"visible\": [false, false, false, false, false, false, false, false, true, false, false, false, false, false, false, false, false, false, false, false]}, {\"title.text\": \"Fitness populacija 9. generacije\"}], \"label\": \"9. gen\", \"method\": \"update\"}, {\"args\": [{\"visible\": [false, false, false, false, false, false, false, false, false, true, false, false, false, false, false, false, false, false, false, false]}, {\"title.text\": \"Fitness populacija 10. generacije\"}], \"label\": \"10. gen\", \"method\": \"update\"}, {\"args\": [{\"visible\": [false, false, false, false, false, false, false, false, false, false, true, false, false, false, false, false, false, false, false, false]}, {\"title.text\": \"Fitness populacija 11. generacije\"}], \"label\": \"11. gen\", \"method\": \"update\"}, {\"args\": [{\"visible\": [false, false, false, false, false, false, false, false, false, false, false, true, false, false, false, false, false, false, false, false]}, {\"title.text\": \"Fitness populacija 12. generacije\"}], \"label\": \"12. gen\", \"method\": \"update\"}, {\"args\": [{\"visible\": [false, false, false, false, false, false, false, false, false, false, false, false, true, false, false, false, false, false, false, false]}, {\"title.text\": \"Fitness populacija 13. generacije\"}], \"label\": \"13. gen\", \"method\": \"update\"}, {\"args\": [{\"visible\": [false, false, false, false, false, false, false, false, false, false, false, false, false, true, false, false, false, false, false, false]}, {\"title.text\": \"Fitness populacija 14. generacije\"}], \"label\": \"14. gen\", \"method\": \"update\"}, {\"args\": [{\"visible\": [false, false, false, false, false, false, false, false, false, false, false, false, false, false, true, false, false, false, false, false]}, {\"title.text\": \"Fitness populacija 15. generacije\"}], \"label\": \"15. gen\", \"method\": \"update\"}, {\"args\": [{\"visible\": [false, false, false, false, false, false, false, false, false, false, false, false, false, false, false, true, false, false, false, false]}, {\"title.text\": \"Fitness populacija 16. generacije\"}], \"label\": \"16. gen\", \"method\": \"update\"}, {\"args\": [{\"visible\": [false, false, false, false, false, false, false, false, false, false, false, false, false, false, false, false, true, false, false, false]}, {\"title.text\": \"Fitness populacija 17. generacije\"}], \"label\": \"17. gen\", \"method\": \"update\"}, {\"args\": [{\"visible\": [false, false, false, false, false, false, false, false, false, false, false, false, false, false, false, false, false, true, false, false]}, {\"title.text\": \"Fitness populacija 18. generacije\"}], \"label\": \"18. gen\", \"method\": \"update\"}, {\"args\": [{\"visible\": [false, false, false, false, false, false, false, false, false, false, false, false, false, false, false, false, false, false, true, false]}, {\"title.text\": \"Fitness populacija 19. generacije\"}], \"label\": \"19. gen\", \"method\": \"update\"}, {\"args\": [{\"visible\": [false, false, false, false, false, false, false, false, false, false, false, false, false, false, false, false, false, false, false, true]}, {\"title.text\": \"Fitness populacija 20. generacije\"}], \"label\": \"20. gen\", \"method\": \"update\"}], \"transition\": {\"easing\": \"bounce-in-out\"}}], \"template\": {\"data\": {\"bar\": [{\"error_x\": {\"color\": \"#2a3f5f\"}, \"error_y\": {\"color\": \"#2a3f5f\"}, \"marker\": {\"line\": {\"color\": \"#E5ECF6\", \"width\": 0.5}}, \"type\": \"bar\"}], \"barpolar\": [{\"marker\": {\"line\": {\"color\": \"#E5ECF6\", \"width\": 0.5}}, \"type\": \"barpolar\"}], \"carpet\": [{\"aaxis\": {\"endlinecolor\": \"#2a3f5f\", \"gridcolor\": \"white\", \"linecolor\": \"white\", \"minorgridcolor\": \"white\", \"startlinecolor\": \"#2a3f5f\"}, \"baxis\": {\"endlinecolor\": \"#2a3f5f\", \"gridcolor\": \"white\", \"linecolor\": \"white\", \"minorgridcolor\": \"white\", \"startlinecolor\": \"#2a3f5f\"}, \"type\": \"carpet\"}], \"choropleth\": [{\"colorbar\": {\"outlinewidth\": 0, \"ticks\": \"\"}, \"type\": \"choropleth\"}], \"contour\": [{\"colorbar\": {\"outlinewidth\": 0, \"ticks\": \"\"}, \"colorscale\": [[0.0, \"#0d0887\"], [0.1111111111111111, \"#46039f\"], [0.2222222222222222, \"#7201a8\"], [0.3333333333333333, \"#9c179e\"], [0.4444444444444444, \"#bd3786\"], [0.5555555555555556, \"#d8576b\"], [0.6666666666666666, \"#ed7953\"], [0.7777777777777778, \"#fb9f3a\"], [0.8888888888888888, \"#fdca26\"], [1.0, \"#f0f921\"]], \"type\": \"contour\"}], \"contourcarpet\": [{\"colorbar\": {\"outlinewidth\": 0, \"ticks\": \"\"}, \"type\": \"contourcarpet\"}], \"heatmap\": [{\"colorbar\": {\"outlinewidth\": 0, \"ticks\": \"\"}, \"colorscale\": [[0.0, \"#0d0887\"], [0.1111111111111111, \"#46039f\"], [0.2222222222222222, \"#7201a8\"], [0.3333333333333333, \"#9c179e\"], [0.4444444444444444, \"#bd3786\"], [0.5555555555555556, \"#d8576b\"], [0.6666666666666666, \"#ed7953\"], [0.7777777777777778, \"#fb9f3a\"], [0.8888888888888888, \"#fdca26\"], [1.0, \"#f0f921\"]], \"type\": \"heatmap\"}], \"heatmapgl\": [{\"colorbar\": {\"outlinewidth\": 0, \"ticks\": \"\"}, \"colorscale\": [[0.0, \"#0d0887\"], [0.1111111111111111, \"#46039f\"], [0.2222222222222222, \"#7201a8\"], [0.3333333333333333, \"#9c179e\"], [0.4444444444444444, \"#bd3786\"], [0.5555555555555556, \"#d8576b\"], [0.6666666666666666, \"#ed7953\"], [0.7777777777777778, \"#fb9f3a\"], [0.8888888888888888, \"#fdca26\"], [1.0, \"#f0f921\"]], \"type\": \"heatmapgl\"}], \"histogram\": [{\"marker\": {\"colorbar\": {\"outlinewidth\": 0, \"ticks\": \"\"}}, \"type\": \"histogram\"}], \"histogram2d\": [{\"colorbar\": {\"outlinewidth\": 0, \"ticks\": \"\"}, \"colorscale\": [[0.0, \"#0d0887\"], [0.1111111111111111, \"#46039f\"], [0.2222222222222222, \"#7201a8\"], [0.3333333333333333, \"#9c179e\"], [0.4444444444444444, \"#bd3786\"], [0.5555555555555556, \"#d8576b\"], [0.6666666666666666, \"#ed7953\"], [0.7777777777777778, \"#fb9f3a\"], [0.8888888888888888, \"#fdca26\"], [1.0, \"#f0f921\"]], \"type\": \"histogram2d\"}], \"histogram2dcontour\": [{\"colorbar\": {\"outlinewidth\": 0, \"ticks\": \"\"}, \"colorscale\": [[0.0, \"#0d0887\"], [0.1111111111111111, \"#46039f\"], [0.2222222222222222, \"#7201a8\"], [0.3333333333333333, \"#9c179e\"], [0.4444444444444444, \"#bd3786\"], [0.5555555555555556, \"#d8576b\"], [0.6666666666666666, \"#ed7953\"], [0.7777777777777778, \"#fb9f3a\"], [0.8888888888888888, \"#fdca26\"], [1.0, \"#f0f921\"]], \"type\": \"histogram2dcontour\"}], \"mesh3d\": [{\"colorbar\": {\"outlinewidth\": 0, \"ticks\": \"\"}, \"type\": \"mesh3d\"}], \"parcoords\": [{\"line\": {\"colorbar\": {\"outlinewidth\": 0, \"ticks\": \"\"}}, \"type\": \"parcoords\"}], \"pie\": [{\"automargin\": true, \"type\": \"pie\"}], \"scatter\": [{\"marker\": {\"colorbar\": {\"outlinewidth\": 0, \"ticks\": \"\"}}, \"type\": \"scatter\"}], \"scatter3d\": [{\"line\": {\"colorbar\": {\"outlinewidth\": 0, \"ticks\": \"\"}}, \"marker\": {\"colorbar\": {\"outlinewidth\": 0, \"ticks\": \"\"}}, \"type\": \"scatter3d\"}], \"scattercarpet\": [{\"marker\": {\"colorbar\": {\"outlinewidth\": 0, \"ticks\": \"\"}}, \"type\": \"scattercarpet\"}], \"scattergeo\": [{\"marker\": {\"colorbar\": {\"outlinewidth\": 0, \"ticks\": \"\"}}, \"type\": \"scattergeo\"}], \"scattergl\": [{\"marker\": {\"colorbar\": {\"outlinewidth\": 0, \"ticks\": \"\"}}, \"type\": \"scattergl\"}], \"scattermapbox\": [{\"marker\": {\"colorbar\": {\"outlinewidth\": 0, \"ticks\": \"\"}}, \"type\": \"scattermapbox\"}], \"scatterpolar\": [{\"marker\": {\"colorbar\": {\"outlinewidth\": 0, \"ticks\": \"\"}}, \"type\": \"scatterpolar\"}], \"scatterpolargl\": [{\"marker\": {\"colorbar\": {\"outlinewidth\": 0, \"ticks\": \"\"}}, \"type\": \"scatterpolargl\"}], \"scatterternary\": [{\"marker\": {\"colorbar\": {\"outlinewidth\": 0, \"ticks\": \"\"}}, \"type\": \"scatterternary\"}], \"surface\": [{\"colorbar\": {\"outlinewidth\": 0, \"ticks\": \"\"}, \"colorscale\": [[0.0, \"#0d0887\"], [0.1111111111111111, \"#46039f\"], [0.2222222222222222, \"#7201a8\"], [0.3333333333333333, \"#9c179e\"], [0.4444444444444444, \"#bd3786\"], [0.5555555555555556, \"#d8576b\"], [0.6666666666666666, \"#ed7953\"], [0.7777777777777778, \"#fb9f3a\"], [0.8888888888888888, \"#fdca26\"], [1.0, \"#f0f921\"]], \"type\": \"surface\"}], \"table\": [{\"cells\": {\"fill\": {\"color\": \"#EBF0F8\"}, \"line\": {\"color\": \"white\"}}, \"header\": {\"fill\": {\"color\": \"#C8D4E3\"}, \"line\": {\"color\": \"white\"}}, \"type\": \"table\"}]}, \"layout\": {\"annotationdefaults\": {\"arrowcolor\": \"#2a3f5f\", \"arrowhead\": 0, \"arrowwidth\": 1}, \"coloraxis\": {\"colorbar\": {\"outlinewidth\": 0, \"ticks\": \"\"}}, \"colorscale\": {\"diverging\": [[0, \"#8e0152\"], [0.1, \"#c51b7d\"], [0.2, \"#de77ae\"], [0.3, \"#f1b6da\"], [0.4, \"#fde0ef\"], [0.5, \"#f7f7f7\"], [0.6, \"#e6f5d0\"], [0.7, \"#b8e186\"], [0.8, \"#7fbc41\"], [0.9, \"#4d9221\"], [1, \"#276419\"]], \"sequential\": [[0.0, \"#0d0887\"], [0.1111111111111111, \"#46039f\"], [0.2222222222222222, \"#7201a8\"], [0.3333333333333333, \"#9c179e\"], [0.4444444444444444, \"#bd3786\"], [0.5555555555555556, \"#d8576b\"], [0.6666666666666666, \"#ed7953\"], [0.7777777777777778, \"#fb9f3a\"], [0.8888888888888888, \"#fdca26\"], [1.0, \"#f0f921\"]], \"sequentialminus\": [[0.0, \"#0d0887\"], [0.1111111111111111, \"#46039f\"], [0.2222222222222222, \"#7201a8\"], [0.3333333333333333, \"#9c179e\"], [0.4444444444444444, \"#bd3786\"], [0.5555555555555556, \"#d8576b\"], [0.6666666666666666, \"#ed7953\"], [0.7777777777777778, \"#fb9f3a\"], [0.8888888888888888, \"#fdca26\"], [1.0, \"#f0f921\"]]}, \"colorway\": [\"#636efa\", \"#EF553B\", \"#00cc96\", \"#ab63fa\", \"#FFA15A\", \"#19d3f3\", \"#FF6692\", \"#B6E880\", \"#FF97FF\", \"#FECB52\"], \"font\": {\"color\": \"#2a3f5f\"}, \"geo\": {\"bgcolor\": \"white\", \"lakecolor\": \"white\", \"landcolor\": \"#E5ECF6\", \"showlakes\": true, \"showland\": true, \"subunitcolor\": \"white\"}, \"hoverlabel\": {\"align\": \"left\"}, \"hovermode\": \"closest\", \"mapbox\": {\"style\": \"light\"}, \"paper_bgcolor\": \"white\", \"plot_bgcolor\": \"#E5ECF6\", \"polar\": {\"angularaxis\": {\"gridcolor\": \"white\", \"linecolor\": \"white\", \"ticks\": \"\"}, \"bgcolor\": \"#E5ECF6\", \"radialaxis\": {\"gridcolor\": \"white\", \"linecolor\": \"white\", \"ticks\": \"\"}}, \"scene\": {\"xaxis\": {\"backgroundcolor\": \"#E5ECF6\", \"gridcolor\": \"white\", \"gridwidth\": 2, \"linecolor\": \"white\", \"showbackground\": true, \"ticks\": \"\", \"zerolinecolor\": \"white\"}, \"yaxis\": {\"backgroundcolor\": \"#E5ECF6\", \"gridcolor\": \"white\", \"gridwidth\": 2, \"linecolor\": \"white\", \"showbackground\": true, \"ticks\": \"\", \"zerolinecolor\": \"white\"}, \"zaxis\": {\"backgroundcolor\": \"#E5ECF6\", \"gridcolor\": \"white\", \"gridwidth\": 2, \"linecolor\": \"white\", \"showbackground\": true, \"ticks\": \"\", \"zerolinecolor\": \"white\"}}, \"shapedefaults\": {\"line\": {\"color\": \"#2a3f5f\"}}, \"ternary\": {\"aaxis\": {\"gridcolor\": \"white\", \"linecolor\": \"white\", \"ticks\": \"\"}, \"baxis\": {\"gridcolor\": \"white\", \"linecolor\": \"white\", \"ticks\": \"\"}, \"bgcolor\": \"#E5ECF6\", \"caxis\": {\"gridcolor\": \"white\", \"linecolor\": \"white\", \"ticks\": \"\"}}, \"title\": {\"x\": 0.05}, \"xaxis\": {\"automargin\": true, \"gridcolor\": \"white\", \"linecolor\": \"white\", \"ticks\": \"\", \"title\": {\"standoff\": 15}, \"zerolinecolor\": \"white\", \"zerolinewidth\": 2}, \"yaxis\": {\"automargin\": true, \"gridcolor\": \"white\", \"linecolor\": \"white\", \"ticks\": \"\", \"title\": {\"standoff\": 15}, \"zerolinecolor\": \"white\", \"zerolinewidth\": 2}}}, \"title\": {\"text\": \"Fitness populacija 1. generacije\"}, \"xaxis\": {\"title\": {\"text\": \"Jedinke generacija\"}, \"type\": \"category\"}, \"yaxis\": {\"range\": [0, 1000], \"title\": {\"text\": \"Fitness jedinki\"}}},\n",
       "                        {\"responsive\": true}\n",
       "                    ).then(function(){\n",
       "                            \n",
       "var gd = document.getElementById('8087a453-1f79-45cf-bf44-4423cabecb39');\n",
       "var x = new MutationObserver(function (mutations, observer) {{\n",
       "        var display = window.getComputedStyle(gd).display;\n",
       "        if (!display || display === 'none') {{\n",
       "            console.log([gd, 'removed!']);\n",
       "            Plotly.purge(gd);\n",
       "            observer.disconnect();\n",
       "        }}\n",
       "}});\n",
       "\n",
       "// Listen for the removal of the full notebook cells\n",
       "var notebookContainer = gd.closest('#notebook-container');\n",
       "if (notebookContainer) {{\n",
       "    x.observe(notebookContainer, {childList: true});\n",
       "}}\n",
       "\n",
       "// Listen for the clearing of the current output cell\n",
       "var outputEl = gd.closest('.output');\n",
       "if (outputEl) {{\n",
       "    x.observe(outputEl, {childList: true});\n",
       "}}\n",
       "\n",
       "                        })\n",
       "                };\n",
       "                });\n",
       "            </script>\n",
       "        </div>"
      ]
     },
     "metadata": {},
     "output_type": "display_data"
    }
   ],
   "source": [
    "plot_fitness(ulazni_podaci)"
   ]
  },
  {
   "cell_type": "code",
   "execution_count": 12,
   "metadata": {},
   "outputs": [],
   "source": [
    "def plot_restrictions(ulazni_podaci):\n",
    "    x = list(range(ulazni_podaci['parametri']['n_pop']))\n",
    "    data = []\n",
    "    for i in range(len(generacije['all'])):\n",
    "        data.append(go.Bar(x=x, y=[len(jedinka['hard_pos']) for jedinka in generacije['all'][i]['all']], visible = False, name=\"hard\"))\n",
    "    for i in range(len(generacije['all'])):\n",
    "        data.append(go.Bar(x=x, y=[len(jedinka['soft_pos']) for jedinka in generacije['all'][i]['all']], visible = False, name=\"soft\"))\n",
    "    data[0]['visible'] = data[len(generacije['all'])]['visible'] = True\n",
    "    steps = []\n",
    "    for i in range(len(data) // 2):\n",
    "        step = dict(method = 'update', \n",
    "                    args = [{'visible': [t == i or len(data) // 2 + i == t for t in range(len(data))]}, \n",
    "                            {'title.text': f'Fitness populacija {i + 1}. generacije'}], \n",
    "                    label = f'{i + 1}. gen')\n",
    "        steps.append(step)\n",
    "\n",
    "    sliders = [dict(\n",
    "        active=0,\n",
    "        currentvalue={\"prefix\": \"Generacija: \"},\n",
    "        pad={\"t\": 50},\n",
    "        steps=steps,\n",
    "        transition=dict(easing = \"bounce-in-out\")\n",
    "    )]\n",
    "    layout = go.Layout(\n",
    "        yaxis=dict(title='Broj narušenih ograničenja'),\n",
    "        xaxis=dict(title='Jedinke generacija', type='category'),\n",
    "        title=f'Broj narušenih ograničenja 1. generacije',\n",
    "        showlegend = True)\n",
    "\n",
    "    fig = go.Figure(data=data, layout=layout)\n",
    "    fig.update_layout(\n",
    "        barmode='group',\n",
    "        sliders=sliders\n",
    "    )\n",
    "    py.iplot(fig, filename='violation-one-population')"
   ]
  },
  {
   "cell_type": "code",
   "execution_count": 13,
   "metadata": {},
   "outputs": [
    {
     "data": {
      "application/vnd.plotly.v1+json": {
       "config": {
        "linkText": "Export to plot.ly",
        "plotlyServerURL": "https://plot.ly",
        "showLink": false
       },
       "data": [
        {
         "name": "hard",
         "type": "bar",
         "visible": true,
         "x": [
          0,
          1,
          2,
          3,
          4,
          5,
          6,
          7,
          8,
          9
         ],
         "y": [
          2,
          3,
          3,
          3,
          4,
          4,
          2,
          1,
          4,
          6
         ]
        },
        {
         "name": "hard",
         "type": "bar",
         "visible": false,
         "x": [
          0,
          1,
          2,
          3,
          4,
          5,
          6,
          7,
          8,
          9
         ],
         "y": [
          1,
          3,
          2,
          3,
          3,
          2,
          3,
          3,
          3,
          5
         ]
        },
        {
         "name": "hard",
         "type": "bar",
         "visible": false,
         "x": [
          0,
          1,
          2,
          3,
          4,
          5,
          6,
          7,
          8,
          9
         ],
         "y": [
          2,
          1,
          1,
          2,
          1,
          3,
          2,
          1,
          0,
          6
         ]
        },
        {
         "name": "hard",
         "type": "bar",
         "visible": false,
         "x": [
          0,
          1,
          2,
          3,
          4,
          5,
          6,
          7,
          8,
          9
         ],
         "y": [
          1,
          1,
          1,
          1,
          0,
          2,
          1,
          1,
          2,
          0
         ]
        },
        {
         "name": "hard",
         "type": "bar",
         "visible": false,
         "x": [
          0,
          1,
          2,
          3,
          4,
          5,
          6,
          7,
          8,
          9
         ],
         "y": [
          0,
          1,
          0,
          0,
          0,
          1,
          1,
          0,
          0,
          0
         ]
        },
        {
         "name": "hard",
         "type": "bar",
         "visible": false,
         "x": [
          0,
          1,
          2,
          3,
          4,
          5,
          6,
          7,
          8,
          9
         ],
         "y": [
          1,
          0,
          1,
          0,
          2,
          0,
          0,
          0,
          0,
          0
         ]
        },
        {
         "name": "hard",
         "type": "bar",
         "visible": false,
         "x": [
          0,
          1,
          2,
          3,
          4,
          5,
          6,
          7,
          8,
          9
         ],
         "y": [
          0,
          0,
          0,
          0,
          0,
          0,
          0,
          0,
          0,
          0
         ]
        },
        {
         "name": "hard",
         "type": "bar",
         "visible": false,
         "x": [
          0,
          1,
          2,
          3,
          4,
          5,
          6,
          7,
          8,
          9
         ],
         "y": [
          0,
          0,
          0,
          0,
          0,
          0,
          0,
          0,
          0,
          0
         ]
        },
        {
         "name": "hard",
         "type": "bar",
         "visible": false,
         "x": [
          0,
          1,
          2,
          3,
          4,
          5,
          6,
          7,
          8,
          9
         ],
         "y": [
          0,
          0,
          0,
          0,
          0,
          0,
          0,
          0,
          0,
          0
         ]
        },
        {
         "name": "hard",
         "type": "bar",
         "visible": false,
         "x": [
          0,
          1,
          2,
          3,
          4,
          5,
          6,
          7,
          8,
          9
         ],
         "y": [
          0,
          0,
          0,
          0,
          0,
          0,
          0,
          0,
          0,
          0
         ]
        },
        {
         "name": "hard",
         "type": "bar",
         "visible": false,
         "x": [
          0,
          1,
          2,
          3,
          4,
          5,
          6,
          7,
          8,
          9
         ],
         "y": [
          0,
          0,
          0,
          0,
          0,
          0,
          0,
          0,
          0,
          0
         ]
        },
        {
         "name": "hard",
         "type": "bar",
         "visible": false,
         "x": [
          0,
          1,
          2,
          3,
          4,
          5,
          6,
          7,
          8,
          9
         ],
         "y": [
          0,
          0,
          0,
          0,
          0,
          0,
          0,
          0,
          0,
          0
         ]
        },
        {
         "name": "hard",
         "type": "bar",
         "visible": false,
         "x": [
          0,
          1,
          2,
          3,
          4,
          5,
          6,
          7,
          8,
          9
         ],
         "y": [
          0,
          0,
          0,
          0,
          0,
          0,
          0,
          0,
          0,
          0
         ]
        },
        {
         "name": "hard",
         "type": "bar",
         "visible": false,
         "x": [
          0,
          1,
          2,
          3,
          4,
          5,
          6,
          7,
          8,
          9
         ],
         "y": [
          0,
          0,
          0,
          0,
          0,
          0,
          0,
          0,
          0,
          0
         ]
        },
        {
         "name": "hard",
         "type": "bar",
         "visible": false,
         "x": [
          0,
          1,
          2,
          3,
          4,
          5,
          6,
          7,
          8,
          9
         ],
         "y": [
          0,
          0,
          0,
          0,
          0,
          0,
          0,
          0,
          0,
          0
         ]
        },
        {
         "name": "hard",
         "type": "bar",
         "visible": false,
         "x": [
          0,
          1,
          2,
          3,
          4,
          5,
          6,
          7,
          8,
          9
         ],
         "y": [
          0,
          0,
          0,
          0,
          0,
          0,
          0,
          0,
          0,
          0
         ]
        },
        {
         "name": "hard",
         "type": "bar",
         "visible": false,
         "x": [
          0,
          1,
          2,
          3,
          4,
          5,
          6,
          7,
          8,
          9
         ],
         "y": [
          0,
          0,
          0,
          0,
          0,
          0,
          0,
          0,
          0,
          0
         ]
        },
        {
         "name": "hard",
         "type": "bar",
         "visible": false,
         "x": [
          0,
          1,
          2,
          3,
          4,
          5,
          6,
          7,
          8,
          9
         ],
         "y": [
          0,
          0,
          0,
          0,
          0,
          0,
          0,
          0,
          0,
          0
         ]
        },
        {
         "name": "hard",
         "type": "bar",
         "visible": false,
         "x": [
          0,
          1,
          2,
          3,
          4,
          5,
          6,
          7,
          8,
          9
         ],
         "y": [
          0,
          0,
          0,
          0,
          0,
          0,
          0,
          0,
          0,
          0
         ]
        },
        {
         "name": "hard",
         "type": "bar",
         "visible": false,
         "x": [
          0,
          1,
          2,
          3,
          4,
          5,
          6,
          7,
          8,
          9
         ],
         "y": [
          0,
          0,
          0,
          0,
          0,
          0,
          0,
          0,
          0,
          0
         ]
        },
        {
         "name": "soft",
         "type": "bar",
         "visible": true,
         "x": [
          0,
          1,
          2,
          3,
          4,
          5,
          6,
          7,
          8,
          9
         ],
         "y": [
          13,
          8,
          13,
          11,
          11,
          13,
          11,
          12,
          8,
          11
         ]
        },
        {
         "name": "soft",
         "type": "bar",
         "visible": false,
         "x": [
          0,
          1,
          2,
          3,
          4,
          5,
          6,
          7,
          8,
          9
         ],
         "y": [
          11,
          8,
          11,
          10,
          12,
          14,
          12,
          11,
          9,
          11
         ]
        },
        {
         "name": "soft",
         "type": "bar",
         "visible": false,
         "x": [
          0,
          1,
          2,
          3,
          4,
          5,
          6,
          7,
          8,
          9
         ],
         "y": [
          11,
          11,
          11,
          13,
          11,
          10,
          11,
          11,
          11,
          11
         ]
        },
        {
         "name": "soft",
         "type": "bar",
         "visible": false,
         "x": [
          0,
          1,
          2,
          3,
          4,
          5,
          6,
          7,
          8,
          9
         ],
         "y": [
          11,
          11,
          12,
          12,
          12,
          11,
          10,
          12,
          11,
          13
         ]
        },
        {
         "name": "soft",
         "type": "bar",
         "visible": false,
         "x": [
          0,
          1,
          2,
          3,
          4,
          5,
          6,
          7,
          8,
          9
         ],
         "y": [
          14,
          11,
          13,
          11,
          13,
          12,
          12,
          10,
          12,
          11
         ]
        },
        {
         "name": "soft",
         "type": "bar",
         "visible": false,
         "x": [
          0,
          1,
          2,
          3,
          4,
          5,
          6,
          7,
          8,
          9
         ],
         "y": [
          10,
          13,
          9,
          12,
          11,
          13,
          13,
          12,
          13,
          10
         ]
        },
        {
         "name": "soft",
         "type": "bar",
         "visible": false,
         "x": [
          0,
          1,
          2,
          3,
          4,
          5,
          6,
          7,
          8,
          9
         ],
         "y": [
          11,
          11,
          12,
          13,
          13,
          13,
          11,
          11,
          13,
          12
         ]
        },
        {
         "name": "soft",
         "type": "bar",
         "visible": false,
         "x": [
          0,
          1,
          2,
          3,
          4,
          5,
          6,
          7,
          8,
          9
         ],
         "y": [
          13,
          11,
          12,
          14,
          11,
          13,
          13,
          11,
          13,
          12
         ]
        },
        {
         "name": "soft",
         "type": "bar",
         "visible": false,
         "x": [
          0,
          1,
          2,
          3,
          4,
          5,
          6,
          7,
          8,
          9
         ],
         "y": [
          13,
          11,
          11,
          11,
          11,
          11,
          12,
          12,
          12,
          11
         ]
        },
        {
         "name": "soft",
         "type": "bar",
         "visible": false,
         "x": [
          0,
          1,
          2,
          3,
          4,
          5,
          6,
          7,
          8,
          9
         ],
         "y": [
          11,
          11,
          11,
          11,
          11,
          11,
          11,
          11,
          11,
          11
         ]
        },
        {
         "name": "soft",
         "type": "bar",
         "visible": false,
         "x": [
          0,
          1,
          2,
          3,
          4,
          5,
          6,
          7,
          8,
          9
         ],
         "y": [
          10,
          12,
          12,
          10,
          11,
          11,
          11,
          11,
          11,
          11
         ]
        },
        {
         "name": "soft",
         "type": "bar",
         "visible": false,
         "x": [
          0,
          1,
          2,
          3,
          4,
          5,
          6,
          7,
          8,
          9
         ],
         "y": [
          10,
          12,
          10,
          10,
          10,
          11,
          11,
          11,
          11,
          10
         ]
        },
        {
         "name": "soft",
         "type": "bar",
         "visible": false,
         "x": [
          0,
          1,
          2,
          3,
          4,
          5,
          6,
          7,
          8,
          9
         ],
         "y": [
          10,
          10,
          10,
          10,
          10,
          11,
          10,
          10,
          10,
          10
         ]
        },
        {
         "name": "soft",
         "type": "bar",
         "visible": false,
         "x": [
          0,
          1,
          2,
          3,
          4,
          5,
          6,
          7,
          8,
          9
         ],
         "y": [
          10,
          10,
          10,
          10,
          10,
          10,
          10,
          10,
          10,
          10
         ]
        },
        {
         "name": "soft",
         "type": "bar",
         "visible": false,
         "x": [
          0,
          1,
          2,
          3,
          4,
          5,
          6,
          7,
          8,
          9
         ],
         "y": [
          10,
          10,
          10,
          10,
          10,
          10,
          10,
          10,
          10,
          10
         ]
        },
        {
         "name": "soft",
         "type": "bar",
         "visible": false,
         "x": [
          0,
          1,
          2,
          3,
          4,
          5,
          6,
          7,
          8,
          9
         ],
         "y": [
          10,
          10,
          10,
          10,
          10,
          10,
          10,
          10,
          10,
          10
         ]
        },
        {
         "name": "soft",
         "type": "bar",
         "visible": false,
         "x": [
          0,
          1,
          2,
          3,
          4,
          5,
          6,
          7,
          8,
          9
         ],
         "y": [
          10,
          10,
          10,
          10,
          10,
          10,
          10,
          10,
          10,
          10
         ]
        },
        {
         "name": "soft",
         "type": "bar",
         "visible": false,
         "x": [
          0,
          1,
          2,
          3,
          4,
          5,
          6,
          7,
          8,
          9
         ],
         "y": [
          10,
          10,
          10,
          10,
          10,
          10,
          10,
          10,
          10,
          10
         ]
        },
        {
         "name": "soft",
         "type": "bar",
         "visible": false,
         "x": [
          0,
          1,
          2,
          3,
          4,
          5,
          6,
          7,
          8,
          9
         ],
         "y": [
          10,
          10,
          10,
          10,
          10,
          10,
          10,
          10,
          10,
          10
         ]
        },
        {
         "name": "soft",
         "type": "bar",
         "visible": false,
         "x": [
          0,
          1,
          2,
          3,
          4,
          5,
          6,
          7,
          8,
          9
         ],
         "y": [
          10,
          10,
          10,
          10,
          10,
          10,
          10,
          10,
          10,
          10
         ]
        }
       ],
       "layout": {
        "barmode": "group",
        "showlegend": true,
        "sliders": [
         {
          "active": 0,
          "currentvalue": {
           "prefix": "Generacija: "
          },
          "pad": {
           "t": 50
          },
          "steps": [
           {
            "args": [
             {
              "visible": [
               true,
               false,
               false,
               false,
               false,
               false,
               false,
               false,
               false,
               false,
               false,
               false,
               false,
               false,
               false,
               false,
               false,
               false,
               false,
               false,
               true,
               false,
               false,
               false,
               false,
               false,
               false,
               false,
               false,
               false,
               false,
               false,
               false,
               false,
               false,
               false,
               false,
               false,
               false,
               false
              ]
             },
             {
              "title.text": "Fitness populacija 1. generacije"
             }
            ],
            "label": "1. gen",
            "method": "update"
           },
           {
            "args": [
             {
              "visible": [
               false,
               true,
               false,
               false,
               false,
               false,
               false,
               false,
               false,
               false,
               false,
               false,
               false,
               false,
               false,
               false,
               false,
               false,
               false,
               false,
               false,
               true,
               false,
               false,
               false,
               false,
               false,
               false,
               false,
               false,
               false,
               false,
               false,
               false,
               false,
               false,
               false,
               false,
               false,
               false
              ]
             },
             {
              "title.text": "Fitness populacija 2. generacije"
             }
            ],
            "label": "2. gen",
            "method": "update"
           },
           {
            "args": [
             {
              "visible": [
               false,
               false,
               true,
               false,
               false,
               false,
               false,
               false,
               false,
               false,
               false,
               false,
               false,
               false,
               false,
               false,
               false,
               false,
               false,
               false,
               false,
               false,
               true,
               false,
               false,
               false,
               false,
               false,
               false,
               false,
               false,
               false,
               false,
               false,
               false,
               false,
               false,
               false,
               false,
               false
              ]
             },
             {
              "title.text": "Fitness populacija 3. generacije"
             }
            ],
            "label": "3. gen",
            "method": "update"
           },
           {
            "args": [
             {
              "visible": [
               false,
               false,
               false,
               true,
               false,
               false,
               false,
               false,
               false,
               false,
               false,
               false,
               false,
               false,
               false,
               false,
               false,
               false,
               false,
               false,
               false,
               false,
               false,
               true,
               false,
               false,
               false,
               false,
               false,
               false,
               false,
               false,
               false,
               false,
               false,
               false,
               false,
               false,
               false,
               false
              ]
             },
             {
              "title.text": "Fitness populacija 4. generacije"
             }
            ],
            "label": "4. gen",
            "method": "update"
           },
           {
            "args": [
             {
              "visible": [
               false,
               false,
               false,
               false,
               true,
               false,
               false,
               false,
               false,
               false,
               false,
               false,
               false,
               false,
               false,
               false,
               false,
               false,
               false,
               false,
               false,
               false,
               false,
               false,
               true,
               false,
               false,
               false,
               false,
               false,
               false,
               false,
               false,
               false,
               false,
               false,
               false,
               false,
               false,
               false
              ]
             },
             {
              "title.text": "Fitness populacija 5. generacije"
             }
            ],
            "label": "5. gen",
            "method": "update"
           },
           {
            "args": [
             {
              "visible": [
               false,
               false,
               false,
               false,
               false,
               true,
               false,
               false,
               false,
               false,
               false,
               false,
               false,
               false,
               false,
               false,
               false,
               false,
               false,
               false,
               false,
               false,
               false,
               false,
               false,
               true,
               false,
               false,
               false,
               false,
               false,
               false,
               false,
               false,
               false,
               false,
               false,
               false,
               false,
               false
              ]
             },
             {
              "title.text": "Fitness populacija 6. generacije"
             }
            ],
            "label": "6. gen",
            "method": "update"
           },
           {
            "args": [
             {
              "visible": [
               false,
               false,
               false,
               false,
               false,
               false,
               true,
               false,
               false,
               false,
               false,
               false,
               false,
               false,
               false,
               false,
               false,
               false,
               false,
               false,
               false,
               false,
               false,
               false,
               false,
               false,
               true,
               false,
               false,
               false,
               false,
               false,
               false,
               false,
               false,
               false,
               false,
               false,
               false,
               false
              ]
             },
             {
              "title.text": "Fitness populacija 7. generacije"
             }
            ],
            "label": "7. gen",
            "method": "update"
           },
           {
            "args": [
             {
              "visible": [
               false,
               false,
               false,
               false,
               false,
               false,
               false,
               true,
               false,
               false,
               false,
               false,
               false,
               false,
               false,
               false,
               false,
               false,
               false,
               false,
               false,
               false,
               false,
               false,
               false,
               false,
               false,
               true,
               false,
               false,
               false,
               false,
               false,
               false,
               false,
               false,
               false,
               false,
               false,
               false
              ]
             },
             {
              "title.text": "Fitness populacija 8. generacije"
             }
            ],
            "label": "8. gen",
            "method": "update"
           },
           {
            "args": [
             {
              "visible": [
               false,
               false,
               false,
               false,
               false,
               false,
               false,
               false,
               true,
               false,
               false,
               false,
               false,
               false,
               false,
               false,
               false,
               false,
               false,
               false,
               false,
               false,
               false,
               false,
               false,
               false,
               false,
               false,
               true,
               false,
               false,
               false,
               false,
               false,
               false,
               false,
               false,
               false,
               false,
               false
              ]
             },
             {
              "title.text": "Fitness populacija 9. generacije"
             }
            ],
            "label": "9. gen",
            "method": "update"
           },
           {
            "args": [
             {
              "visible": [
               false,
               false,
               false,
               false,
               false,
               false,
               false,
               false,
               false,
               true,
               false,
               false,
               false,
               false,
               false,
               false,
               false,
               false,
               false,
               false,
               false,
               false,
               false,
               false,
               false,
               false,
               false,
               false,
               false,
               true,
               false,
               false,
               false,
               false,
               false,
               false,
               false,
               false,
               false,
               false
              ]
             },
             {
              "title.text": "Fitness populacija 10. generacije"
             }
            ],
            "label": "10. gen",
            "method": "update"
           },
           {
            "args": [
             {
              "visible": [
               false,
               false,
               false,
               false,
               false,
               false,
               false,
               false,
               false,
               false,
               true,
               false,
               false,
               false,
               false,
               false,
               false,
               false,
               false,
               false,
               false,
               false,
               false,
               false,
               false,
               false,
               false,
               false,
               false,
               false,
               true,
               false,
               false,
               false,
               false,
               false,
               false,
               false,
               false,
               false
              ]
             },
             {
              "title.text": "Fitness populacija 11. generacije"
             }
            ],
            "label": "11. gen",
            "method": "update"
           },
           {
            "args": [
             {
              "visible": [
               false,
               false,
               false,
               false,
               false,
               false,
               false,
               false,
               false,
               false,
               false,
               true,
               false,
               false,
               false,
               false,
               false,
               false,
               false,
               false,
               false,
               false,
               false,
               false,
               false,
               false,
               false,
               false,
               false,
               false,
               false,
               true,
               false,
               false,
               false,
               false,
               false,
               false,
               false,
               false
              ]
             },
             {
              "title.text": "Fitness populacija 12. generacije"
             }
            ],
            "label": "12. gen",
            "method": "update"
           },
           {
            "args": [
             {
              "visible": [
               false,
               false,
               false,
               false,
               false,
               false,
               false,
               false,
               false,
               false,
               false,
               false,
               true,
               false,
               false,
               false,
               false,
               false,
               false,
               false,
               false,
               false,
               false,
               false,
               false,
               false,
               false,
               false,
               false,
               false,
               false,
               false,
               true,
               false,
               false,
               false,
               false,
               false,
               false,
               false
              ]
             },
             {
              "title.text": "Fitness populacija 13. generacije"
             }
            ],
            "label": "13. gen",
            "method": "update"
           },
           {
            "args": [
             {
              "visible": [
               false,
               false,
               false,
               false,
               false,
               false,
               false,
               false,
               false,
               false,
               false,
               false,
               false,
               true,
               false,
               false,
               false,
               false,
               false,
               false,
               false,
               false,
               false,
               false,
               false,
               false,
               false,
               false,
               false,
               false,
               false,
               false,
               false,
               true,
               false,
               false,
               false,
               false,
               false,
               false
              ]
             },
             {
              "title.text": "Fitness populacija 14. generacije"
             }
            ],
            "label": "14. gen",
            "method": "update"
           },
           {
            "args": [
             {
              "visible": [
               false,
               false,
               false,
               false,
               false,
               false,
               false,
               false,
               false,
               false,
               false,
               false,
               false,
               false,
               true,
               false,
               false,
               false,
               false,
               false,
               false,
               false,
               false,
               false,
               false,
               false,
               false,
               false,
               false,
               false,
               false,
               false,
               false,
               false,
               true,
               false,
               false,
               false,
               false,
               false
              ]
             },
             {
              "title.text": "Fitness populacija 15. generacije"
             }
            ],
            "label": "15. gen",
            "method": "update"
           },
           {
            "args": [
             {
              "visible": [
               false,
               false,
               false,
               false,
               false,
               false,
               false,
               false,
               false,
               false,
               false,
               false,
               false,
               false,
               false,
               true,
               false,
               false,
               false,
               false,
               false,
               false,
               false,
               false,
               false,
               false,
               false,
               false,
               false,
               false,
               false,
               false,
               false,
               false,
               false,
               true,
               false,
               false,
               false,
               false
              ]
             },
             {
              "title.text": "Fitness populacija 16. generacije"
             }
            ],
            "label": "16. gen",
            "method": "update"
           },
           {
            "args": [
             {
              "visible": [
               false,
               false,
               false,
               false,
               false,
               false,
               false,
               false,
               false,
               false,
               false,
               false,
               false,
               false,
               false,
               false,
               true,
               false,
               false,
               false,
               false,
               false,
               false,
               false,
               false,
               false,
               false,
               false,
               false,
               false,
               false,
               false,
               false,
               false,
               false,
               false,
               true,
               false,
               false,
               false
              ]
             },
             {
              "title.text": "Fitness populacija 17. generacije"
             }
            ],
            "label": "17. gen",
            "method": "update"
           },
           {
            "args": [
             {
              "visible": [
               false,
               false,
               false,
               false,
               false,
               false,
               false,
               false,
               false,
               false,
               false,
               false,
               false,
               false,
               false,
               false,
               false,
               true,
               false,
               false,
               false,
               false,
               false,
               false,
               false,
               false,
               false,
               false,
               false,
               false,
               false,
               false,
               false,
               false,
               false,
               false,
               false,
               true,
               false,
               false
              ]
             },
             {
              "title.text": "Fitness populacija 18. generacije"
             }
            ],
            "label": "18. gen",
            "method": "update"
           },
           {
            "args": [
             {
              "visible": [
               false,
               false,
               false,
               false,
               false,
               false,
               false,
               false,
               false,
               false,
               false,
               false,
               false,
               false,
               false,
               false,
               false,
               false,
               true,
               false,
               false,
               false,
               false,
               false,
               false,
               false,
               false,
               false,
               false,
               false,
               false,
               false,
               false,
               false,
               false,
               false,
               false,
               false,
               true,
               false
              ]
             },
             {
              "title.text": "Fitness populacija 19. generacije"
             }
            ],
            "label": "19. gen",
            "method": "update"
           },
           {
            "args": [
             {
              "visible": [
               false,
               false,
               false,
               false,
               false,
               false,
               false,
               false,
               false,
               false,
               false,
               false,
               false,
               false,
               false,
               false,
               false,
               false,
               false,
               true,
               false,
               false,
               false,
               false,
               false,
               false,
               false,
               false,
               false,
               false,
               false,
               false,
               false,
               false,
               false,
               false,
               false,
               false,
               false,
               true
              ]
             },
             {
              "title.text": "Fitness populacija 20. generacije"
             }
            ],
            "label": "20. gen",
            "method": "update"
           }
          ],
          "transition": {
           "easing": "bounce-in-out"
          }
         }
        ],
        "template": {
         "data": {
          "bar": [
           {
            "error_x": {
             "color": "#2a3f5f"
            },
            "error_y": {
             "color": "#2a3f5f"
            },
            "marker": {
             "line": {
              "color": "#E5ECF6",
              "width": 0.5
             }
            },
            "type": "bar"
           }
          ],
          "barpolar": [
           {
            "marker": {
             "line": {
              "color": "#E5ECF6",
              "width": 0.5
             }
            },
            "type": "barpolar"
           }
          ],
          "carpet": [
           {
            "aaxis": {
             "endlinecolor": "#2a3f5f",
             "gridcolor": "white",
             "linecolor": "white",
             "minorgridcolor": "white",
             "startlinecolor": "#2a3f5f"
            },
            "baxis": {
             "endlinecolor": "#2a3f5f",
             "gridcolor": "white",
             "linecolor": "white",
             "minorgridcolor": "white",
             "startlinecolor": "#2a3f5f"
            },
            "type": "carpet"
           }
          ],
          "choropleth": [
           {
            "colorbar": {
             "outlinewidth": 0,
             "ticks": ""
            },
            "type": "choropleth"
           }
          ],
          "contour": [
           {
            "colorbar": {
             "outlinewidth": 0,
             "ticks": ""
            },
            "colorscale": [
             [
              0,
              "#0d0887"
             ],
             [
              0.1111111111111111,
              "#46039f"
             ],
             [
              0.2222222222222222,
              "#7201a8"
             ],
             [
              0.3333333333333333,
              "#9c179e"
             ],
             [
              0.4444444444444444,
              "#bd3786"
             ],
             [
              0.5555555555555556,
              "#d8576b"
             ],
             [
              0.6666666666666666,
              "#ed7953"
             ],
             [
              0.7777777777777778,
              "#fb9f3a"
             ],
             [
              0.8888888888888888,
              "#fdca26"
             ],
             [
              1,
              "#f0f921"
             ]
            ],
            "type": "contour"
           }
          ],
          "contourcarpet": [
           {
            "colorbar": {
             "outlinewidth": 0,
             "ticks": ""
            },
            "type": "contourcarpet"
           }
          ],
          "heatmap": [
           {
            "colorbar": {
             "outlinewidth": 0,
             "ticks": ""
            },
            "colorscale": [
             [
              0,
              "#0d0887"
             ],
             [
              0.1111111111111111,
              "#46039f"
             ],
             [
              0.2222222222222222,
              "#7201a8"
             ],
             [
              0.3333333333333333,
              "#9c179e"
             ],
             [
              0.4444444444444444,
              "#bd3786"
             ],
             [
              0.5555555555555556,
              "#d8576b"
             ],
             [
              0.6666666666666666,
              "#ed7953"
             ],
             [
              0.7777777777777778,
              "#fb9f3a"
             ],
             [
              0.8888888888888888,
              "#fdca26"
             ],
             [
              1,
              "#f0f921"
             ]
            ],
            "type": "heatmap"
           }
          ],
          "heatmapgl": [
           {
            "colorbar": {
             "outlinewidth": 0,
             "ticks": ""
            },
            "colorscale": [
             [
              0,
              "#0d0887"
             ],
             [
              0.1111111111111111,
              "#46039f"
             ],
             [
              0.2222222222222222,
              "#7201a8"
             ],
             [
              0.3333333333333333,
              "#9c179e"
             ],
             [
              0.4444444444444444,
              "#bd3786"
             ],
             [
              0.5555555555555556,
              "#d8576b"
             ],
             [
              0.6666666666666666,
              "#ed7953"
             ],
             [
              0.7777777777777778,
              "#fb9f3a"
             ],
             [
              0.8888888888888888,
              "#fdca26"
             ],
             [
              1,
              "#f0f921"
             ]
            ],
            "type": "heatmapgl"
           }
          ],
          "histogram": [
           {
            "marker": {
             "colorbar": {
              "outlinewidth": 0,
              "ticks": ""
             }
            },
            "type": "histogram"
           }
          ],
          "histogram2d": [
           {
            "colorbar": {
             "outlinewidth": 0,
             "ticks": ""
            },
            "colorscale": [
             [
              0,
              "#0d0887"
             ],
             [
              0.1111111111111111,
              "#46039f"
             ],
             [
              0.2222222222222222,
              "#7201a8"
             ],
             [
              0.3333333333333333,
              "#9c179e"
             ],
             [
              0.4444444444444444,
              "#bd3786"
             ],
             [
              0.5555555555555556,
              "#d8576b"
             ],
             [
              0.6666666666666666,
              "#ed7953"
             ],
             [
              0.7777777777777778,
              "#fb9f3a"
             ],
             [
              0.8888888888888888,
              "#fdca26"
             ],
             [
              1,
              "#f0f921"
             ]
            ],
            "type": "histogram2d"
           }
          ],
          "histogram2dcontour": [
           {
            "colorbar": {
             "outlinewidth": 0,
             "ticks": ""
            },
            "colorscale": [
             [
              0,
              "#0d0887"
             ],
             [
              0.1111111111111111,
              "#46039f"
             ],
             [
              0.2222222222222222,
              "#7201a8"
             ],
             [
              0.3333333333333333,
              "#9c179e"
             ],
             [
              0.4444444444444444,
              "#bd3786"
             ],
             [
              0.5555555555555556,
              "#d8576b"
             ],
             [
              0.6666666666666666,
              "#ed7953"
             ],
             [
              0.7777777777777778,
              "#fb9f3a"
             ],
             [
              0.8888888888888888,
              "#fdca26"
             ],
             [
              1,
              "#f0f921"
             ]
            ],
            "type": "histogram2dcontour"
           }
          ],
          "mesh3d": [
           {
            "colorbar": {
             "outlinewidth": 0,
             "ticks": ""
            },
            "type": "mesh3d"
           }
          ],
          "parcoords": [
           {
            "line": {
             "colorbar": {
              "outlinewidth": 0,
              "ticks": ""
             }
            },
            "type": "parcoords"
           }
          ],
          "pie": [
           {
            "automargin": true,
            "type": "pie"
           }
          ],
          "scatter": [
           {
            "marker": {
             "colorbar": {
              "outlinewidth": 0,
              "ticks": ""
             }
            },
            "type": "scatter"
           }
          ],
          "scatter3d": [
           {
            "line": {
             "colorbar": {
              "outlinewidth": 0,
              "ticks": ""
             }
            },
            "marker": {
             "colorbar": {
              "outlinewidth": 0,
              "ticks": ""
             }
            },
            "type": "scatter3d"
           }
          ],
          "scattercarpet": [
           {
            "marker": {
             "colorbar": {
              "outlinewidth": 0,
              "ticks": ""
             }
            },
            "type": "scattercarpet"
           }
          ],
          "scattergeo": [
           {
            "marker": {
             "colorbar": {
              "outlinewidth": 0,
              "ticks": ""
             }
            },
            "type": "scattergeo"
           }
          ],
          "scattergl": [
           {
            "marker": {
             "colorbar": {
              "outlinewidth": 0,
              "ticks": ""
             }
            },
            "type": "scattergl"
           }
          ],
          "scattermapbox": [
           {
            "marker": {
             "colorbar": {
              "outlinewidth": 0,
              "ticks": ""
             }
            },
            "type": "scattermapbox"
           }
          ],
          "scatterpolar": [
           {
            "marker": {
             "colorbar": {
              "outlinewidth": 0,
              "ticks": ""
             }
            },
            "type": "scatterpolar"
           }
          ],
          "scatterpolargl": [
           {
            "marker": {
             "colorbar": {
              "outlinewidth": 0,
              "ticks": ""
             }
            },
            "type": "scatterpolargl"
           }
          ],
          "scatterternary": [
           {
            "marker": {
             "colorbar": {
              "outlinewidth": 0,
              "ticks": ""
             }
            },
            "type": "scatterternary"
           }
          ],
          "surface": [
           {
            "colorbar": {
             "outlinewidth": 0,
             "ticks": ""
            },
            "colorscale": [
             [
              0,
              "#0d0887"
             ],
             [
              0.1111111111111111,
              "#46039f"
             ],
             [
              0.2222222222222222,
              "#7201a8"
             ],
             [
              0.3333333333333333,
              "#9c179e"
             ],
             [
              0.4444444444444444,
              "#bd3786"
             ],
             [
              0.5555555555555556,
              "#d8576b"
             ],
             [
              0.6666666666666666,
              "#ed7953"
             ],
             [
              0.7777777777777778,
              "#fb9f3a"
             ],
             [
              0.8888888888888888,
              "#fdca26"
             ],
             [
              1,
              "#f0f921"
             ]
            ],
            "type": "surface"
           }
          ],
          "table": [
           {
            "cells": {
             "fill": {
              "color": "#EBF0F8"
             },
             "line": {
              "color": "white"
             }
            },
            "header": {
             "fill": {
              "color": "#C8D4E3"
             },
             "line": {
              "color": "white"
             }
            },
            "type": "table"
           }
          ]
         },
         "layout": {
          "annotationdefaults": {
           "arrowcolor": "#2a3f5f",
           "arrowhead": 0,
           "arrowwidth": 1
          },
          "coloraxis": {
           "colorbar": {
            "outlinewidth": 0,
            "ticks": ""
           }
          },
          "colorscale": {
           "diverging": [
            [
             0,
             "#8e0152"
            ],
            [
             0.1,
             "#c51b7d"
            ],
            [
             0.2,
             "#de77ae"
            ],
            [
             0.3,
             "#f1b6da"
            ],
            [
             0.4,
             "#fde0ef"
            ],
            [
             0.5,
             "#f7f7f7"
            ],
            [
             0.6,
             "#e6f5d0"
            ],
            [
             0.7,
             "#b8e186"
            ],
            [
             0.8,
             "#7fbc41"
            ],
            [
             0.9,
             "#4d9221"
            ],
            [
             1,
             "#276419"
            ]
           ],
           "sequential": [
            [
             0,
             "#0d0887"
            ],
            [
             0.1111111111111111,
             "#46039f"
            ],
            [
             0.2222222222222222,
             "#7201a8"
            ],
            [
             0.3333333333333333,
             "#9c179e"
            ],
            [
             0.4444444444444444,
             "#bd3786"
            ],
            [
             0.5555555555555556,
             "#d8576b"
            ],
            [
             0.6666666666666666,
             "#ed7953"
            ],
            [
             0.7777777777777778,
             "#fb9f3a"
            ],
            [
             0.8888888888888888,
             "#fdca26"
            ],
            [
             1,
             "#f0f921"
            ]
           ],
           "sequentialminus": [
            [
             0,
             "#0d0887"
            ],
            [
             0.1111111111111111,
             "#46039f"
            ],
            [
             0.2222222222222222,
             "#7201a8"
            ],
            [
             0.3333333333333333,
             "#9c179e"
            ],
            [
             0.4444444444444444,
             "#bd3786"
            ],
            [
             0.5555555555555556,
             "#d8576b"
            ],
            [
             0.6666666666666666,
             "#ed7953"
            ],
            [
             0.7777777777777778,
             "#fb9f3a"
            ],
            [
             0.8888888888888888,
             "#fdca26"
            ],
            [
             1,
             "#f0f921"
            ]
           ]
          },
          "colorway": [
           "#636efa",
           "#EF553B",
           "#00cc96",
           "#ab63fa",
           "#FFA15A",
           "#19d3f3",
           "#FF6692",
           "#B6E880",
           "#FF97FF",
           "#FECB52"
          ],
          "font": {
           "color": "#2a3f5f"
          },
          "geo": {
           "bgcolor": "white",
           "lakecolor": "white",
           "landcolor": "#E5ECF6",
           "showlakes": true,
           "showland": true,
           "subunitcolor": "white"
          },
          "hoverlabel": {
           "align": "left"
          },
          "hovermode": "closest",
          "mapbox": {
           "style": "light"
          },
          "paper_bgcolor": "white",
          "plot_bgcolor": "#E5ECF6",
          "polar": {
           "angularaxis": {
            "gridcolor": "white",
            "linecolor": "white",
            "ticks": ""
           },
           "bgcolor": "#E5ECF6",
           "radialaxis": {
            "gridcolor": "white",
            "linecolor": "white",
            "ticks": ""
           }
          },
          "scene": {
           "xaxis": {
            "backgroundcolor": "#E5ECF6",
            "gridcolor": "white",
            "gridwidth": 2,
            "linecolor": "white",
            "showbackground": true,
            "ticks": "",
            "zerolinecolor": "white"
           },
           "yaxis": {
            "backgroundcolor": "#E5ECF6",
            "gridcolor": "white",
            "gridwidth": 2,
            "linecolor": "white",
            "showbackground": true,
            "ticks": "",
            "zerolinecolor": "white"
           },
           "zaxis": {
            "backgroundcolor": "#E5ECF6",
            "gridcolor": "white",
            "gridwidth": 2,
            "linecolor": "white",
            "showbackground": true,
            "ticks": "",
            "zerolinecolor": "white"
           }
          },
          "shapedefaults": {
           "line": {
            "color": "#2a3f5f"
           }
          },
          "ternary": {
           "aaxis": {
            "gridcolor": "white",
            "linecolor": "white",
            "ticks": ""
           },
           "baxis": {
            "gridcolor": "white",
            "linecolor": "white",
            "ticks": ""
           },
           "bgcolor": "#E5ECF6",
           "caxis": {
            "gridcolor": "white",
            "linecolor": "white",
            "ticks": ""
           }
          },
          "title": {
           "x": 0.05
          },
          "xaxis": {
           "automargin": true,
           "gridcolor": "white",
           "linecolor": "white",
           "ticks": "",
           "title": {
            "standoff": 15
           },
           "zerolinecolor": "white",
           "zerolinewidth": 2
          },
          "yaxis": {
           "automargin": true,
           "gridcolor": "white",
           "linecolor": "white",
           "ticks": "",
           "title": {
            "standoff": 15
           },
           "zerolinecolor": "white",
           "zerolinewidth": 2
          }
         }
        },
        "title": {
         "text": "Broj narušenih ograničenja 1. generacije"
        },
        "xaxis": {
         "title": {
          "text": "Jedinke generacija"
         },
         "type": "category"
        },
        "yaxis": {
         "title": {
          "text": "Broj narušenih ograničenja"
         }
        }
       }
      },
      "text/html": [
       "<div>\n",
       "        \n",
       "        \n",
       "            <div id=\"f5374999-6c00-40fb-b158-80898d82ef93\" class=\"plotly-graph-div\" style=\"height:525px; width:100%;\"></div>\n",
       "            <script type=\"text/javascript\">\n",
       "                require([\"plotly\"], function(Plotly) {\n",
       "                    window.PLOTLYENV=window.PLOTLYENV || {};\n",
       "                    \n",
       "                if (document.getElementById(\"f5374999-6c00-40fb-b158-80898d82ef93\")) {\n",
       "                    Plotly.newPlot(\n",
       "                        'f5374999-6c00-40fb-b158-80898d82ef93',\n",
       "                        [{\"name\": \"hard\", \"type\": \"bar\", \"visible\": true, \"x\": [0, 1, 2, 3, 4, 5, 6, 7, 8, 9], \"y\": [2, 3, 3, 3, 4, 4, 2, 1, 4, 6]}, {\"name\": \"hard\", \"type\": \"bar\", \"visible\": false, \"x\": [0, 1, 2, 3, 4, 5, 6, 7, 8, 9], \"y\": [1, 3, 2, 3, 3, 2, 3, 3, 3, 5]}, {\"name\": \"hard\", \"type\": \"bar\", \"visible\": false, \"x\": [0, 1, 2, 3, 4, 5, 6, 7, 8, 9], \"y\": [2, 1, 1, 2, 1, 3, 2, 1, 0, 6]}, {\"name\": \"hard\", \"type\": \"bar\", \"visible\": false, \"x\": [0, 1, 2, 3, 4, 5, 6, 7, 8, 9], \"y\": [1, 1, 1, 1, 0, 2, 1, 1, 2, 0]}, {\"name\": \"hard\", \"type\": \"bar\", \"visible\": false, \"x\": [0, 1, 2, 3, 4, 5, 6, 7, 8, 9], \"y\": [0, 1, 0, 0, 0, 1, 1, 0, 0, 0]}, {\"name\": \"hard\", \"type\": \"bar\", \"visible\": false, \"x\": [0, 1, 2, 3, 4, 5, 6, 7, 8, 9], \"y\": [1, 0, 1, 0, 2, 0, 0, 0, 0, 0]}, {\"name\": \"hard\", \"type\": \"bar\", \"visible\": false, \"x\": [0, 1, 2, 3, 4, 5, 6, 7, 8, 9], \"y\": [0, 0, 0, 0, 0, 0, 0, 0, 0, 0]}, {\"name\": \"hard\", \"type\": \"bar\", \"visible\": false, \"x\": [0, 1, 2, 3, 4, 5, 6, 7, 8, 9], \"y\": [0, 0, 0, 0, 0, 0, 0, 0, 0, 0]}, {\"name\": \"hard\", \"type\": \"bar\", \"visible\": false, \"x\": [0, 1, 2, 3, 4, 5, 6, 7, 8, 9], \"y\": [0, 0, 0, 0, 0, 0, 0, 0, 0, 0]}, {\"name\": \"hard\", \"type\": \"bar\", \"visible\": false, \"x\": [0, 1, 2, 3, 4, 5, 6, 7, 8, 9], \"y\": [0, 0, 0, 0, 0, 0, 0, 0, 0, 0]}, {\"name\": \"hard\", \"type\": \"bar\", \"visible\": false, \"x\": [0, 1, 2, 3, 4, 5, 6, 7, 8, 9], \"y\": [0, 0, 0, 0, 0, 0, 0, 0, 0, 0]}, {\"name\": \"hard\", \"type\": \"bar\", \"visible\": false, \"x\": [0, 1, 2, 3, 4, 5, 6, 7, 8, 9], \"y\": [0, 0, 0, 0, 0, 0, 0, 0, 0, 0]}, {\"name\": \"hard\", \"type\": \"bar\", \"visible\": false, \"x\": [0, 1, 2, 3, 4, 5, 6, 7, 8, 9], \"y\": [0, 0, 0, 0, 0, 0, 0, 0, 0, 0]}, {\"name\": \"hard\", \"type\": \"bar\", \"visible\": false, \"x\": [0, 1, 2, 3, 4, 5, 6, 7, 8, 9], \"y\": [0, 0, 0, 0, 0, 0, 0, 0, 0, 0]}, {\"name\": \"hard\", \"type\": \"bar\", \"visible\": false, \"x\": [0, 1, 2, 3, 4, 5, 6, 7, 8, 9], \"y\": [0, 0, 0, 0, 0, 0, 0, 0, 0, 0]}, {\"name\": \"hard\", \"type\": \"bar\", \"visible\": false, \"x\": [0, 1, 2, 3, 4, 5, 6, 7, 8, 9], \"y\": [0, 0, 0, 0, 0, 0, 0, 0, 0, 0]}, {\"name\": \"hard\", \"type\": \"bar\", \"visible\": false, \"x\": [0, 1, 2, 3, 4, 5, 6, 7, 8, 9], \"y\": [0, 0, 0, 0, 0, 0, 0, 0, 0, 0]}, {\"name\": \"hard\", \"type\": \"bar\", \"visible\": false, \"x\": [0, 1, 2, 3, 4, 5, 6, 7, 8, 9], \"y\": [0, 0, 0, 0, 0, 0, 0, 0, 0, 0]}, {\"name\": \"hard\", \"type\": \"bar\", \"visible\": false, \"x\": [0, 1, 2, 3, 4, 5, 6, 7, 8, 9], \"y\": [0, 0, 0, 0, 0, 0, 0, 0, 0, 0]}, {\"name\": \"hard\", \"type\": \"bar\", \"visible\": false, \"x\": [0, 1, 2, 3, 4, 5, 6, 7, 8, 9], \"y\": [0, 0, 0, 0, 0, 0, 0, 0, 0, 0]}, {\"name\": \"soft\", \"type\": \"bar\", \"visible\": true, \"x\": [0, 1, 2, 3, 4, 5, 6, 7, 8, 9], \"y\": [13, 8, 13, 11, 11, 13, 11, 12, 8, 11]}, {\"name\": \"soft\", \"type\": \"bar\", \"visible\": false, \"x\": [0, 1, 2, 3, 4, 5, 6, 7, 8, 9], \"y\": [11, 8, 11, 10, 12, 14, 12, 11, 9, 11]}, {\"name\": \"soft\", \"type\": \"bar\", \"visible\": false, \"x\": [0, 1, 2, 3, 4, 5, 6, 7, 8, 9], \"y\": [11, 11, 11, 13, 11, 10, 11, 11, 11, 11]}, {\"name\": \"soft\", \"type\": \"bar\", \"visible\": false, \"x\": [0, 1, 2, 3, 4, 5, 6, 7, 8, 9], \"y\": [11, 11, 12, 12, 12, 11, 10, 12, 11, 13]}, {\"name\": \"soft\", \"type\": \"bar\", \"visible\": false, \"x\": [0, 1, 2, 3, 4, 5, 6, 7, 8, 9], \"y\": [14, 11, 13, 11, 13, 12, 12, 10, 12, 11]}, {\"name\": \"soft\", \"type\": \"bar\", \"visible\": false, \"x\": [0, 1, 2, 3, 4, 5, 6, 7, 8, 9], \"y\": [10, 13, 9, 12, 11, 13, 13, 12, 13, 10]}, {\"name\": \"soft\", \"type\": \"bar\", \"visible\": false, \"x\": [0, 1, 2, 3, 4, 5, 6, 7, 8, 9], \"y\": [11, 11, 12, 13, 13, 13, 11, 11, 13, 12]}, {\"name\": \"soft\", \"type\": \"bar\", \"visible\": false, \"x\": [0, 1, 2, 3, 4, 5, 6, 7, 8, 9], \"y\": [13, 11, 12, 14, 11, 13, 13, 11, 13, 12]}, {\"name\": \"soft\", \"type\": \"bar\", \"visible\": false, \"x\": [0, 1, 2, 3, 4, 5, 6, 7, 8, 9], \"y\": [13, 11, 11, 11, 11, 11, 12, 12, 12, 11]}, {\"name\": \"soft\", \"type\": \"bar\", \"visible\": false, \"x\": [0, 1, 2, 3, 4, 5, 6, 7, 8, 9], \"y\": [11, 11, 11, 11, 11, 11, 11, 11, 11, 11]}, {\"name\": \"soft\", \"type\": \"bar\", \"visible\": false, \"x\": [0, 1, 2, 3, 4, 5, 6, 7, 8, 9], \"y\": [10, 12, 12, 10, 11, 11, 11, 11, 11, 11]}, {\"name\": \"soft\", \"type\": \"bar\", \"visible\": false, \"x\": [0, 1, 2, 3, 4, 5, 6, 7, 8, 9], \"y\": [10, 12, 10, 10, 10, 11, 11, 11, 11, 10]}, {\"name\": \"soft\", \"type\": \"bar\", \"visible\": false, \"x\": [0, 1, 2, 3, 4, 5, 6, 7, 8, 9], \"y\": [10, 10, 10, 10, 10, 11, 10, 10, 10, 10]}, {\"name\": \"soft\", \"type\": \"bar\", \"visible\": false, \"x\": [0, 1, 2, 3, 4, 5, 6, 7, 8, 9], \"y\": [10, 10, 10, 10, 10, 10, 10, 10, 10, 10]}, {\"name\": \"soft\", \"type\": \"bar\", \"visible\": false, \"x\": [0, 1, 2, 3, 4, 5, 6, 7, 8, 9], \"y\": [10, 10, 10, 10, 10, 10, 10, 10, 10, 10]}, {\"name\": \"soft\", \"type\": \"bar\", \"visible\": false, \"x\": [0, 1, 2, 3, 4, 5, 6, 7, 8, 9], \"y\": [10, 10, 10, 10, 10, 10, 10, 10, 10, 10]}, {\"name\": \"soft\", \"type\": \"bar\", \"visible\": false, \"x\": [0, 1, 2, 3, 4, 5, 6, 7, 8, 9], \"y\": [10, 10, 10, 10, 10, 10, 10, 10, 10, 10]}, {\"name\": \"soft\", \"type\": \"bar\", \"visible\": false, \"x\": [0, 1, 2, 3, 4, 5, 6, 7, 8, 9], \"y\": [10, 10, 10, 10, 10, 10, 10, 10, 10, 10]}, {\"name\": \"soft\", \"type\": \"bar\", \"visible\": false, \"x\": [0, 1, 2, 3, 4, 5, 6, 7, 8, 9], \"y\": [10, 10, 10, 10, 10, 10, 10, 10, 10, 10]}, {\"name\": \"soft\", \"type\": \"bar\", \"visible\": false, \"x\": [0, 1, 2, 3, 4, 5, 6, 7, 8, 9], \"y\": [10, 10, 10, 10, 10, 10, 10, 10, 10, 10]}],\n",
       "                        {\"barmode\": \"group\", \"showlegend\": true, \"sliders\": [{\"active\": 0, \"currentvalue\": {\"prefix\": \"Generacija: \"}, \"pad\": {\"t\": 50}, \"steps\": [{\"args\": [{\"visible\": [true, false, false, false, false, false, false, false, false, false, false, false, false, false, false, false, false, false, false, false, true, false, false, false, false, false, false, false, false, false, false, false, false, false, false, false, false, false, false, false]}, {\"title.text\": \"Fitness populacija 1. generacije\"}], \"label\": \"1. gen\", \"method\": \"update\"}, {\"args\": [{\"visible\": [false, true, false, false, false, false, false, false, false, false, false, false, false, false, false, false, false, false, false, false, false, true, false, false, false, false, false, false, false, false, false, false, false, false, false, false, false, false, false, false]}, {\"title.text\": \"Fitness populacija 2. generacije\"}], \"label\": \"2. gen\", \"method\": \"update\"}, {\"args\": [{\"visible\": [false, false, true, false, false, false, false, false, false, false, false, false, false, false, false, false, false, false, false, false, false, false, true, false, false, false, false, false, false, false, false, false, false, false, false, false, false, false, false, false]}, {\"title.text\": \"Fitness populacija 3. generacije\"}], \"label\": \"3. gen\", \"method\": \"update\"}, {\"args\": [{\"visible\": [false, false, false, true, false, false, false, false, false, false, false, false, false, false, false, false, false, false, false, false, false, false, false, true, false, false, false, false, false, false, false, false, false, false, false, false, false, false, false, false]}, {\"title.text\": \"Fitness populacija 4. generacije\"}], \"label\": \"4. gen\", \"method\": \"update\"}, {\"args\": [{\"visible\": [false, false, false, false, true, false, false, false, false, false, false, false, false, false, false, false, false, false, false, false, false, false, false, false, true, false, false, false, false, false, false, false, false, false, false, false, false, false, false, false]}, {\"title.text\": \"Fitness populacija 5. generacije\"}], \"label\": \"5. gen\", \"method\": \"update\"}, {\"args\": [{\"visible\": [false, false, false, false, false, true, false, false, false, false, false, false, false, false, false, false, false, false, false, false, false, false, false, false, false, true, false, false, false, false, false, false, false, false, false, false, false, false, false, false]}, {\"title.text\": \"Fitness populacija 6. generacije\"}], \"label\": \"6. gen\", \"method\": \"update\"}, {\"args\": [{\"visible\": [false, false, false, false, false, false, true, false, false, false, false, false, false, false, false, false, false, false, false, false, false, false, false, false, false, false, true, false, false, false, false, false, false, false, false, false, false, false, false, false]}, {\"title.text\": \"Fitness populacija 7. generacije\"}], \"label\": \"7. gen\", \"method\": \"update\"}, {\"args\": [{\"visible\": [false, false, false, false, false, false, false, true, false, false, false, false, false, false, false, false, false, false, false, false, false, false, false, false, false, false, false, true, false, false, false, false, false, false, false, false, false, false, false, false]}, {\"title.text\": \"Fitness populacija 8. generacije\"}], \"label\": \"8. gen\", \"method\": \"update\"}, {\"args\": [{\"visible\": [false, false, false, false, false, false, false, false, true, false, false, false, false, false, false, false, false, false, false, false, false, false, false, false, false, false, false, false, true, false, false, false, false, false, false, false, false, false, false, false]}, {\"title.text\": \"Fitness populacija 9. generacije\"}], \"label\": \"9. gen\", \"method\": \"update\"}, {\"args\": [{\"visible\": [false, false, false, false, false, false, false, false, false, true, false, false, false, false, false, false, false, false, false, false, false, false, false, false, false, false, false, false, false, true, false, false, false, false, false, false, false, false, false, false]}, {\"title.text\": \"Fitness populacija 10. generacije\"}], \"label\": \"10. gen\", \"method\": \"update\"}, {\"args\": [{\"visible\": [false, false, false, false, false, false, false, false, false, false, true, false, false, false, false, false, false, false, false, false, false, false, false, false, false, false, false, false, false, false, true, false, false, false, false, false, false, false, false, false]}, {\"title.text\": \"Fitness populacija 11. generacije\"}], \"label\": \"11. gen\", \"method\": \"update\"}, {\"args\": [{\"visible\": [false, false, false, false, false, false, false, false, false, false, false, true, false, false, false, false, false, false, false, false, false, false, false, false, false, false, false, false, false, false, false, true, false, false, false, false, false, false, false, false]}, {\"title.text\": \"Fitness populacija 12. generacije\"}], \"label\": \"12. gen\", \"method\": \"update\"}, {\"args\": [{\"visible\": [false, false, false, false, false, false, false, false, false, false, false, false, true, false, false, false, false, false, false, false, false, false, false, false, false, false, false, false, false, false, false, false, true, false, false, false, false, false, false, false]}, {\"title.text\": \"Fitness populacija 13. generacije\"}], \"label\": \"13. gen\", \"method\": \"update\"}, {\"args\": [{\"visible\": [false, false, false, false, false, false, false, false, false, false, false, false, false, true, false, false, false, false, false, false, false, false, false, false, false, false, false, false, false, false, false, false, false, true, false, false, false, false, false, false]}, {\"title.text\": \"Fitness populacija 14. generacije\"}], \"label\": \"14. gen\", \"method\": \"update\"}, {\"args\": [{\"visible\": [false, false, false, false, false, false, false, false, false, false, false, false, false, false, true, false, false, false, false, false, false, false, false, false, false, false, false, false, false, false, false, false, false, false, true, false, false, false, false, false]}, {\"title.text\": \"Fitness populacija 15. generacije\"}], \"label\": \"15. gen\", \"method\": \"update\"}, {\"args\": [{\"visible\": [false, false, false, false, false, false, false, false, false, false, false, false, false, false, false, true, false, false, false, false, false, false, false, false, false, false, false, false, false, false, false, false, false, false, false, true, false, false, false, false]}, {\"title.text\": \"Fitness populacija 16. generacije\"}], \"label\": \"16. gen\", \"method\": \"update\"}, {\"args\": [{\"visible\": [false, false, false, false, false, false, false, false, false, false, false, false, false, false, false, false, true, false, false, false, false, false, false, false, false, false, false, false, false, false, false, false, false, false, false, false, true, false, false, false]}, {\"title.text\": \"Fitness populacija 17. generacije\"}], \"label\": \"17. gen\", \"method\": \"update\"}, {\"args\": [{\"visible\": [false, false, false, false, false, false, false, false, false, false, false, false, false, false, false, false, false, true, false, false, false, false, false, false, false, false, false, false, false, false, false, false, false, false, false, false, false, true, false, false]}, {\"title.text\": \"Fitness populacija 18. generacije\"}], \"label\": \"18. gen\", \"method\": \"update\"}, {\"args\": [{\"visible\": [false, false, false, false, false, false, false, false, false, false, false, false, false, false, false, false, false, false, true, false, false, false, false, false, false, false, false, false, false, false, false, false, false, false, false, false, false, false, true, false]}, {\"title.text\": \"Fitness populacija 19. generacije\"}], \"label\": \"19. gen\", \"method\": \"update\"}, {\"args\": [{\"visible\": [false, false, false, false, false, false, false, false, false, false, false, false, false, false, false, false, false, false, false, true, false, false, false, false, false, false, false, false, false, false, false, false, false, false, false, false, false, false, false, true]}, {\"title.text\": \"Fitness populacija 20. generacije\"}], \"label\": \"20. gen\", \"method\": \"update\"}], \"transition\": {\"easing\": \"bounce-in-out\"}}], \"template\": {\"data\": {\"bar\": [{\"error_x\": {\"color\": \"#2a3f5f\"}, \"error_y\": {\"color\": \"#2a3f5f\"}, \"marker\": {\"line\": {\"color\": \"#E5ECF6\", \"width\": 0.5}}, \"type\": \"bar\"}], \"barpolar\": [{\"marker\": {\"line\": {\"color\": \"#E5ECF6\", \"width\": 0.5}}, \"type\": \"barpolar\"}], \"carpet\": [{\"aaxis\": {\"endlinecolor\": \"#2a3f5f\", \"gridcolor\": \"white\", \"linecolor\": \"white\", \"minorgridcolor\": \"white\", \"startlinecolor\": \"#2a3f5f\"}, \"baxis\": {\"endlinecolor\": \"#2a3f5f\", \"gridcolor\": \"white\", \"linecolor\": \"white\", \"minorgridcolor\": \"white\", \"startlinecolor\": \"#2a3f5f\"}, \"type\": \"carpet\"}], \"choropleth\": [{\"colorbar\": {\"outlinewidth\": 0, \"ticks\": \"\"}, \"type\": \"choropleth\"}], \"contour\": [{\"colorbar\": {\"outlinewidth\": 0, \"ticks\": \"\"}, \"colorscale\": [[0.0, \"#0d0887\"], [0.1111111111111111, \"#46039f\"], [0.2222222222222222, \"#7201a8\"], [0.3333333333333333, \"#9c179e\"], [0.4444444444444444, \"#bd3786\"], [0.5555555555555556, \"#d8576b\"], [0.6666666666666666, \"#ed7953\"], [0.7777777777777778, \"#fb9f3a\"], [0.8888888888888888, \"#fdca26\"], [1.0, \"#f0f921\"]], \"type\": \"contour\"}], \"contourcarpet\": [{\"colorbar\": {\"outlinewidth\": 0, \"ticks\": \"\"}, \"type\": \"contourcarpet\"}], \"heatmap\": [{\"colorbar\": {\"outlinewidth\": 0, \"ticks\": \"\"}, \"colorscale\": [[0.0, \"#0d0887\"], [0.1111111111111111, \"#46039f\"], [0.2222222222222222, \"#7201a8\"], [0.3333333333333333, \"#9c179e\"], [0.4444444444444444, \"#bd3786\"], [0.5555555555555556, \"#d8576b\"], [0.6666666666666666, \"#ed7953\"], [0.7777777777777778, \"#fb9f3a\"], [0.8888888888888888, \"#fdca26\"], [1.0, \"#f0f921\"]], \"type\": \"heatmap\"}], \"heatmapgl\": [{\"colorbar\": {\"outlinewidth\": 0, \"ticks\": \"\"}, \"colorscale\": [[0.0, \"#0d0887\"], [0.1111111111111111, \"#46039f\"], [0.2222222222222222, \"#7201a8\"], [0.3333333333333333, \"#9c179e\"], [0.4444444444444444, \"#bd3786\"], [0.5555555555555556, \"#d8576b\"], [0.6666666666666666, \"#ed7953\"], [0.7777777777777778, \"#fb9f3a\"], [0.8888888888888888, \"#fdca26\"], [1.0, \"#f0f921\"]], \"type\": \"heatmapgl\"}], \"histogram\": [{\"marker\": {\"colorbar\": {\"outlinewidth\": 0, \"ticks\": \"\"}}, \"type\": \"histogram\"}], \"histogram2d\": [{\"colorbar\": {\"outlinewidth\": 0, \"ticks\": \"\"}, \"colorscale\": [[0.0, \"#0d0887\"], [0.1111111111111111, \"#46039f\"], [0.2222222222222222, \"#7201a8\"], [0.3333333333333333, \"#9c179e\"], [0.4444444444444444, \"#bd3786\"], [0.5555555555555556, \"#d8576b\"], [0.6666666666666666, \"#ed7953\"], [0.7777777777777778, \"#fb9f3a\"], [0.8888888888888888, \"#fdca26\"], [1.0, \"#f0f921\"]], \"type\": \"histogram2d\"}], \"histogram2dcontour\": [{\"colorbar\": {\"outlinewidth\": 0, \"ticks\": \"\"}, \"colorscale\": [[0.0, \"#0d0887\"], [0.1111111111111111, \"#46039f\"], [0.2222222222222222, \"#7201a8\"], [0.3333333333333333, \"#9c179e\"], [0.4444444444444444, \"#bd3786\"], [0.5555555555555556, \"#d8576b\"], [0.6666666666666666, \"#ed7953\"], [0.7777777777777778, \"#fb9f3a\"], [0.8888888888888888, \"#fdca26\"], [1.0, \"#f0f921\"]], \"type\": \"histogram2dcontour\"}], \"mesh3d\": [{\"colorbar\": {\"outlinewidth\": 0, \"ticks\": \"\"}, \"type\": \"mesh3d\"}], \"parcoords\": [{\"line\": {\"colorbar\": {\"outlinewidth\": 0, \"ticks\": \"\"}}, \"type\": \"parcoords\"}], \"pie\": [{\"automargin\": true, \"type\": \"pie\"}], \"scatter\": [{\"marker\": {\"colorbar\": {\"outlinewidth\": 0, \"ticks\": \"\"}}, \"type\": \"scatter\"}], \"scatter3d\": [{\"line\": {\"colorbar\": {\"outlinewidth\": 0, \"ticks\": \"\"}}, \"marker\": {\"colorbar\": {\"outlinewidth\": 0, \"ticks\": \"\"}}, \"type\": \"scatter3d\"}], \"scattercarpet\": [{\"marker\": {\"colorbar\": {\"outlinewidth\": 0, \"ticks\": \"\"}}, \"type\": \"scattercarpet\"}], \"scattergeo\": [{\"marker\": {\"colorbar\": {\"outlinewidth\": 0, \"ticks\": \"\"}}, \"type\": \"scattergeo\"}], \"scattergl\": [{\"marker\": {\"colorbar\": {\"outlinewidth\": 0, \"ticks\": \"\"}}, \"type\": \"scattergl\"}], \"scattermapbox\": [{\"marker\": {\"colorbar\": {\"outlinewidth\": 0, \"ticks\": \"\"}}, \"type\": \"scattermapbox\"}], \"scatterpolar\": [{\"marker\": {\"colorbar\": {\"outlinewidth\": 0, \"ticks\": \"\"}}, \"type\": \"scatterpolar\"}], \"scatterpolargl\": [{\"marker\": {\"colorbar\": {\"outlinewidth\": 0, \"ticks\": \"\"}}, \"type\": \"scatterpolargl\"}], \"scatterternary\": [{\"marker\": {\"colorbar\": {\"outlinewidth\": 0, \"ticks\": \"\"}}, \"type\": \"scatterternary\"}], \"surface\": [{\"colorbar\": {\"outlinewidth\": 0, \"ticks\": \"\"}, \"colorscale\": [[0.0, \"#0d0887\"], [0.1111111111111111, \"#46039f\"], [0.2222222222222222, \"#7201a8\"], [0.3333333333333333, \"#9c179e\"], [0.4444444444444444, \"#bd3786\"], [0.5555555555555556, \"#d8576b\"], [0.6666666666666666, \"#ed7953\"], [0.7777777777777778, \"#fb9f3a\"], [0.8888888888888888, \"#fdca26\"], [1.0, \"#f0f921\"]], \"type\": \"surface\"}], \"table\": [{\"cells\": {\"fill\": {\"color\": \"#EBF0F8\"}, \"line\": {\"color\": \"white\"}}, \"header\": {\"fill\": {\"color\": \"#C8D4E3\"}, \"line\": {\"color\": \"white\"}}, \"type\": \"table\"}]}, \"layout\": {\"annotationdefaults\": {\"arrowcolor\": \"#2a3f5f\", \"arrowhead\": 0, \"arrowwidth\": 1}, \"coloraxis\": {\"colorbar\": {\"outlinewidth\": 0, \"ticks\": \"\"}}, \"colorscale\": {\"diverging\": [[0, \"#8e0152\"], [0.1, \"#c51b7d\"], [0.2, \"#de77ae\"], [0.3, \"#f1b6da\"], [0.4, \"#fde0ef\"], [0.5, \"#f7f7f7\"], [0.6, \"#e6f5d0\"], [0.7, \"#b8e186\"], [0.8, \"#7fbc41\"], [0.9, \"#4d9221\"], [1, \"#276419\"]], \"sequential\": [[0.0, \"#0d0887\"], [0.1111111111111111, \"#46039f\"], [0.2222222222222222, \"#7201a8\"], [0.3333333333333333, \"#9c179e\"], [0.4444444444444444, \"#bd3786\"], [0.5555555555555556, \"#d8576b\"], [0.6666666666666666, \"#ed7953\"], [0.7777777777777778, \"#fb9f3a\"], [0.8888888888888888, \"#fdca26\"], [1.0, \"#f0f921\"]], \"sequentialminus\": [[0.0, \"#0d0887\"], [0.1111111111111111, \"#46039f\"], [0.2222222222222222, \"#7201a8\"], [0.3333333333333333, \"#9c179e\"], [0.4444444444444444, \"#bd3786\"], [0.5555555555555556, \"#d8576b\"], [0.6666666666666666, \"#ed7953\"], [0.7777777777777778, \"#fb9f3a\"], [0.8888888888888888, \"#fdca26\"], [1.0, \"#f0f921\"]]}, \"colorway\": [\"#636efa\", \"#EF553B\", \"#00cc96\", \"#ab63fa\", \"#FFA15A\", \"#19d3f3\", \"#FF6692\", \"#B6E880\", \"#FF97FF\", \"#FECB52\"], \"font\": {\"color\": \"#2a3f5f\"}, \"geo\": {\"bgcolor\": \"white\", \"lakecolor\": \"white\", \"landcolor\": \"#E5ECF6\", \"showlakes\": true, \"showland\": true, \"subunitcolor\": \"white\"}, \"hoverlabel\": {\"align\": \"left\"}, \"hovermode\": \"closest\", \"mapbox\": {\"style\": \"light\"}, \"paper_bgcolor\": \"white\", \"plot_bgcolor\": \"#E5ECF6\", \"polar\": {\"angularaxis\": {\"gridcolor\": \"white\", \"linecolor\": \"white\", \"ticks\": \"\"}, \"bgcolor\": \"#E5ECF6\", \"radialaxis\": {\"gridcolor\": \"white\", \"linecolor\": \"white\", \"ticks\": \"\"}}, \"scene\": {\"xaxis\": {\"backgroundcolor\": \"#E5ECF6\", \"gridcolor\": \"white\", \"gridwidth\": 2, \"linecolor\": \"white\", \"showbackground\": true, \"ticks\": \"\", \"zerolinecolor\": \"white\"}, \"yaxis\": {\"backgroundcolor\": \"#E5ECF6\", \"gridcolor\": \"white\", \"gridwidth\": 2, \"linecolor\": \"white\", \"showbackground\": true, \"ticks\": \"\", \"zerolinecolor\": \"white\"}, \"zaxis\": {\"backgroundcolor\": \"#E5ECF6\", \"gridcolor\": \"white\", \"gridwidth\": 2, \"linecolor\": \"white\", \"showbackground\": true, \"ticks\": \"\", \"zerolinecolor\": \"white\"}}, \"shapedefaults\": {\"line\": {\"color\": \"#2a3f5f\"}}, \"ternary\": {\"aaxis\": {\"gridcolor\": \"white\", \"linecolor\": \"white\", \"ticks\": \"\"}, \"baxis\": {\"gridcolor\": \"white\", \"linecolor\": \"white\", \"ticks\": \"\"}, \"bgcolor\": \"#E5ECF6\", \"caxis\": {\"gridcolor\": \"white\", \"linecolor\": \"white\", \"ticks\": \"\"}}, \"title\": {\"x\": 0.05}, \"xaxis\": {\"automargin\": true, \"gridcolor\": \"white\", \"linecolor\": \"white\", \"ticks\": \"\", \"title\": {\"standoff\": 15}, \"zerolinecolor\": \"white\", \"zerolinewidth\": 2}, \"yaxis\": {\"automargin\": true, \"gridcolor\": \"white\", \"linecolor\": \"white\", \"ticks\": \"\", \"title\": {\"standoff\": 15}, \"zerolinecolor\": \"white\", \"zerolinewidth\": 2}}}, \"title\": {\"text\": \"Broj naru\\u0161enih ograni\\u010denja 1. generacije\"}, \"xaxis\": {\"title\": {\"text\": \"Jedinke generacija\"}, \"type\": \"category\"}, \"yaxis\": {\"title\": {\"text\": \"Broj naru\\u0161enih ograni\\u010denja\"}}},\n",
       "                        {\"responsive\": true}\n",
       "                    ).then(function(){\n",
       "                            \n",
       "var gd = document.getElementById('f5374999-6c00-40fb-b158-80898d82ef93');\n",
       "var x = new MutationObserver(function (mutations, observer) {{\n",
       "        var display = window.getComputedStyle(gd).display;\n",
       "        if (!display || display === 'none') {{\n",
       "            console.log([gd, 'removed!']);\n",
       "            Plotly.purge(gd);\n",
       "            observer.disconnect();\n",
       "        }}\n",
       "}});\n",
       "\n",
       "// Listen for the removal of the full notebook cells\n",
       "var notebookContainer = gd.closest('#notebook-container');\n",
       "if (notebookContainer) {{\n",
       "    x.observe(notebookContainer, {childList: true});\n",
       "}}\n",
       "\n",
       "// Listen for the clearing of the current output cell\n",
       "var outputEl = gd.closest('.output');\n",
       "if (outputEl) {{\n",
       "    x.observe(outputEl, {childList: true});\n",
       "}}\n",
       "\n",
       "                        })\n",
       "                };\n",
       "                });\n",
       "            </script>\n",
       "        </div>"
      ]
     },
     "metadata": {},
     "output_type": "display_data"
    }
   ],
   "source": [
    "plot_restrictions(ulazni_podaci)"
   ]
  },
  {
   "cell_type": "code",
   "execution_count": 14,
   "metadata": {},
   "outputs": [],
   "source": [
    "def plot_prof_pref(ulazni_podaci):\n",
    "    def pref_matrix(ulazni_podaci, prof_id):\n",
    "        podaci = {r['dan']: sorted(list(r['termini'])) for r in ulazni_podaci['preferencije']['profesori'][prof_id]['odabir']}\n",
    "        podaci.update({d: [] for d in ulazni_podaci['dani'] if d not in podaci})\n",
    "        return [[1.0 if j in podaci[i] else 0.0 for i in ulazni_podaci['dani']] for j in ulazni_podaci['termini']]\n",
    "\n",
    "    fig = plt.figure()\n",
    "    fig, ax = plt.subplots(1, len(ulazni_podaci['preferencije']['profesori']), figsize=(12,12))\n",
    "    fig.suptitle(\"Preferencije termina profesora\", fontsize=\"xx-large\")\n",
    "    for j in range(len(ulazni_podaci['preferencije']['profesori'])):\n",
    "        ax[j].set_xticks([i - 0.5 for i in range(len(ulazni_podaci['dani']))], minor=True)\n",
    "        ax[j].set_yticks([i - 0.5 for i in range(len(ulazni_podaci['termini']))], minor=True)\n",
    "        ax[j].grid(which=\"minor\", color=\"w\", linestyle='-', linewidth=3)\n",
    "        ax[j].tick_params(top=True, bottom=True, labeltop=True, labelbottom=True, right=True, left=True, labelright=True, labelleft=True)\n",
    "        ax[j].set_xticklabels(['']+[str(d) for d in ulazni_podaci['dani']])\n",
    "        ax[j].set_yticklabels(['']+[str(t) for t in ulazni_podaci['termini']])\n",
    "        tick_spacing = 1\n",
    "        ax[j].xaxis.set_major_locator(ticker.MultipleLocator(tick_spacing))\n",
    "        ax[j].yaxis.set_major_locator(ticker.MultipleLocator(tick_spacing))\n",
    "        ax[j].set_title(f\"Preferencije termina profesora '{ulazni_podaci['nastavnici'][ulazni_podaci['preferencije']['profesori'][j]['p_id']]['preime']}'\")\n",
    "        ax[j].set_xlabel('Dani')\n",
    "        ax[j].set_ylabel('Termini')\n",
    "        heatplot = ax[j].imshow(pref_matrix(ulazni_podaci, j), cmap=mpl.colors.LinearSegmentedColormap.from_list(\"\", [\"coral\",\"lightgreen\"]))"
   ]
  },
  {
   "cell_type": "code",
   "execution_count": 15,
   "metadata": {},
   "outputs": [
    {
     "data": {
      "text/plain": [
       "<Figure size 432x288 with 0 Axes>"
      ]
     },
     "metadata": {},
     "output_type": "display_data"
    },
    {
     "data": {
      "image/png": "[encoded data removed]",
      "text/plain": [
       "<Figure size 864x864 with 2 Axes>"
      ]
     },
     "metadata": {
      "needs_background": "light"
     },
     "output_type": "display_data"
    }
   ],
   "source": [
    "plot_prof_pref(ulazni_podaci)"
   ]
  },
  {
   "cell_type": "code",
   "execution_count": null,
   "metadata": {
    "collapsed": true
   },
   "outputs": [],
   "source": []
  }
 ],
 "metadata": {
  "kernelspec": {
   "display_name": "Python 3",
   "language": "python",
   "name": "python3"
  },
  "language_info": {
   "codemirror_mode": {
    "name": "ipython",
    "version": 3
   },
   "file_extension": ".py",
   "mimetype": "text/x-python",
   "name": "python",
   "nbconvert_exporter": "python",
   "pygments_lexer": "ipython3",
   "version": "3.7.4"
  }
 },
 "nbformat": 4,
 "nbformat_minor": 2
}
