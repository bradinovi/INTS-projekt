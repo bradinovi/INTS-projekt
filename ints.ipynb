{
 "cells": [
  {
   "cell_type": "code",
   "execution_count": 1,
   "metadata": {},
   "outputs": [
    {
     "data": {
      "text/html": [
       "<style>.container { width:100% !important; }</style>"
      ],
      "text/plain": [
       "<IPython.core.display.HTML object>"
      ]
     },
     "metadata": {},
     "output_type": "display_data"
    }
   ],
   "source": [
    "#Širi prikaz u notebook-u\n",
    "from IPython.core.display import display, HTML\n",
    "display(HTML(\"<style>.container { width:100% !important; }</style>\"))"
   ]
  },
  {
   "cell_type": "code",
   "execution_count": 2,
   "metadata": {
    "collapsed": true
   },
   "outputs": [],
   "source": [
    "import pprint, genalg, json\n",
    "import plotly.offline as py\n",
    "import plotly.graph_objs as go\n",
    "import matplotlib.ticker as ticker\n",
    "import matplotlib.cm as cm\n",
    "import matplotlib as mpl\n",
    "\n",
    "import matplotlib.pyplot as plt"
   ]
  },
  {
   "cell_type": "code",
   "execution_count": 3,
   "metadata": {},
   "outputs": [
    {
     "data": {
      "text/html": [
       "        <script type=\"text/javascript\">\n",
       "        window.PlotlyConfig = {MathJaxConfig: 'local'};\n",
       "        if (window.MathJax) {MathJax.Hub.Config({SVG: {font: \"STIX-Web\"}});}\n",
       "        if (typeof require !== 'undefined') {\n",
       "        require.undef(\"plotly\");\n",
       "        requirejs.config({\n",
       "            paths: {\n",
       "                'plotly': ['https://cdn.plot.ly/plotly-latest.min']\n",
       "            }\n",
       "        });\n",
       "        require(['plotly'], function(Plotly) {\n",
       "            window._Plotly = Plotly;\n",
       "        });\n",
       "        }\n",
       "        </script>\n",
       "        "
      ]
     },
     "metadata": {},
     "output_type": "display_data"
    }
   ],
   "source": [
    "py.init_notebook_mode(connected=True)"
   ]
  },
  {
   "cell_type": "code",
   "execution_count": 4,
   "metadata": {
    "collapsed": true
   },
   "outputs": [],
   "source": [
    "%matplotlib inline"
   ]
  },
  {
   "cell_type": "code",
   "execution_count": 5,
   "metadata": {
    "collapsed": true
   },
   "outputs": [],
   "source": [
    "with open('podaci.json', \"r\", encoding='utf-8-sig') as f:\n",
    "    podaci = json.loads(f.read())"
   ]
  },
  {
   "cell_type": "code",
   "execution_count": 6,
   "metadata": {},
   "outputs": [
    {
     "name": "stdout",
     "output_type": "stream",
     "text": [
      "  1. generacija -> population average fit: 61.06678718235802, best chromosome fit: 400.26259127659847\n",
      "  2. generacija -> population average fit: 61.06678718235802,  best chromosome fit: 400.26259127659847\n",
      "  3. generacija -> population average fit: 130.7762393652253,  best chromosome fit: 509.32936225011326\n",
      "  4. generacija -> population average fit: 103.43458051261314,  best chromosome fit: 499.5100336976187\n",
      "  5. generacija -> population average fit: 144.3868490331875,  best chromosome fit: 589.6896154588115\n",
      "  6. generacija -> population average fit: 231.9591726748005,  best chromosome fit: 589.6896154588115\n",
      "  7. generacija -> population average fit: 477.4962051960364,  best chromosome fit: 589.6896154588115\n",
      "  8. generacija -> population average fit: 589.6896154588115,  best chromosome fit: 589.6896154588115\n",
      "  9. generacija -> population average fit: 589.6896154588115,  best chromosome fit: 589.6896154588115\n",
      " 10. generacija -> population average fit: 589.6896154588115,  best chromosome fit: 589.6896154588115\n",
      " 11. generacija -> population average fit: 589.6896154588115,  best chromosome fit: 589.6896154588115\n",
      " 12. generacija -> population average fit: 589.6896154588115,  best chromosome fit: 589.6896154588115\n",
      " 13. generacija -> population average fit: 589.6896154588115,  best chromosome fit: 589.6896154588115\n",
      " 14. generacija -> population average fit: 589.6896154588115,  best chromosome fit: 589.6896154588115\n",
      " 15. generacija -> population average fit: 589.6896154588115,  best chromosome fit: 589.6896154588115\n",
      " 16. generacija -> population average fit: 589.6896154588115,  best chromosome fit: 589.6896154588115\n",
      " 17. generacija -> population average fit: 589.6896154588115,  best chromosome fit: 589.6896154588115\n",
      " 18. generacija -> population average fit: 589.6896154588115,  best chromosome fit: 589.6896154588115\n",
      " 19. generacija -> population average fit: 589.6896154588115,  best chromosome fit: 589.6896154588115\n",
      " 20. generacija -> population average fit: 589.6896154588115,  best chromosome fit: 589.6896154588115\n",
      "\n",
      "Izlaz zapisan u datoteku 'rezultati.json'\n"
     ]
    }
   ],
   "source": [
    "ulazni_podaci, generacije = genalg.glavna_funk(podaci, write_to_file=True, file_name=\"rezultati.json\")"
   ]
  },
  {
   "cell_type": "code",
   "execution_count": 7,
   "metadata": {},
   "outputs": [
    {
     "name": "stdout",
     "output_type": "stream",
     "text": [
      "{'dani': [1, 2, 3, 4, 5],\n",
      " 'dvorane': {1: {'id': 1, 'kapacitet': 50, 'naziv': 'D1', 'spec': {'P', 'S'}},\n",
      "             2: {'id': 2, 'kapacitet': 70, 'naziv': 'D2', 'spec': {'P', 'S'}},\n",
      "             3: {'id': 3, 'kapacitet': 100, 'naziv': 'D3', 'spec': {'P'}},\n",
      "             4: {'id': 4, 'kapacitet': 100, 'naziv': 'D4', 'spec': {'L'}}},\n",
      " 'grupe': {1: {'id': 1, 'kapacitet': 30, 'naziv': 'G1'},\n",
      "           2: {'id': 2, 'kapacitet': 25, 'naziv': 'G2'},\n",
      "           3: {'id': 3, 'kapacitet': 70, 'naziv': 'G3'},\n",
      "           4: {'id': 4, 'kapacitet': 45, 'naziv': 'G4'},\n",
      "           5: {'id': 5, 'kapacitet': 30, 'naziv': 'G5'},\n",
      "           6: {'id': 6, 'kapacitet': 50, 'naziv': 'G6'},\n",
      "           7: {'id': 7, 'kapacitet': 70, 'naziv': 'G7'}},\n",
      " 'kolegiji': {1: {'id': 1, 'naziv': 'Kolegij1'},\n",
      "              2: {'id': 2, 'naziv': 'Kolegij2'},\n",
      "              3: {'id': 3, 'naziv': 'Kolegij3'},\n",
      "              4: {'id': 4, 'naziv': 'Kolegij4'},\n",
      "              5: {'id': 5, 'naziv': 'Kolegij5'},\n",
      "              6: {'id': 6, 'naziv': 'Kolegij6'},\n",
      "              7: {'id': 7, 'naziv': 'Kolegij7'}},\n",
      " 'nastava': {0: {'dvorana': {'P', 'S'},\n",
      "                 'g_id': 1,\n",
      "                 'k_id': 1,\n",
      "                 'p_id': 1,\n",
      "                 'trajanje': 2},\n",
      "             1: {'dvorana': {'P', 'S'},\n",
      "                 'g_id': 2,\n",
      "                 'k_id': 2,\n",
      "                 'p_id': 1,\n",
      "                 'trajanje': 3},\n",
      "             2: {'dvorana': {'P'},\n",
      "                 'g_id': 3,\n",
      "                 'k_id': 5,\n",
      "                 'p_id': 2,\n",
      "                 'trajanje': 2},\n",
      "             3: {'dvorana': {'L'},\n",
      "                 'g_id': 2,\n",
      "                 'k_id': 1,\n",
      "                 'p_id': 3,\n",
      "                 'trajanje': 3},\n",
      "             4: {'dvorana': {'P', 'S'},\n",
      "                 'g_id': 5,\n",
      "                 'k_id': 2,\n",
      "                 'p_id': 5,\n",
      "                 'trajanje': 2},\n",
      "             5: {'dvorana': {'P'},\n",
      "                 'g_id': 4,\n",
      "                 'k_id': 7,\n",
      "                 'p_id': 3,\n",
      "                 'trajanje': 3},\n",
      "             6: {'dvorana': {'P', 'S'},\n",
      "                 'g_id': 6,\n",
      "                 'k_id': 6,\n",
      "                 'p_id': 5,\n",
      "                 'trajanje': 1},\n",
      "             7: {'dvorana': {'P'},\n",
      "                 'g_id': 4,\n",
      "                 'k_id': 4,\n",
      "                 'p_id': 4,\n",
      "                 'trajanje': 3},\n",
      "             8: {'dvorana': {'L'},\n",
      "                 'g_id': 2,\n",
      "                 'k_id': 3,\n",
      "                 'p_id': 3,\n",
      "                 'trajanje': 2},\n",
      "             9: {'dvorana': {'P'},\n",
      "                 'g_id': 2,\n",
      "                 'k_id': 2,\n",
      "                 'p_id': 2,\n",
      "                 'trajanje': 1},\n",
      "             10: {'dvorana': {'P', 'S'},\n",
      "                  'g_id': 3,\n",
      "                  'k_id': 1,\n",
      "                  'p_id': 1,\n",
      "                  'trajanje': 2},\n",
      "             11: {'dvorana': {'P'},\n",
      "                  'g_id': 5,\n",
      "                  'k_id': 4,\n",
      "                  'p_id': 7,\n",
      "                  'trajanje': 1},\n",
      "             12: {'dvorana': {'L'},\n",
      "                  'g_id': 7,\n",
      "                  'k_id': 3,\n",
      "                  'p_id': 4,\n",
      "                  'trajanje': 3},\n",
      "             13: {'dvorana': {'P', 'S'},\n",
      "                  'g_id': 5,\n",
      "                  'k_id': 3,\n",
      "                  'p_id': 7,\n",
      "                  'trajanje': 1}},\n",
      " 'nastavnici': {1: {'id': 1, 'preime': 'Ime1 Prezime1'},\n",
      "                2: {'id': 2, 'preime': 'Ime2 Prezime2'},\n",
      "                3: {'id': 3, 'preime': 'Ime3 Prezime3'},\n",
      "                4: {'id': 4, 'preime': 'Ime4 Prezime4'},\n",
      "                5: {'id': 5, 'preime': 'Ime5 Prezime5'},\n",
      "                6: {'id': 6, 'preime': 'Ime7 Prezime6'},\n",
      "                7: {'id': 7, 'preime': 'Ime7 Prezime7'}},\n",
      " 'parametri': {'max_gen': 20,\n",
      "               'mut': {'a': 0.5, 'b': 0.9},\n",
      "               'n_best': 5,\n",
      "               'n_pop': 10,\n",
      "               'p_cross': 0.75,\n",
      "               'tournament_size': 3},\n",
      " 'preferencije': {'dnevni_limit': {'aktivan': True, 'limit': 8},\n",
      "                  'dvorane': {'aktivan': True, 'popunjenost': 0.35},\n",
      "                  'grupe': {'aktivan': True, 'max_razmak': 2},\n",
      "                  'kolegiji': [{'k_id': 1,\n",
      "                                'odabir': [{'dvorane': [1, 3, 4],\n",
      "                                            'termini': {1,\n",
      "                                                        2,\n",
      "                                                        3,\n",
      "                                                        4,\n",
      "                                                        5,\n",
      "                                                        6,\n",
      "                                                        7,\n",
      "                                                        8,\n",
      "                                                        9,\n",
      "                                                        10}},\n",
      "                                           {'dvorane': [2],\n",
      "                                            'termini': {2,\n",
      "                                                        3,\n",
      "                                                        4,\n",
      "                                                        5,\n",
      "                                                        9,\n",
      "                                                        10,\n",
      "                                                        11,\n",
      "                                                        12}},\n",
      "                                           {'dvorane': [2, 4, 5, 6, 7],\n",
      "                                            'termini': {2, 3, 5, 6, 7, 9}}]},\n",
      "                               {'k_id': 4,\n",
      "                                'odabir': [{'dvorane': [1, 4, 7],\n",
      "                                            'termini': {1,\n",
      "                                                        2,\n",
      "                                                        3,\n",
      "                                                        4,\n",
      "                                                        5,\n",
      "                                                        7,\n",
      "                                                        8,\n",
      "                                                        9,\n",
      "                                                        10,\n",
      "                                                        12}},\n",
      "                                           {'dvorane': [3, 4, 5],\n",
      "                                            'termini': {2,\n",
      "                                                        3,\n",
      "                                                        4,\n",
      "                                                        5,\n",
      "                                                        6,\n",
      "                                                        7,\n",
      "                                                        8,\n",
      "                                                        9}}]}],\n",
      "                  'profesori': [{'odabir': [{'dan': 1,\n",
      "                                             'termini': {1,\n",
      "                                                         2,\n",
      "                                                         5,\n",
      "                                                         6,\n",
      "                                                         7,\n",
      "                                                         8,\n",
      "                                                         9,\n",
      "                                                         10}},\n",
      "                                            {'dan': 3,\n",
      "                                             'termini': {2,\n",
      "                                                         3,\n",
      "                                                         4,\n",
      "                                                         5,\n",
      "                                                         6,\n",
      "                                                         10,\n",
      "                                                         11,\n",
      "                                                         12}},\n",
      "                                            {'dan': 4,\n",
      "                                             'termini': {2, 3, 4, 5, 6, 7}}],\n",
      "                                 'p_id': 1},\n",
      "                                {'odabir': [{'dan': 2,\n",
      "                                             'termini': {1,\n",
      "                                                         2,\n",
      "                                                         3,\n",
      "                                                         4,\n",
      "                                                         5,\n",
      "                                                         7,\n",
      "                                                         8,\n",
      "                                                         9,\n",
      "                                                         10,\n",
      "                                                         12}},\n",
      "                                            {'dan': 3,\n",
      "                                             'termini': {2,\n",
      "                                                         3,\n",
      "                                                         4,\n",
      "                                                         5,\n",
      "                                                         6,\n",
      "                                                         7,\n",
      "                                                         8,\n",
      "                                                         9,\n",
      "                                                         10}},\n",
      "                                            {'dan': 5,\n",
      "                                             'termini': {2,\n",
      "                                                         3,\n",
      "                                                         4,\n",
      "                                                         5,\n",
      "                                                         6,\n",
      "                                                         7,\n",
      "                                                         10,\n",
      "                                                         11,\n",
      "                                                         12}}],\n",
      "                                 'p_id': 4}]},\n",
      " 'termini': [1, 2, 3, 4, 5, 6, 7, 8, 9, 10, 11, 12]}\n"
     ]
    }
   ],
   "source": [
    "pprint.pprint(ulazni_podaci)"
   ]
  },
  {
   "cell_type": "code",
   "execution_count": 8,
   "metadata": {},
   "outputs": [
    {
     "name": "stdout",
     "output_type": "stream",
     "text": [
      "('[{\"fit\": 589.6896154588115, \"hard_dev\": 0, \"hard_pos\": [], \"jedinka\": '\n",
      " '[{\"dan\": 2, \"dvorana\": \"D2\", \"grupa\": \"G1\", \"kolegij\": \"Kolegij1\", '\n",
      " '\"profesor\": \"Ime1 Prezime1\", \"termin\": [3, 4]}, {\"dan\": 1, \"dvorana\": \"D2\", '\n",
      " '\"grupa\": \"G2\", \"kolegij\": \"Kolegij2\", \"profesor\": \"Ime1 Prezime1\", \"termin\": '\n",
      " '[8, 9, 7]}, {\"dan\": 3, \"dvorana\": \"D2\", \"grupa\": \"G3\", \"kolegij\": '\n",
      " '\"Kolegij5\", \"profesor\": \"Ime2 Prezime2\", \"termin\": [2, 3]}, {\"dan\": 3, '\n",
      " '\"dvorana\": \"D4\", \"grupa\": \"G2\", \"kolegij\": \"Kolegij1\", \"profesor\": \"Ime3 '\n",
      " 'Prezime3\", \"termin\": [3, 4, 5]}, {\"dan\": 2, \"dvorana\": \"D2\", \"grupa\": \"G5\", '\n",
      " '\"kolegij\": \"Kolegij2\", \"profesor\": \"Ime5 Prezime5\", \"termin\": [5, 6]}, '\n",
      " '{\"dan\": 4, \"dvorana\": \"D1\", \"grupa\": \"G4\", \"kolegij\": \"Kolegij7\", '\n",
      " '\"profesor\": \"Ime3 Prezime3\", \"termin\": [1, 2, 3]}, {\"dan\": 1, \"dvorana\": '\n",
      " '\"D1\", \"grupa\": \"G6\", \"kolegij\": \"Kolegij6\", \"profesor\": \"Ime5 Prezime5\", '\n",
      " '\"termin\": [10]}, {\"dan\": 3, \"dvorana\": \"D1\", \"grupa\": \"G4\", \"kolegij\": '\n",
      " '\"Kolegij4\", \"profesor\": \"Ime4 Prezime4\", \"termin\": [8, 9, 7]}, {\"dan\": 5, '\n",
      " '\"dvorana\": \"D4\", \"grupa\": \"G2\", \"kolegij\": \"Kolegij3\", \"profesor\": \"Ime3 '\n",
      " 'Prezime3\", \"termin\": [4, 5]}, {\"dan\": 4, \"dvorana\": \"D1\", \"grupa\": \"G2\", '\n",
      " '\"kolegij\": \"Kolegij2\", \"profesor\": \"Ime2 Prezime2\", \"termin\": [8]}, {\"dan\": '\n",
      " '3, \"dvorana\": \"D2\", \"grupa\": \"G3\", \"kolegij\": \"Kolegij1\", \"profesor\": \"Ime1 '\n",
      " 'Prezime1\", \"termin\": [8, 7]}, {\"dan\": 1, \"dvorana\": \"D3\", \"grupa\": \"G5\", '\n",
      " '\"kolegij\": \"Kolegij4\", \"profesor\": \"Ime7 Prezime7\", \"termin\": [12]}, {\"dan\": '\n",
      " '2, \"dvorana\": \"D4\", \"grupa\": \"G7\", \"kolegij\": \"Kolegij3\", \"profesor\": \"Ime4 '\n",
      " 'Prezime4\", \"termin\": [2, 3, 4]}, {\"dan\": 3, \"dvorana\": \"D2\", \"grupa\": \"G5\", '\n",
      " '\"kolegij\": \"Kolegij3\", \"profesor\": \"Ime7 Prezime7\", \"termin\": [4]}], '\n",
      " '\"soft_dev\": 14, \"soft_pos\": [[\"k-d\", 0], [\"k-t\", 0], [\"k-d\", 3], [\"k-t\", 3], '\n",
      " '[\"k-d\", 7], [\"k-d\", 10], [\"k-t\", 10], [\"k-t\", 10], [\"k-d\", 11], [\"k-t\", 11], '\n",
      " '[\"p-t\", 10], [\"d\", 3], [\"d\", 8], [\"d\", 11]], \"validnost\": true}]')\n"
     ]
    }
   ],
   "source": [
    "pprint.pprint(genalg.json_rez(generacije['best'], ulazni_podaci))"
   ]
  },
  {
   "cell_type": "code",
   "execution_count": 9,
   "metadata": {},
   "outputs": [],
   "source": [
    "def plot_generation_fitness(ulazni_podaci):\n",
    "    x = list(range(len(generacije['all'])))\n",
    "    y = [populacija['avg_fit'] for populacija in generacije['all']]\n",
    "    y_lower = [populacija['avg_fit'] - populacija['std_fit'] for populacija in generacije['all']]\n",
    "    y_upper = [populacija['avg_fit'] + populacija['std_fit'] for populacija in generacije['all']]\n",
    "\n",
    "    upper_bound = go.Scatter(\n",
    "        name='Gornja vrijednost',\n",
    "        x=x,\n",
    "        y=y_upper,\n",
    "        mode='lines',\n",
    "        marker=dict(color=\"#444\"),\n",
    "        line=dict(width=0),\n",
    "        fillcolor='rgba(68, 68, 68, 0.3)',\n",
    "        fill='tonexty')\n",
    "\n",
    "    trace = go.Scatter(\n",
    "        name='Prosječna vrijednost karakteristične funkcije',\n",
    "        x=x,\n",
    "        y=y,\n",
    "        mode='lines',\n",
    "        line=dict(color='rgb(31, 119, 180)'),\n",
    "        fillcolor='rgba(68, 68, 68, 0.3)',\n",
    "        fill='tonexty')\n",
    "\n",
    "    lower_bound = go.Scatter(\n",
    "        name='Donja vrijednost',\n",
    "        x=x,\n",
    "        y=y_lower,\n",
    "        marker=dict(color=\"#444\"),\n",
    "        line=dict(width=0),\n",
    "        mode='lines')\n",
    "\n",
    "    # Trace order can be important\n",
    "    # with continuous error bars\n",
    "    data = [lower_bound, trace, upper_bound]\n",
    "\n",
    "    layout = go.Layout(\n",
    "        yaxis=dict(title='Fitness populacije', range=[0, 1000]),\n",
    "        xaxis=dict(title='Generacije populacija', type='category'),\n",
    "        title='Fitness populacija svih generacija',\n",
    "        showlegend = False)\n",
    "\n",
    "    fig = go.Figure(data=data, layout=layout)\n",
    "    py.iplot(fig, filename='fitness-all-generations')"
   ]
  },
  {
   "cell_type": "code",
   "execution_count": 10,
   "metadata": {},
   "outputs": [
    {
     "data": {
      "application/vnd.plotly.v1+json": {
       "config": {
        "linkText": "Export to plot.ly",
        "plotlyServerURL": "https://plot.ly",
        "showLink": false
       },
       "data": [
        {
         "line": {
          "width": 0
         },
         "marker": {
          "color": "#444"
         },
         "mode": "lines",
         "name": "Donja vrijednost",
         "type": "scatter",
         "x": [
          0,
          1,
          2,
          3,
          4,
          5,
          6,
          7,
          8,
          9,
          10,
          11,
          12,
          13,
          14,
          15,
          16,
          17,
          18,
          19
         ],
         "y": [
          -55.01038399223568,
          -46.00801621305007,
          -33.48430115888996,
          -41.32108423180594,
          15.453341230806473,
          275.63148974385126,
          589.6896154588115,
          589.6896154588115,
          589.6896154588115,
          589.6896154588115,
          589.6896154588115,
          589.6896154588115,
          589.6896154588115,
          589.6896154588115,
          589.6896154588115,
          589.6896154588115,
          589.6896154588115,
          589.6896154588115,
          589.6896154588115,
          589.6896154588115
         ]
        },
        {
         "fill": "tonexty",
         "fillcolor": "rgba(68, 68, 68, 0.3)",
         "line": {
          "color": "rgb(31, 119, 180)"
         },
         "mode": "lines",
         "name": "Prosječna vrijednost karakteristične funkcije",
         "type": "scatter",
         "x": [
          0,
          1,
          2,
          3,
          4,
          5,
          6,
          7,
          8,
          9,
          10,
          11,
          12,
          13,
          14,
          15,
          16,
          17,
          18,
          19
         ],
         "y": [
          61.06678718235802,
          130.7762393652253,
          103.43458051261314,
          144.3868490331875,
          231.9591726748005,
          477.4962051960364,
          589.6896154588115,
          589.6896154588115,
          589.6896154588115,
          589.6896154588115,
          589.6896154588115,
          589.6896154588115,
          589.6896154588115,
          589.6896154588115,
          589.6896154588115,
          589.6896154588115,
          589.6896154588115,
          589.6896154588115,
          589.6896154588115,
          589.6896154588115
         ]
        },
        {
         "fill": "tonexty",
         "fillcolor": "rgba(68, 68, 68, 0.3)",
         "line": {
          "width": 0
         },
         "marker": {
          "color": "#444"
         },
         "mode": "lines",
         "name": "Gornja vrijednost",
         "type": "scatter",
         "x": [
          0,
          1,
          2,
          3,
          4,
          5,
          6,
          7,
          8,
          9,
          10,
          11,
          12,
          13,
          14,
          15,
          16,
          17,
          18,
          19
         ],
         "y": [
          177.1439583569517,
          307.56049494350066,
          240.35346218411624,
          330.0947822981809,
          448.4650041187945,
          679.3609206482215,
          589.6896154588115,
          589.6896154588115,
          589.6896154588115,
          589.6896154588115,
          589.6896154588115,
          589.6896154588115,
          589.6896154588115,
          589.6896154588115,
          589.6896154588115,
          589.6896154588115,
          589.6896154588115,
          589.6896154588115,
          589.6896154588115,
          589.6896154588115
         ]
        }
       ],
       "layout": {
        "showlegend": false,
        "template": {
         "data": {
          "bar": [
           {
            "error_x": {
             "color": "#2a3f5f"
            },
            "error_y": {
             "color": "#2a3f5f"
            },
            "marker": {
             "line": {
              "color": "#E5ECF6",
              "width": 0.5
             }
            },
            "type": "bar"
           }
          ],
          "barpolar": [
           {
            "marker": {
             "line": {
              "color": "#E5ECF6",
              "width": 0.5
             }
            },
            "type": "barpolar"
           }
          ],
          "carpet": [
           {
            "aaxis": {
             "endlinecolor": "#2a3f5f",
             "gridcolor": "white",
             "linecolor": "white",
             "minorgridcolor": "white",
             "startlinecolor": "#2a3f5f"
            },
            "baxis": {
             "endlinecolor": "#2a3f5f",
             "gridcolor": "white",
             "linecolor": "white",
             "minorgridcolor": "white",
             "startlinecolor": "#2a3f5f"
            },
            "type": "carpet"
           }
          ],
          "choropleth": [
           {
            "colorbar": {
             "outlinewidth": 0,
             "ticks": ""
            },
            "type": "choropleth"
           }
          ],
          "contour": [
           {
            "colorbar": {
             "outlinewidth": 0,
             "ticks": ""
            },
            "colorscale": [
             [
              0,
              "#0d0887"
             ],
             [
              0.1111111111111111,
              "#46039f"
             ],
             [
              0.2222222222222222,
              "#7201a8"
             ],
             [
              0.3333333333333333,
              "#9c179e"
             ],
             [
              0.4444444444444444,
              "#bd3786"
             ],
             [
              0.5555555555555556,
              "#d8576b"
             ],
             [
              0.6666666666666666,
              "#ed7953"
             ],
             [
              0.7777777777777778,
              "#fb9f3a"
             ],
             [
              0.8888888888888888,
              "#fdca26"
             ],
             [
              1,
              "#f0f921"
             ]
            ],
            "type": "contour"
           }
          ],
          "contourcarpet": [
           {
            "colorbar": {
             "outlinewidth": 0,
             "ticks": ""
            },
            "type": "contourcarpet"
           }
          ],
          "heatmap": [
           {
            "colorbar": {
             "outlinewidth": 0,
             "ticks": ""
            },
            "colorscale": [
             [
              0,
              "#0d0887"
             ],
             [
              0.1111111111111111,
              "#46039f"
             ],
             [
              0.2222222222222222,
              "#7201a8"
             ],
             [
              0.3333333333333333,
              "#9c179e"
             ],
             [
              0.4444444444444444,
              "#bd3786"
             ],
             [
              0.5555555555555556,
              "#d8576b"
             ],
             [
              0.6666666666666666,
              "#ed7953"
             ],
             [
              0.7777777777777778,
              "#fb9f3a"
             ],
             [
              0.8888888888888888,
              "#fdca26"
             ],
             [
              1,
              "#f0f921"
             ]
            ],
            "type": "heatmap"
           }
          ],
          "heatmapgl": [
           {
            "colorbar": {
             "outlinewidth": 0,
             "ticks": ""
            },
            "colorscale": [
             [
              0,
              "#0d0887"
             ],
             [
              0.1111111111111111,
              "#46039f"
             ],
             [
              0.2222222222222222,
              "#7201a8"
             ],
             [
              0.3333333333333333,
              "#9c179e"
             ],
             [
              0.4444444444444444,
              "#bd3786"
             ],
             [
              0.5555555555555556,
              "#d8576b"
             ],
             [
              0.6666666666666666,
              "#ed7953"
             ],
             [
              0.7777777777777778,
              "#fb9f3a"
             ],
             [
              0.8888888888888888,
              "#fdca26"
             ],
             [
              1,
              "#f0f921"
             ]
            ],
            "type": "heatmapgl"
           }
          ],
          "histogram": [
           {
            "marker": {
             "colorbar": {
              "outlinewidth": 0,
              "ticks": ""
             }
            },
            "type": "histogram"
           }
          ],
          "histogram2d": [
           {
            "colorbar": {
             "outlinewidth": 0,
             "ticks": ""
            },
            "colorscale": [
             [
              0,
              "#0d0887"
             ],
             [
              0.1111111111111111,
              "#46039f"
             ],
             [
              0.2222222222222222,
              "#7201a8"
             ],
             [
              0.3333333333333333,
              "#9c179e"
             ],
             [
              0.4444444444444444,
              "#bd3786"
             ],
             [
              0.5555555555555556,
              "#d8576b"
             ],
             [
              0.6666666666666666,
              "#ed7953"
             ],
             [
              0.7777777777777778,
              "#fb9f3a"
             ],
             [
              0.8888888888888888,
              "#fdca26"
             ],
             [
              1,
              "#f0f921"
             ]
            ],
            "type": "histogram2d"
           }
          ],
          "histogram2dcontour": [
           {
            "colorbar": {
             "outlinewidth": 0,
             "ticks": ""
            },
            "colorscale": [
             [
              0,
              "#0d0887"
             ],
             [
              0.1111111111111111,
              "#46039f"
             ],
             [
              0.2222222222222222,
              "#7201a8"
             ],
             [
              0.3333333333333333,
              "#9c179e"
             ],
             [
              0.4444444444444444,
              "#bd3786"
             ],
             [
              0.5555555555555556,
              "#d8576b"
             ],
             [
              0.6666666666666666,
              "#ed7953"
             ],
             [
              0.7777777777777778,
              "#fb9f3a"
             ],
             [
              0.8888888888888888,
              "#fdca26"
             ],
             [
              1,
              "#f0f921"
             ]
            ],
            "type": "histogram2dcontour"
           }
          ],
          "mesh3d": [
           {
            "colorbar": {
             "outlinewidth": 0,
             "ticks": ""
            },
            "type": "mesh3d"
           }
          ],
          "parcoords": [
           {
            "line": {
             "colorbar": {
              "outlinewidth": 0,
              "ticks": ""
             }
            },
            "type": "parcoords"
           }
          ],
          "pie": [
           {
            "automargin": true,
            "type": "pie"
           }
          ],
          "scatter": [
           {
            "marker": {
             "colorbar": {
              "outlinewidth": 0,
              "ticks": ""
             }
            },
            "type": "scatter"
           }
          ],
          "scatter3d": [
           {
            "line": {
             "colorbar": {
              "outlinewidth": 0,
              "ticks": ""
             }
            },
            "marker": {
             "colorbar": {
              "outlinewidth": 0,
              "ticks": ""
             }
            },
            "type": "scatter3d"
           }
          ],
          "scattercarpet": [
           {
            "marker": {
             "colorbar": {
              "outlinewidth": 0,
              "ticks": ""
             }
            },
            "type": "scattercarpet"
           }
          ],
          "scattergeo": [
           {
            "marker": {
             "colorbar": {
              "outlinewidth": 0,
              "ticks": ""
             }
            },
            "type": "scattergeo"
           }
          ],
          "scattergl": [
           {
            "marker": {
             "colorbar": {
              "outlinewidth": 0,
              "ticks": ""
             }
            },
            "type": "scattergl"
           }
          ],
          "scattermapbox": [
           {
            "marker": {
             "colorbar": {
              "outlinewidth": 0,
              "ticks": ""
             }
            },
            "type": "scattermapbox"
           }
          ],
          "scatterpolar": [
           {
            "marker": {
             "colorbar": {
              "outlinewidth": 0,
              "ticks": ""
             }
            },
            "type": "scatterpolar"
           }
          ],
          "scatterpolargl": [
           {
            "marker": {
             "colorbar": {
              "outlinewidth": 0,
              "ticks": ""
             }
            },
            "type": "scatterpolargl"
           }
          ],
          "scatterternary": [
           {
            "marker": {
             "colorbar": {
              "outlinewidth": 0,
              "ticks": ""
             }
            },
            "type": "scatterternary"
           }
          ],
          "surface": [
           {
            "colorbar": {
             "outlinewidth": 0,
             "ticks": ""
            },
            "colorscale": [
             [
              0,
              "#0d0887"
             ],
             [
              0.1111111111111111,
              "#46039f"
             ],
             [
              0.2222222222222222,
              "#7201a8"
             ],
             [
              0.3333333333333333,
              "#9c179e"
             ],
             [
              0.4444444444444444,
              "#bd3786"
             ],
             [
              0.5555555555555556,
              "#d8576b"
             ],
             [
              0.6666666666666666,
              "#ed7953"
             ],
             [
              0.7777777777777778,
              "#fb9f3a"
             ],
             [
              0.8888888888888888,
              "#fdca26"
             ],
             [
              1,
              "#f0f921"
             ]
            ],
            "type": "surface"
           }
          ],
          "table": [
           {
            "cells": {
             "fill": {
              "color": "#EBF0F8"
             },
             "line": {
              "color": "white"
             }
            },
            "header": {
             "fill": {
              "color": "#C8D4E3"
             },
             "line": {
              "color": "white"
             }
            },
            "type": "table"
           }
          ]
         },
         "layout": {
          "annotationdefaults": {
           "arrowcolor": "#2a3f5f",
           "arrowhead": 0,
           "arrowwidth": 1
          },
          "coloraxis": {
           "colorbar": {
            "outlinewidth": 0,
            "ticks": ""
           }
          },
          "colorscale": {
           "diverging": [
            [
             0,
             "#8e0152"
            ],
            [
             0.1,
             "#c51b7d"
            ],
            [
             0.2,
             "#de77ae"
            ],
            [
             0.3,
             "#f1b6da"
            ],
            [
             0.4,
             "#fde0ef"
            ],
            [
             0.5,
             "#f7f7f7"
            ],
            [
             0.6,
             "#e6f5d0"
            ],
            [
             0.7,
             "#b8e186"
            ],
            [
             0.8,
             "#7fbc41"
            ],
            [
             0.9,
             "#4d9221"
            ],
            [
             1,
             "#276419"
            ]
           ],
           "sequential": [
            [
             0,
             "#0d0887"
            ],
            [
             0.1111111111111111,
             "#46039f"
            ],
            [
             0.2222222222222222,
             "#7201a8"
            ],
            [
             0.3333333333333333,
             "#9c179e"
            ],
            [
             0.4444444444444444,
             "#bd3786"
            ],
            [
             0.5555555555555556,
             "#d8576b"
            ],
            [
             0.6666666666666666,
             "#ed7953"
            ],
            [
             0.7777777777777778,
             "#fb9f3a"
            ],
            [
             0.8888888888888888,
             "#fdca26"
            ],
            [
             1,
             "#f0f921"
            ]
           ],
           "sequentialminus": [
            [
             0,
             "#0d0887"
            ],
            [
             0.1111111111111111,
             "#46039f"
            ],
            [
             0.2222222222222222,
             "#7201a8"
            ],
            [
             0.3333333333333333,
             "#9c179e"
            ],
            [
             0.4444444444444444,
             "#bd3786"
            ],
            [
             0.5555555555555556,
             "#d8576b"
            ],
            [
             0.6666666666666666,
             "#ed7953"
            ],
            [
             0.7777777777777778,
             "#fb9f3a"
            ],
            [
             0.8888888888888888,
             "#fdca26"
            ],
            [
             1,
             "#f0f921"
            ]
           ]
          },
          "colorway": [
           "#636efa",
           "#EF553B",
           "#00cc96",
           "#ab63fa",
           "#FFA15A",
           "#19d3f3",
           "#FF6692",
           "#B6E880",
           "#FF97FF",
           "#FECB52"
          ],
          "font": {
           "color": "#2a3f5f"
          },
          "geo": {
           "bgcolor": "white",
           "lakecolor": "white",
           "landcolor": "#E5ECF6",
           "showlakes": true,
           "showland": true,
           "subunitcolor": "white"
          },
          "hoverlabel": {
           "align": "left"
          },
          "hovermode": "closest",
          "mapbox": {
           "style": "light"
          },
          "paper_bgcolor": "white",
          "plot_bgcolor": "#E5ECF6",
          "polar": {
           "angularaxis": {
            "gridcolor": "white",
            "linecolor": "white",
            "ticks": ""
           },
           "bgcolor": "#E5ECF6",
           "radialaxis": {
            "gridcolor": "white",
            "linecolor": "white",
            "ticks": ""
           }
          },
          "scene": {
           "xaxis": {
            "backgroundcolor": "#E5ECF6",
            "gridcolor": "white",
            "gridwidth": 2,
            "linecolor": "white",
            "showbackground": true,
            "ticks": "",
            "zerolinecolor": "white"
           },
           "yaxis": {
            "backgroundcolor": "#E5ECF6",
            "gridcolor": "white",
            "gridwidth": 2,
            "linecolor": "white",
            "showbackground": true,
            "ticks": "",
            "zerolinecolor": "white"
           },
           "zaxis": {
            "backgroundcolor": "#E5ECF6",
            "gridcolor": "white",
            "gridwidth": 2,
            "linecolor": "white",
            "showbackground": true,
            "ticks": "",
            "zerolinecolor": "white"
           }
          },
          "shapedefaults": {
           "line": {
            "color": "#2a3f5f"
           }
          },
          "ternary": {
           "aaxis": {
            "gridcolor": "white",
            "linecolor": "white",
            "ticks": ""
           },
           "baxis": {
            "gridcolor": "white",
            "linecolor": "white",
            "ticks": ""
           },
           "bgcolor": "#E5ECF6",
           "caxis": {
            "gridcolor": "white",
            "linecolor": "white",
            "ticks": ""
           }
          },
          "title": {
           "x": 0.05
          },
          "xaxis": {
           "automargin": true,
           "gridcolor": "white",
           "linecolor": "white",
           "ticks": "",
           "title": {
            "standoff": 15
           },
           "zerolinecolor": "white",
           "zerolinewidth": 2
          },
          "yaxis": {
           "automargin": true,
           "gridcolor": "white",
           "linecolor": "white",
           "ticks": "",
           "title": {
            "standoff": 15
           },
           "zerolinecolor": "white",
           "zerolinewidth": 2
          }
         }
        },
        "title": {
         "text": "Fitness populacija svih generacija"
        },
        "xaxis": {
         "title": {
          "text": "Generacije populacija"
         },
         "type": "category"
        },
        "yaxis": {
         "range": [
          0,
          1000
         ],
         "title": {
          "text": "Fitness populacije"
         }
        }
       }
      },
      "text/html": [
       "<div>\n",
       "        \n",
       "        \n",
       "            <div id=\"0871c54a-0c52-419c-ab0a-3a652971474c\" class=\"plotly-graph-div\" style=\"height:525px; width:100%;\"></div>\n",
       "            <script type=\"text/javascript\">\n",
       "                require([\"plotly\"], function(Plotly) {\n",
       "                    window.PLOTLYENV=window.PLOTLYENV || {};\n",
       "                    \n",
       "                if (document.getElementById(\"0871c54a-0c52-419c-ab0a-3a652971474c\")) {\n",
       "                    Plotly.newPlot(\n",
       "                        '0871c54a-0c52-419c-ab0a-3a652971474c',\n",
       "                        [{\"line\": {\"width\": 0}, \"marker\": {\"color\": \"#444\"}, \"mode\": \"lines\", \"name\": \"Donja vrijednost\", \"type\": \"scatter\", \"x\": [0, 1, 2, 3, 4, 5, 6, 7, 8, 9, 10, 11, 12, 13, 14, 15, 16, 17, 18, 19], \"y\": [-55.01038399223568, -46.00801621305007, -33.48430115888996, -41.32108423180594, 15.453341230806473, 275.63148974385126, 589.6896154588115, 589.6896154588115, 589.6896154588115, 589.6896154588115, 589.6896154588115, 589.6896154588115, 589.6896154588115, 589.6896154588115, 589.6896154588115, 589.6896154588115, 589.6896154588115, 589.6896154588115, 589.6896154588115, 589.6896154588115]}, {\"fill\": \"tonexty\", \"fillcolor\": \"rgba(68, 68, 68, 0.3)\", \"line\": {\"color\": \"rgb(31, 119, 180)\"}, \"mode\": \"lines\", \"name\": \"Prosje\\u010dna vrijednost karakteristi\\u010dne funkcije\", \"type\": \"scatter\", \"x\": [0, 1, 2, 3, 4, 5, 6, 7, 8, 9, 10, 11, 12, 13, 14, 15, 16, 17, 18, 19], \"y\": [61.06678718235802, 130.7762393652253, 103.43458051261314, 144.3868490331875, 231.9591726748005, 477.4962051960364, 589.6896154588115, 589.6896154588115, 589.6896154588115, 589.6896154588115, 589.6896154588115, 589.6896154588115, 589.6896154588115, 589.6896154588115, 589.6896154588115, 589.6896154588115, 589.6896154588115, 589.6896154588115, 589.6896154588115, 589.6896154588115]}, {\"fill\": \"tonexty\", \"fillcolor\": \"rgba(68, 68, 68, 0.3)\", \"line\": {\"width\": 0}, \"marker\": {\"color\": \"#444\"}, \"mode\": \"lines\", \"name\": \"Gornja vrijednost\", \"type\": \"scatter\", \"x\": [0, 1, 2, 3, 4, 5, 6, 7, 8, 9, 10, 11, 12, 13, 14, 15, 16, 17, 18, 19], \"y\": [177.1439583569517, 307.56049494350066, 240.35346218411624, 330.0947822981809, 448.4650041187945, 679.3609206482215, 589.6896154588115, 589.6896154588115, 589.6896154588115, 589.6896154588115, 589.6896154588115, 589.6896154588115, 589.6896154588115, 589.6896154588115, 589.6896154588115, 589.6896154588115, 589.6896154588115, 589.6896154588115, 589.6896154588115, 589.6896154588115]}],\n",
       "                        {\"showlegend\": false, \"template\": {\"data\": {\"bar\": [{\"error_x\": {\"color\": \"#2a3f5f\"}, \"error_y\": {\"color\": \"#2a3f5f\"}, \"marker\": {\"line\": {\"color\": \"#E5ECF6\", \"width\": 0.5}}, \"type\": \"bar\"}], \"barpolar\": [{\"marker\": {\"line\": {\"color\": \"#E5ECF6\", \"width\": 0.5}}, \"type\": \"barpolar\"}], \"carpet\": [{\"aaxis\": {\"endlinecolor\": \"#2a3f5f\", \"gridcolor\": \"white\", \"linecolor\": \"white\", \"minorgridcolor\": \"white\", \"startlinecolor\": \"#2a3f5f\"}, \"baxis\": {\"endlinecolor\": \"#2a3f5f\", \"gridcolor\": \"white\", \"linecolor\": \"white\", \"minorgridcolor\": \"white\", \"startlinecolor\": \"#2a3f5f\"}, \"type\": \"carpet\"}], \"choropleth\": [{\"colorbar\": {\"outlinewidth\": 0, \"ticks\": \"\"}, \"type\": \"choropleth\"}], \"contour\": [{\"colorbar\": {\"outlinewidth\": 0, \"ticks\": \"\"}, \"colorscale\": [[0.0, \"#0d0887\"], [0.1111111111111111, \"#46039f\"], [0.2222222222222222, \"#7201a8\"], [0.3333333333333333, \"#9c179e\"], [0.4444444444444444, \"#bd3786\"], [0.5555555555555556, \"#d8576b\"], [0.6666666666666666, \"#ed7953\"], [0.7777777777777778, \"#fb9f3a\"], [0.8888888888888888, \"#fdca26\"], [1.0, \"#f0f921\"]], \"type\": \"contour\"}], \"contourcarpet\": [{\"colorbar\": {\"outlinewidth\": 0, \"ticks\": \"\"}, \"type\": \"contourcarpet\"}], \"heatmap\": [{\"colorbar\": {\"outlinewidth\": 0, \"ticks\": \"\"}, \"colorscale\": [[0.0, \"#0d0887\"], [0.1111111111111111, \"#46039f\"], [0.2222222222222222, \"#7201a8\"], [0.3333333333333333, \"#9c179e\"], [0.4444444444444444, \"#bd3786\"], [0.5555555555555556, \"#d8576b\"], [0.6666666666666666, \"#ed7953\"], [0.7777777777777778, \"#fb9f3a\"], [0.8888888888888888, \"#fdca26\"], [1.0, \"#f0f921\"]], \"type\": \"heatmap\"}], \"heatmapgl\": [{\"colorbar\": {\"outlinewidth\": 0, \"ticks\": \"\"}, \"colorscale\": [[0.0, \"#0d0887\"], [0.1111111111111111, \"#46039f\"], [0.2222222222222222, \"#7201a8\"], [0.3333333333333333, \"#9c179e\"], [0.4444444444444444, \"#bd3786\"], [0.5555555555555556, \"#d8576b\"], [0.6666666666666666, \"#ed7953\"], [0.7777777777777778, \"#fb9f3a\"], [0.8888888888888888, \"#fdca26\"], [1.0, \"#f0f921\"]], \"type\": \"heatmapgl\"}], \"histogram\": [{\"marker\": {\"colorbar\": {\"outlinewidth\": 0, \"ticks\": \"\"}}, \"type\": \"histogram\"}], \"histogram2d\": [{\"colorbar\": {\"outlinewidth\": 0, \"ticks\": \"\"}, \"colorscale\": [[0.0, \"#0d0887\"], [0.1111111111111111, \"#46039f\"], [0.2222222222222222, \"#7201a8\"], [0.3333333333333333, \"#9c179e\"], [0.4444444444444444, \"#bd3786\"], [0.5555555555555556, \"#d8576b\"], [0.6666666666666666, \"#ed7953\"], [0.7777777777777778, \"#fb9f3a\"], [0.8888888888888888, \"#fdca26\"], [1.0, \"#f0f921\"]], \"type\": \"histogram2d\"}], \"histogram2dcontour\": [{\"colorbar\": {\"outlinewidth\": 0, \"ticks\": \"\"}, \"colorscale\": [[0.0, \"#0d0887\"], [0.1111111111111111, \"#46039f\"], [0.2222222222222222, \"#7201a8\"], [0.3333333333333333, \"#9c179e\"], [0.4444444444444444, \"#bd3786\"], [0.5555555555555556, \"#d8576b\"], [0.6666666666666666, \"#ed7953\"], [0.7777777777777778, \"#fb9f3a\"], [0.8888888888888888, \"#fdca26\"], [1.0, \"#f0f921\"]], \"type\": \"histogram2dcontour\"}], \"mesh3d\": [{\"colorbar\": {\"outlinewidth\": 0, \"ticks\": \"\"}, \"type\": \"mesh3d\"}], \"parcoords\": [{\"line\": {\"colorbar\": {\"outlinewidth\": 0, \"ticks\": \"\"}}, \"type\": \"parcoords\"}], \"pie\": [{\"automargin\": true, \"type\": \"pie\"}], \"scatter\": [{\"marker\": {\"colorbar\": {\"outlinewidth\": 0, \"ticks\": \"\"}}, \"type\": \"scatter\"}], \"scatter3d\": [{\"line\": {\"colorbar\": {\"outlinewidth\": 0, \"ticks\": \"\"}}, \"marker\": {\"colorbar\": {\"outlinewidth\": 0, \"ticks\": \"\"}}, \"type\": \"scatter3d\"}], \"scattercarpet\": [{\"marker\": {\"colorbar\": {\"outlinewidth\": 0, \"ticks\": \"\"}}, \"type\": \"scattercarpet\"}], \"scattergeo\": [{\"marker\": {\"colorbar\": {\"outlinewidth\": 0, \"ticks\": \"\"}}, \"type\": \"scattergeo\"}], \"scattergl\": [{\"marker\": {\"colorbar\": {\"outlinewidth\": 0, \"ticks\": \"\"}}, \"type\": \"scattergl\"}], \"scattermapbox\": [{\"marker\": {\"colorbar\": {\"outlinewidth\": 0, \"ticks\": \"\"}}, \"type\": \"scattermapbox\"}], \"scatterpolar\": [{\"marker\": {\"colorbar\": {\"outlinewidth\": 0, \"ticks\": \"\"}}, \"type\": \"scatterpolar\"}], \"scatterpolargl\": [{\"marker\": {\"colorbar\": {\"outlinewidth\": 0, \"ticks\": \"\"}}, \"type\": \"scatterpolargl\"}], \"scatterternary\": [{\"marker\": {\"colorbar\": {\"outlinewidth\": 0, \"ticks\": \"\"}}, \"type\": \"scatterternary\"}], \"surface\": [{\"colorbar\": {\"outlinewidth\": 0, \"ticks\": \"\"}, \"colorscale\": [[0.0, \"#0d0887\"], [0.1111111111111111, \"#46039f\"], [0.2222222222222222, \"#7201a8\"], [0.3333333333333333, \"#9c179e\"], [0.4444444444444444, \"#bd3786\"], [0.5555555555555556, \"#d8576b\"], [0.6666666666666666, \"#ed7953\"], [0.7777777777777778, \"#fb9f3a\"], [0.8888888888888888, \"#fdca26\"], [1.0, \"#f0f921\"]], \"type\": \"surface\"}], \"table\": [{\"cells\": {\"fill\": {\"color\": \"#EBF0F8\"}, \"line\": {\"color\": \"white\"}}, \"header\": {\"fill\": {\"color\": \"#C8D4E3\"}, \"line\": {\"color\": \"white\"}}, \"type\": \"table\"}]}, \"layout\": {\"annotationdefaults\": {\"arrowcolor\": \"#2a3f5f\", \"arrowhead\": 0, \"arrowwidth\": 1}, \"coloraxis\": {\"colorbar\": {\"outlinewidth\": 0, \"ticks\": \"\"}}, \"colorscale\": {\"diverging\": [[0, \"#8e0152\"], [0.1, \"#c51b7d\"], [0.2, \"#de77ae\"], [0.3, \"#f1b6da\"], [0.4, \"#fde0ef\"], [0.5, \"#f7f7f7\"], [0.6, \"#e6f5d0\"], [0.7, \"#b8e186\"], [0.8, \"#7fbc41\"], [0.9, \"#4d9221\"], [1, \"#276419\"]], \"sequential\": [[0.0, \"#0d0887\"], [0.1111111111111111, \"#46039f\"], [0.2222222222222222, \"#7201a8\"], [0.3333333333333333, \"#9c179e\"], [0.4444444444444444, \"#bd3786\"], [0.5555555555555556, \"#d8576b\"], [0.6666666666666666, \"#ed7953\"], [0.7777777777777778, \"#fb9f3a\"], [0.8888888888888888, \"#fdca26\"], [1.0, \"#f0f921\"]], \"sequentialminus\": [[0.0, \"#0d0887\"], [0.1111111111111111, \"#46039f\"], [0.2222222222222222, \"#7201a8\"], [0.3333333333333333, \"#9c179e\"], [0.4444444444444444, \"#bd3786\"], [0.5555555555555556, \"#d8576b\"], [0.6666666666666666, \"#ed7953\"], [0.7777777777777778, \"#fb9f3a\"], [0.8888888888888888, \"#fdca26\"], [1.0, \"#f0f921\"]]}, \"colorway\": [\"#636efa\", \"#EF553B\", \"#00cc96\", \"#ab63fa\", \"#FFA15A\", \"#19d3f3\", \"#FF6692\", \"#B6E880\", \"#FF97FF\", \"#FECB52\"], \"font\": {\"color\": \"#2a3f5f\"}, \"geo\": {\"bgcolor\": \"white\", \"lakecolor\": \"white\", \"landcolor\": \"#E5ECF6\", \"showlakes\": true, \"showland\": true, \"subunitcolor\": \"white\"}, \"hoverlabel\": {\"align\": \"left\"}, \"hovermode\": \"closest\", \"mapbox\": {\"style\": \"light\"}, \"paper_bgcolor\": \"white\", \"plot_bgcolor\": \"#E5ECF6\", \"polar\": {\"angularaxis\": {\"gridcolor\": \"white\", \"linecolor\": \"white\", \"ticks\": \"\"}, \"bgcolor\": \"#E5ECF6\", \"radialaxis\": {\"gridcolor\": \"white\", \"linecolor\": \"white\", \"ticks\": \"\"}}, \"scene\": {\"xaxis\": {\"backgroundcolor\": \"#E5ECF6\", \"gridcolor\": \"white\", \"gridwidth\": 2, \"linecolor\": \"white\", \"showbackground\": true, \"ticks\": \"\", \"zerolinecolor\": \"white\"}, \"yaxis\": {\"backgroundcolor\": \"#E5ECF6\", \"gridcolor\": \"white\", \"gridwidth\": 2, \"linecolor\": \"white\", \"showbackground\": true, \"ticks\": \"\", \"zerolinecolor\": \"white\"}, \"zaxis\": {\"backgroundcolor\": \"#E5ECF6\", \"gridcolor\": \"white\", \"gridwidth\": 2, \"linecolor\": \"white\", \"showbackground\": true, \"ticks\": \"\", \"zerolinecolor\": \"white\"}}, \"shapedefaults\": {\"line\": {\"color\": \"#2a3f5f\"}}, \"ternary\": {\"aaxis\": {\"gridcolor\": \"white\", \"linecolor\": \"white\", \"ticks\": \"\"}, \"baxis\": {\"gridcolor\": \"white\", \"linecolor\": \"white\", \"ticks\": \"\"}, \"bgcolor\": \"#E5ECF6\", \"caxis\": {\"gridcolor\": \"white\", \"linecolor\": \"white\", \"ticks\": \"\"}}, \"title\": {\"x\": 0.05}, \"xaxis\": {\"automargin\": true, \"gridcolor\": \"white\", \"linecolor\": \"white\", \"ticks\": \"\", \"title\": {\"standoff\": 15}, \"zerolinecolor\": \"white\", \"zerolinewidth\": 2}, \"yaxis\": {\"automargin\": true, \"gridcolor\": \"white\", \"linecolor\": \"white\", \"ticks\": \"\", \"title\": {\"standoff\": 15}, \"zerolinecolor\": \"white\", \"zerolinewidth\": 2}}}, \"title\": {\"text\": \"Fitness populacija svih generacija\"}, \"xaxis\": {\"title\": {\"text\": \"Generacije populacija\"}, \"type\": \"category\"}, \"yaxis\": {\"range\": [0, 1000], \"title\": {\"text\": \"Fitness populacije\"}}},\n",
       "                        {\"responsive\": true}\n",
       "                    ).then(function(){\n",
       "                            \n",
       "var gd = document.getElementById('0871c54a-0c52-419c-ab0a-3a652971474c');\n",
       "var x = new MutationObserver(function (mutations, observer) {{\n",
       "        var display = window.getComputedStyle(gd).display;\n",
       "        if (!display || display === 'none') {{\n",
       "            console.log([gd, 'removed!']);\n",
       "            Plotly.purge(gd);\n",
       "            observer.disconnect();\n",
       "        }}\n",
       "}});\n",
       "\n",
       "// Listen for the removal of the full notebook cells\n",
       "var notebookContainer = gd.closest('#notebook-container');\n",
       "if (notebookContainer) {{\n",
       "    x.observe(notebookContainer, {childList: true});\n",
       "}}\n",
       "\n",
       "// Listen for the clearing of the current output cell\n",
       "var outputEl = gd.closest('.output');\n",
       "if (outputEl) {{\n",
       "    x.observe(outputEl, {childList: true});\n",
       "}}\n",
       "\n",
       "                        })\n",
       "                };\n",
       "                });\n",
       "            </script>\n",
       "        </div>"
      ]
     },
     "metadata": {},
     "output_type": "display_data"
    }
   ],
   "source": [
    "plot_generation_fitness(ulazni_podaci)"
   ]
  },
  {
   "cell_type": "code",
   "execution_count": 11,
   "metadata": {},
   "outputs": [],
   "source": [
    "def plot_fitness(ulazni_podaci):\n",
    "    x = list(range(ulazni_podaci['parametri']['n_pop']))\n",
    "    data = []\n",
    "    for i in range(len(generacije['all'])):\n",
    "        data.append(go.Bar(x=x, y=[jedinka['fit'] for jedinka in generacije['all'][i]['all']], visible = False, name=\"fitness\"))\n",
    "    data[0]['visible'] = True\n",
    "    steps = []\n",
    "    for i in range(len(data)):\n",
    "        step = dict(method = 'update', \n",
    "                    args = [{'visible': [t == i for t in range(len(data))]}, \n",
    "                            {'title.text': f'Fitness populacija {i + 1}. generacije'}], \n",
    "                    label = f'{i + 1}. gen')\n",
    "        steps.append(step)\n",
    "\n",
    "    sliders = [dict(\n",
    "        active=0,\n",
    "        currentvalue={\"prefix\": \"Generacija: \"},\n",
    "        pad={\"t\": 50},\n",
    "        steps=steps,\n",
    "        transition=dict(easing = \"bounce-in-out\")\n",
    "    )]\n",
    "    layout = go.Layout(\n",
    "        yaxis=dict(title='Fitness jedinki', range=[0, 1000]),\n",
    "        xaxis=dict(title='Jedinke generacija', type='category'),\n",
    "        title=f'Fitness populacija 1. generacije',\n",
    "        showlegend = False)\n",
    "\n",
    "    fig = go.Figure(data=data, layout=layout)\n",
    "    fig.update_layout(\n",
    "        sliders=sliders\n",
    "    )\n",
    "    py.iplot(fig, filename='fitness-one-population')"
   ]
  },
  {
   "cell_type": "code",
   "execution_count": 12,
   "metadata": {},
   "outputs": [
    {
     "data": {
      "application/vnd.plotly.v1+json": {
       "config": {
        "linkText": "Export to plot.ly",
        "plotlyServerURL": "https://plot.ly",
        "showLink": false
       },
       "data": [
        {
         "name": "fitness",
         "type": "bar",
         "visible": true,
         "x": [
          0,
          1,
          2,
          3,
          4,
          5,
          6,
          7,
          8,
          9
         ],
         "y": [
          0.011076629900203529,
          400.26259127659847,
          21.287795118063087,
          54.90010319921535,
          0.08449125882359228,
          0.8032575441888339,
          45.08078054121009,
          4.8951983302366635,
          4.098670965532469,
          79.24390695981141
         ]
        },
        {
         "name": "fitness",
         "type": "bar",
         "visible": false,
         "x": [
          0,
          1,
          2,
          3,
          4,
          5,
          6,
          7,
          8,
          9
         ],
         "y": [
          0.047937672111490845,
          36.02363321489386,
          44.47362125295538,
          49.90918472655941,
          83.64634623535649,
          37.91961391041459,
          449.5590303278568,
          8.804878551090157,
          509.32936225011326,
          88.04878551090158
         ]
        },
        {
         "name": "fitness",
         "type": "bar",
         "visible": false,
         "x": [
          0,
          1,
          2,
          3,
          4,
          5,
          6,
          7,
          8,
          9
         ],
         "y": [
          70.8024497709175,
          56.592151361123705,
          4.446908359136444,
          139.53930335353402,
          75.28171161182084,
          499.5100336976187,
          53.613617078959294,
          52.535983922694115,
          5.149051784263251,
          76.87459418606352
         ]
        },
        {
         "name": "fitness",
         "type": "bar",
         "visible": false,
         "x": [
          0,
          1,
          2,
          3,
          4,
          5,
          6,
          7,
          8,
          9
         ],
         "y": [
          0.7528171161182079,
          9.490690640254757,
          74.52129028240851,
          73.77607737958444,
          589.6896154588115,
          4.741856362548554,
          139.53930335353402,
          56.592151361123705,
          90.16156108242018,
          404.60312729507115
         ]
        },
        {
         "name": "fitness",
         "type": "bar",
         "visible": false,
         "x": [
          0,
          1,
          2,
          3,
          4,
          5,
          6,
          7,
          8,
          9
         ],
         "y": [
          156.60976807355104,
          92.00159294124508,
          589.6896154588115,
          74.52129028240851,
          24.433783053335848,
          489.1599195050087,
          81.14540497417815,
          82.80143364712058,
          139.53930335353402,
          589.6896154588115
         ]
        },
        {
         "name": "fitness",
         "type": "bar",
         "visible": false,
         "x": [
          0,
          1,
          2,
          3,
          4,
          5,
          6,
          7,
          8,
          9
         ],
         "y": [
          50.46070748577986,
          107.51411675789441,
          589.6896154588115,
          589.6896154588115,
          589.6896154588115,
          589.6896154588115,
          489.1599195050087,
          589.6896154588115,
          589.6896154588115,
          589.6896154588115
         ]
        },
        {
         "name": "fitness",
         "type": "bar",
         "visible": false,
         "x": [
          0,
          1,
          2,
          3,
          4,
          5,
          6,
          7,
          8,
          9
         ],
         "y": [
          589.6896154588115,
          589.6896154588115,
          589.6896154588115,
          589.6896154588115,
          589.6896154588115,
          589.6896154588115,
          589.6896154588115,
          589.6896154588115,
          589.6896154588115,
          589.6896154588115
         ]
        },
        {
         "name": "fitness",
         "type": "bar",
         "visible": false,
         "x": [
          0,
          1,
          2,
          3,
          4,
          5,
          6,
          7,
          8,
          9
         ],
         "y": [
          589.6896154588115,
          589.6896154588115,
          589.6896154588115,
          589.6896154588115,
          589.6896154588115,
          589.6896154588115,
          589.6896154588115,
          589.6896154588115,
          589.6896154588115,
          589.6896154588115
         ]
        },
        {
         "name": "fitness",
         "type": "bar",
         "visible": false,
         "x": [
          0,
          1,
          2,
          3,
          4,
          5,
          6,
          7,
          8,
          9
         ],
         "y": [
          589.6896154588115,
          589.6896154588115,
          589.6896154588115,
          589.6896154588115,
          589.6896154588115,
          589.6896154588115,
          589.6896154588115,
          589.6896154588115,
          589.6896154588115,
          589.6896154588115
         ]
        },
        {
         "name": "fitness",
         "type": "bar",
         "visible": false,
         "x": [
          0,
          1,
          2,
          3,
          4,
          5,
          6,
          7,
          8,
          9
         ],
         "y": [
          589.6896154588115,
          589.6896154588115,
          589.6896154588115,
          589.6896154588115,
          589.6896154588115,
          589.6896154588115,
          589.6896154588115,
          589.6896154588115,
          589.6896154588115,
          589.6896154588115
         ]
        },
        {
         "name": "fitness",
         "type": "bar",
         "visible": false,
         "x": [
          0,
          1,
          2,
          3,
          4,
          5,
          6,
          7,
          8,
          9
         ],
         "y": [
          589.6896154588115,
          589.6896154588115,
          589.6896154588115,
          589.6896154588115,
          589.6896154588115,
          589.6896154588115,
          589.6896154588115,
          589.6896154588115,
          589.6896154588115,
          589.6896154588115
         ]
        },
        {
         "name": "fitness",
         "type": "bar",
         "visible": false,
         "x": [
          0,
          1,
          2,
          3,
          4,
          5,
          6,
          7,
          8,
          9
         ],
         "y": [
          589.6896154588115,
          589.6896154588115,
          589.6896154588115,
          589.6896154588115,
          589.6896154588115,
          589.6896154588115,
          589.6896154588115,
          589.6896154588115,
          589.6896154588115,
          589.6896154588115
         ]
        },
        {
         "name": "fitness",
         "type": "bar",
         "visible": false,
         "x": [
          0,
          1,
          2,
          3,
          4,
          5,
          6,
          7,
          8,
          9
         ],
         "y": [
          589.6896154588115,
          589.6896154588115,
          589.6896154588115,
          589.6896154588115,
          589.6896154588115,
          589.6896154588115,
          589.6896154588115,
          589.6896154588115,
          589.6896154588115,
          589.6896154588115
         ]
        },
        {
         "name": "fitness",
         "type": "bar",
         "visible": false,
         "x": [
          0,
          1,
          2,
          3,
          4,
          5,
          6,
          7,
          8,
          9
         ],
         "y": [
          589.6896154588115,
          589.6896154588115,
          589.6896154588115,
          589.6896154588115,
          589.6896154588115,
          589.6896154588115,
          589.6896154588115,
          589.6896154588115,
          589.6896154588115,
          589.6896154588115
         ]
        },
        {
         "name": "fitness",
         "type": "bar",
         "visible": false,
         "x": [
          0,
          1,
          2,
          3,
          4,
          5,
          6,
          7,
          8,
          9
         ],
         "y": [
          589.6896154588115,
          589.6896154588115,
          589.6896154588115,
          589.6896154588115,
          589.6896154588115,
          589.6896154588115,
          589.6896154588115,
          589.6896154588115,
          589.6896154588115,
          589.6896154588115
         ]
        },
        {
         "name": "fitness",
         "type": "bar",
         "visible": false,
         "x": [
          0,
          1,
          2,
          3,
          4,
          5,
          6,
          7,
          8,
          9
         ],
         "y": [
          589.6896154588115,
          589.6896154588115,
          589.6896154588115,
          589.6896154588115,
          589.6896154588115,
          589.6896154588115,
          589.6896154588115,
          589.6896154588115,
          589.6896154588115,
          589.6896154588115
         ]
        },
        {
         "name": "fitness",
         "type": "bar",
         "visible": false,
         "x": [
          0,
          1,
          2,
          3,
          4,
          5,
          6,
          7,
          8,
          9
         ],
         "y": [
          589.6896154588115,
          589.6896154588115,
          589.6896154588115,
          589.6896154588115,
          589.6896154588115,
          589.6896154588115,
          589.6896154588115,
          589.6896154588115,
          589.6896154588115,
          589.6896154588115
         ]
        },
        {
         "name": "fitness",
         "type": "bar",
         "visible": false,
         "x": [
          0,
          1,
          2,
          3,
          4,
          5,
          6,
          7,
          8,
          9
         ],
         "y": [
          589.6896154588115,
          589.6896154588115,
          589.6896154588115,
          589.6896154588115,
          589.6896154588115,
          589.6896154588115,
          589.6896154588115,
          589.6896154588115,
          589.6896154588115,
          589.6896154588115
         ]
        },
        {
         "name": "fitness",
         "type": "bar",
         "visible": false,
         "x": [
          0,
          1,
          2,
          3,
          4,
          5,
          6,
          7,
          8,
          9
         ],
         "y": [
          589.6896154588115,
          589.6896154588115,
          589.6896154588115,
          589.6896154588115,
          589.6896154588115,
          589.6896154588115,
          589.6896154588115,
          589.6896154588115,
          589.6896154588115,
          589.6896154588115
         ]
        },
        {
         "name": "fitness",
         "type": "bar",
         "visible": false,
         "x": [
          0,
          1,
          2,
          3,
          4,
          5,
          6,
          7,
          8,
          9
         ],
         "y": [
          589.6896154588115,
          589.6896154588115,
          589.6896154588115,
          589.6896154588115,
          589.6896154588115,
          589.6896154588115,
          589.6896154588115,
          589.6896154588115,
          589.6896154588115,
          589.6896154588115
         ]
        }
       ],
       "layout": {
        "showlegend": false,
        "sliders": [
         {
          "active": 0,
          "currentvalue": {
           "prefix": "Generacija: "
          },
          "pad": {
           "t": 50
          },
          "steps": [
           {
            "args": [
             {
              "visible": [
               true,
               false,
               false,
               false,
               false,
               false,
               false,
               false,
               false,
               false,
               false,
               false,
               false,
               false,
               false,
               false,
               false,
               false,
               false,
               false
              ]
             },
             {
              "title.text": "Fitness populacija 1. generacije"
             }
            ],
            "label": "1. gen",
            "method": "update"
           },
           {
            "args": [
             {
              "visible": [
               false,
               true,
               false,
               false,
               false,
               false,
               false,
               false,
               false,
               false,
               false,
               false,
               false,
               false,
               false,
               false,
               false,
               false,
               false,
               false
              ]
             },
             {
              "title.text": "Fitness populacija 2. generacije"
             }
            ],
            "label": "2. gen",
            "method": "update"
           },
           {
            "args": [
             {
              "visible": [
               false,
               false,
               true,
               false,
               false,
               false,
               false,
               false,
               false,
               false,
               false,
               false,
               false,
               false,
               false,
               false,
               false,
               false,
               false,
               false
              ]
             },
             {
              "title.text": "Fitness populacija 3. generacije"
             }
            ],
            "label": "3. gen",
            "method": "update"
           },
           {
            "args": [
             {
              "visible": [
               false,
               false,
               false,
               true,
               false,
               false,
               false,
               false,
               false,
               false,
               false,
               false,
               false,
               false,
               false,
               false,
               false,
               false,
               false,
               false
              ]
             },
             {
              "title.text": "Fitness populacija 4. generacije"
             }
            ],
            "label": "4. gen",
            "method": "update"
           },
           {
            "args": [
             {
              "visible": [
               false,
               false,
               false,
               false,
               true,
               false,
               false,
               false,
               false,
               false,
               false,
               false,
               false,
               false,
               false,
               false,
               false,
               false,
               false,
               false
              ]
             },
             {
              "title.text": "Fitness populacija 5. generacije"
             }
            ],
            "label": "5. gen",
            "method": "update"
           },
           {
            "args": [
             {
              "visible": [
               false,
               false,
               false,
               false,
               false,
               true,
               false,
               false,
               false,
               false,
               false,
               false,
               false,
               false,
               false,
               false,
               false,
               false,
               false,
               false
              ]
             },
             {
              "title.text": "Fitness populacija 6. generacije"
             }
            ],
            "label": "6. gen",
            "method": "update"
           },
           {
            "args": [
             {
              "visible": [
               false,
               false,
               false,
               false,
               false,
               false,
               true,
               false,
               false,
               false,
               false,
               false,
               false,
               false,
               false,
               false,
               false,
               false,
               false,
               false
              ]
             },
             {
              "title.text": "Fitness populacija 7. generacije"
             }
            ],
            "label": "7. gen",
            "method": "update"
           },
           {
            "args": [
             {
              "visible": [
               false,
               false,
               false,
               false,
               false,
               false,
               false,
               true,
               false,
               false,
               false,
               false,
               false,
               false,
               false,
               false,
               false,
               false,
               false,
               false
              ]
             },
             {
              "title.text": "Fitness populacija 8. generacije"
             }
            ],
            "label": "8. gen",
            "method": "update"
           },
           {
            "args": [
             {
              "visible": [
               false,
               false,
               false,
               false,
               false,
               false,
               false,
               false,
               true,
               false,
               false,
               false,
               false,
               false,
               false,
               false,
               false,
               false,
               false,
               false
              ]
             },
             {
              "title.text": "Fitness populacija 9. generacije"
             }
            ],
            "label": "9. gen",
            "method": "update"
           },
           {
            "args": [
             {
              "visible": [
               false,
               false,
               false,
               false,
               false,
               false,
               false,
               false,
               false,
               true,
               false,
               false,
               false,
               false,
               false,
               false,
               false,
               false,
               false,
               false
              ]
             },
             {
              "title.text": "Fitness populacija 10. generacije"
             }
            ],
            "label": "10. gen",
            "method": "update"
           },
           {
            "args": [
             {
              "visible": [
               false,
               false,
               false,
               false,
               false,
               false,
               false,
               false,
               false,
               false,
               true,
               false,
               false,
               false,
               false,
               false,
               false,
               false,
               false,
               false
              ]
             },
             {
              "title.text": "Fitness populacija 11. generacije"
             }
            ],
            "label": "11. gen",
            "method": "update"
           },
           {
            "args": [
             {
              "visible": [
               false,
               false,
               false,
               false,
               false,
               false,
               false,
               false,
               false,
               false,
               false,
               true,
               false,
               false,
               false,
               false,
               false,
               false,
               false,
               false
              ]
             },
             {
              "title.text": "Fitness populacija 12. generacije"
             }
            ],
            "label": "12. gen",
            "method": "update"
           },
           {
            "args": [
             {
              "visible": [
               false,
               false,
               false,
               false,
               false,
               false,
               false,
               false,
               false,
               false,
               false,
               false,
               true,
               false,
               false,
               false,
               false,
               false,
               false,
               false
              ]
             },
             {
              "title.text": "Fitness populacija 13. generacije"
             }
            ],
            "label": "13. gen",
            "method": "update"
           },
           {
            "args": [
             {
              "visible": [
               false,
               false,
               false,
               false,
               false,
               false,
               false,
               false,
               false,
               false,
               false,
               false,
               false,
               true,
               false,
               false,
               false,
               false,
               false,
               false
              ]
             },
             {
              "title.text": "Fitness populacija 14. generacije"
             }
            ],
            "label": "14. gen",
            "method": "update"
           },
           {
            "args": [
             {
              "visible": [
               false,
               false,
               false,
               false,
               false,
               false,
               false,
               false,
               false,
               false,
               false,
               false,
               false,
               false,
               true,
               false,
               false,
               false,
               false,
               false
              ]
             },
             {
              "title.text": "Fitness populacija 15. generacije"
             }
            ],
            "label": "15. gen",
            "method": "update"
           },
           {
            "args": [
             {
              "visible": [
               false,
               false,
               false,
               false,
               false,
               false,
               false,
               false,
               false,
               false,
               false,
               false,
               false,
               false,
               false,
               true,
               false,
               false,
               false,
               false
              ]
             },
             {
              "title.text": "Fitness populacija 16. generacije"
             }
            ],
            "label": "16. gen",
            "method": "update"
           },
           {
            "args": [
             {
              "visible": [
               false,
               false,
               false,
               false,
               false,
               false,
               false,
               false,
               false,
               false,
               false,
               false,
               false,
               false,
               false,
               false,
               true,
               false,
               false,
               false
              ]
             },
             {
              "title.text": "Fitness populacija 17. generacije"
             }
            ],
            "label": "17. gen",
            "method": "update"
           },
           {
            "args": [
             {
              "visible": [
               false,
               false,
               false,
               false,
               false,
               false,
               false,
               false,
               false,
               false,
               false,
               false,
               false,
               false,
               false,
               false,
               false,
               true,
               false,
               false
              ]
             },
             {
              "title.text": "Fitness populacija 18. generacije"
             }
            ],
            "label": "18. gen",
            "method": "update"
           },
           {
            "args": [
             {
              "visible": [
               false,
               false,
               false,
               false,
               false,
               false,
               false,
               false,
               false,
               false,
               false,
               false,
               false,
               false,
               false,
               false,
               false,
               false,
               true,
               false
              ]
             },
             {
              "title.text": "Fitness populacija 19. generacije"
             }
            ],
            "label": "19. gen",
            "method": "update"
           },
           {
            "args": [
             {
              "visible": [
               false,
               false,
               false,
               false,
               false,
               false,
               false,
               false,
               false,
               false,
               false,
               false,
               false,
               false,
               false,
               false,
               false,
               false,
               false,
               true
              ]
             },
             {
              "title.text": "Fitness populacija 20. generacije"
             }
            ],
            "label": "20. gen",
            "method": "update"
           }
          ],
          "transition": {
           "easing": "bounce-in-out"
          }
         }
        ],
        "template": {
         "data": {
          "bar": [
           {
            "error_x": {
             "color": "#2a3f5f"
            },
            "error_y": {
             "color": "#2a3f5f"
            },
            "marker": {
             "line": {
              "color": "#E5ECF6",
              "width": 0.5
             }
            },
            "type": "bar"
           }
          ],
          "barpolar": [
           {
            "marker": {
             "line": {
              "color": "#E5ECF6",
              "width": 0.5
             }
            },
            "type": "barpolar"
           }
          ],
          "carpet": [
           {
            "aaxis": {
             "endlinecolor": "#2a3f5f",
             "gridcolor": "white",
             "linecolor": "white",
             "minorgridcolor": "white",
             "startlinecolor": "#2a3f5f"
            },
            "baxis": {
             "endlinecolor": "#2a3f5f",
             "gridcolor": "white",
             "linecolor": "white",
             "minorgridcolor": "white",
             "startlinecolor": "#2a3f5f"
            },
            "type": "carpet"
           }
          ],
          "choropleth": [
           {
            "colorbar": {
             "outlinewidth": 0,
             "ticks": ""
            },
            "type": "choropleth"
           }
          ],
          "contour": [
           {
            "colorbar": {
             "outlinewidth": 0,
             "ticks": ""
            },
            "colorscale": [
             [
              0,
              "#0d0887"
             ],
             [
              0.1111111111111111,
              "#46039f"
             ],
             [
              0.2222222222222222,
              "#7201a8"
             ],
             [
              0.3333333333333333,
              "#9c179e"
             ],
             [
              0.4444444444444444,
              "#bd3786"
             ],
             [
              0.5555555555555556,
              "#d8576b"
             ],
             [
              0.6666666666666666,
              "#ed7953"
             ],
             [
              0.7777777777777778,
              "#fb9f3a"
             ],
             [
              0.8888888888888888,
              "#fdca26"
             ],
             [
              1,
              "#f0f921"
             ]
            ],
            "type": "contour"
           }
          ],
          "contourcarpet": [
           {
            "colorbar": {
             "outlinewidth": 0,
             "ticks": ""
            },
            "type": "contourcarpet"
           }
          ],
          "heatmap": [
           {
            "colorbar": {
             "outlinewidth": 0,
             "ticks": ""
            },
            "colorscale": [
             [
              0,
              "#0d0887"
             ],
             [
              0.1111111111111111,
              "#46039f"
             ],
             [
              0.2222222222222222,
              "#7201a8"
             ],
             [
              0.3333333333333333,
              "#9c179e"
             ],
             [
              0.4444444444444444,
              "#bd3786"
             ],
             [
              0.5555555555555556,
              "#d8576b"
             ],
             [
              0.6666666666666666,
              "#ed7953"
             ],
             [
              0.7777777777777778,
              "#fb9f3a"
             ],
             [
              0.8888888888888888,
              "#fdca26"
             ],
             [
              1,
              "#f0f921"
             ]
            ],
            "type": "heatmap"
           }
          ],
          "heatmapgl": [
           {
            "colorbar": {
             "outlinewidth": 0,
             "ticks": ""
            },
            "colorscale": [
             [
              0,
              "#0d0887"
             ],
             [
              0.1111111111111111,
              "#46039f"
             ],
             [
              0.2222222222222222,
              "#7201a8"
             ],
             [
              0.3333333333333333,
              "#9c179e"
             ],
             [
              0.4444444444444444,
              "#bd3786"
             ],
             [
              0.5555555555555556,
              "#d8576b"
             ],
             [
              0.6666666666666666,
              "#ed7953"
             ],
             [
              0.7777777777777778,
              "#fb9f3a"
             ],
             [
              0.8888888888888888,
              "#fdca26"
             ],
             [
              1,
              "#f0f921"
             ]
            ],
            "type": "heatmapgl"
           }
          ],
          "histogram": [
           {
            "marker": {
             "colorbar": {
              "outlinewidth": 0,
              "ticks": ""
             }
            },
            "type": "histogram"
           }
          ],
          "histogram2d": [
           {
            "colorbar": {
             "outlinewidth": 0,
             "ticks": ""
            },
            "colorscale": [
             [
              0,
              "#0d0887"
             ],
             [
              0.1111111111111111,
              "#46039f"
             ],
             [
              0.2222222222222222,
              "#7201a8"
             ],
             [
              0.3333333333333333,
              "#9c179e"
             ],
             [
              0.4444444444444444,
              "#bd3786"
             ],
             [
              0.5555555555555556,
              "#d8576b"
             ],
             [
              0.6666666666666666,
              "#ed7953"
             ],
             [
              0.7777777777777778,
              "#fb9f3a"
             ],
             [
              0.8888888888888888,
              "#fdca26"
             ],
             [
              1,
              "#f0f921"
             ]
            ],
            "type": "histogram2d"
           }
          ],
          "histogram2dcontour": [
           {
            "colorbar": {
             "outlinewidth": 0,
             "ticks": ""
            },
            "colorscale": [
             [
              0,
              "#0d0887"
             ],
             [
              0.1111111111111111,
              "#46039f"
             ],
             [
              0.2222222222222222,
              "#7201a8"
             ],
             [
              0.3333333333333333,
              "#9c179e"
             ],
             [
              0.4444444444444444,
              "#bd3786"
             ],
             [
              0.5555555555555556,
              "#d8576b"
             ],
             [
              0.6666666666666666,
              "#ed7953"
             ],
             [
              0.7777777777777778,
              "#fb9f3a"
             ],
             [
              0.8888888888888888,
              "#fdca26"
             ],
             [
              1,
              "#f0f921"
             ]
            ],
            "type": "histogram2dcontour"
           }
          ],
          "mesh3d": [
           {
            "colorbar": {
             "outlinewidth": 0,
             "ticks": ""
            },
            "type": "mesh3d"
           }
          ],
          "parcoords": [
           {
            "line": {
             "colorbar": {
              "outlinewidth": 0,
              "ticks": ""
             }
            },
            "type": "parcoords"
           }
          ],
          "pie": [
           {
            "automargin": true,
            "type": "pie"
           }
          ],
          "scatter": [
           {
            "marker": {
             "colorbar": {
              "outlinewidth": 0,
              "ticks": ""
             }
            },
            "type": "scatter"
           }
          ],
          "scatter3d": [
           {
            "line": {
             "colorbar": {
              "outlinewidth": 0,
              "ticks": ""
             }
            },
            "marker": {
             "colorbar": {
              "outlinewidth": 0,
              "ticks": ""
             }
            },
            "type": "scatter3d"
           }
          ],
          "scattercarpet": [
           {
            "marker": {
             "colorbar": {
              "outlinewidth": 0,
              "ticks": ""
             }
            },
            "type": "scattercarpet"
           }
          ],
          "scattergeo": [
           {
            "marker": {
             "colorbar": {
              "outlinewidth": 0,
              "ticks": ""
             }
            },
            "type": "scattergeo"
           }
          ],
          "scattergl": [
           {
            "marker": {
             "colorbar": {
              "outlinewidth": 0,
              "ticks": ""
             }
            },
            "type": "scattergl"
           }
          ],
          "scattermapbox": [
           {
            "marker": {
             "colorbar": {
              "outlinewidth": 0,
              "ticks": ""
             }
            },
            "type": "scattermapbox"
           }
          ],
          "scatterpolar": [
           {
            "marker": {
             "colorbar": {
              "outlinewidth": 0,
              "ticks": ""
             }
            },
            "type": "scatterpolar"
           }
          ],
          "scatterpolargl": [
           {
            "marker": {
             "colorbar": {
              "outlinewidth": 0,
              "ticks": ""
             }
            },
            "type": "scatterpolargl"
           }
          ],
          "scatterternary": [
           {
            "marker": {
             "colorbar": {
              "outlinewidth": 0,
              "ticks": ""
             }
            },
            "type": "scatterternary"
           }
          ],
          "surface": [
           {
            "colorbar": {
             "outlinewidth": 0,
             "ticks": ""
            },
            "colorscale": [
             [
              0,
              "#0d0887"
             ],
             [
              0.1111111111111111,
              "#46039f"
             ],
             [
              0.2222222222222222,
              "#7201a8"
             ],
             [
              0.3333333333333333,
              "#9c179e"
             ],
             [
              0.4444444444444444,
              "#bd3786"
             ],
             [
              0.5555555555555556,
              "#d8576b"
             ],
             [
              0.6666666666666666,
              "#ed7953"
             ],
             [
              0.7777777777777778,
              "#fb9f3a"
             ],
             [
              0.8888888888888888,
              "#fdca26"
             ],
             [
              1,
              "#f0f921"
             ]
            ],
            "type": "surface"
           }
          ],
          "table": [
           {
            "cells": {
             "fill": {
              "color": "#EBF0F8"
             },
             "line": {
              "color": "white"
             }
            },
            "header": {
             "fill": {
              "color": "#C8D4E3"
             },
             "line": {
              "color": "white"
             }
            },
            "type": "table"
           }
          ]
         },
         "layout": {
          "annotationdefaults": {
           "arrowcolor": "#2a3f5f",
           "arrowhead": 0,
           "arrowwidth": 1
          },
          "coloraxis": {
           "colorbar": {
            "outlinewidth": 0,
            "ticks": ""
           }
          },
          "colorscale": {
           "diverging": [
            [
             0,
             "#8e0152"
            ],
            [
             0.1,
             "#c51b7d"
            ],
            [
             0.2,
             "#de77ae"
            ],
            [
             0.3,
             "#f1b6da"
            ],
            [
             0.4,
             "#fde0ef"
            ],
            [
             0.5,
             "#f7f7f7"
            ],
            [
             0.6,
             "#e6f5d0"
            ],
            [
             0.7,
             "#b8e186"
            ],
            [
             0.8,
             "#7fbc41"
            ],
            [
             0.9,
             "#4d9221"
            ],
            [
             1,
             "#276419"
            ]
           ],
           "sequential": [
            [
             0,
             "#0d0887"
            ],
            [
             0.1111111111111111,
             "#46039f"
            ],
            [
             0.2222222222222222,
             "#7201a8"
            ],
            [
             0.3333333333333333,
             "#9c179e"
            ],
            [
             0.4444444444444444,
             "#bd3786"
            ],
            [
             0.5555555555555556,
             "#d8576b"
            ],
            [
             0.6666666666666666,
             "#ed7953"
            ],
            [
             0.7777777777777778,
             "#fb9f3a"
            ],
            [
             0.8888888888888888,
             "#fdca26"
            ],
            [
             1,
             "#f0f921"
            ]
           ],
           "sequentialminus": [
            [
             0,
             "#0d0887"
            ],
            [
             0.1111111111111111,
             "#46039f"
            ],
            [
             0.2222222222222222,
             "#7201a8"
            ],
            [
             0.3333333333333333,
             "#9c179e"
            ],
            [
             0.4444444444444444,
             "#bd3786"
            ],
            [
             0.5555555555555556,
             "#d8576b"
            ],
            [
             0.6666666666666666,
             "#ed7953"
            ],
            [
             0.7777777777777778,
             "#fb9f3a"
            ],
            [
             0.8888888888888888,
             "#fdca26"
            ],
            [
             1,
             "#f0f921"
            ]
           ]
          },
          "colorway": [
           "#636efa",
           "#EF553B",
           "#00cc96",
           "#ab63fa",
           "#FFA15A",
           "#19d3f3",
           "#FF6692",
           "#B6E880",
           "#FF97FF",
           "#FECB52"
          ],
          "font": {
           "color": "#2a3f5f"
          },
          "geo": {
           "bgcolor": "white",
           "lakecolor": "white",
           "landcolor": "#E5ECF6",
           "showlakes": true,
           "showland": true,
           "subunitcolor": "white"
          },
          "hoverlabel": {
           "align": "left"
          },
          "hovermode": "closest",
          "mapbox": {
           "style": "light"
          },
          "paper_bgcolor": "white",
          "plot_bgcolor": "#E5ECF6",
          "polar": {
           "angularaxis": {
            "gridcolor": "white",
            "linecolor": "white",
            "ticks": ""
           },
           "bgcolor": "#E5ECF6",
           "radialaxis": {
            "gridcolor": "white",
            "linecolor": "white",
            "ticks": ""
           }
          },
          "scene": {
           "xaxis": {
            "backgroundcolor": "#E5ECF6",
            "gridcolor": "white",
            "gridwidth": 2,
            "linecolor": "white",
            "showbackground": true,
            "ticks": "",
            "zerolinecolor": "white"
           },
           "yaxis": {
            "backgroundcolor": "#E5ECF6",
            "gridcolor": "white",
            "gridwidth": 2,
            "linecolor": "white",
            "showbackground": true,
            "ticks": "",
            "zerolinecolor": "white"
           },
           "zaxis": {
            "backgroundcolor": "#E5ECF6",
            "gridcolor": "white",
            "gridwidth": 2,
            "linecolor": "white",
            "showbackground": true,
            "ticks": "",
            "zerolinecolor": "white"
           }
          },
          "shapedefaults": {
           "line": {
            "color": "#2a3f5f"
           }
          },
          "ternary": {
           "aaxis": {
            "gridcolor": "white",
            "linecolor": "white",
            "ticks": ""
           },
           "baxis": {
            "gridcolor": "white",
            "linecolor": "white",
            "ticks": ""
           },
           "bgcolor": "#E5ECF6",
           "caxis": {
            "gridcolor": "white",
            "linecolor": "white",
            "ticks": ""
           }
          },
          "title": {
           "x": 0.05
          },
          "xaxis": {
           "automargin": true,
           "gridcolor": "white",
           "linecolor": "white",
           "ticks": "",
           "title": {
            "standoff": 15
           },
           "zerolinecolor": "white",
           "zerolinewidth": 2
          },
          "yaxis": {
           "automargin": true,
           "gridcolor": "white",
           "linecolor": "white",
           "ticks": "",
           "title": {
            "standoff": 15
           },
           "zerolinecolor": "white",
           "zerolinewidth": 2
          }
         }
        },
        "title": {
         "text": "Fitness populacija 1. generacije"
        },
        "xaxis": {
         "title": {
          "text": "Jedinke generacija"
         },
         "type": "category"
        },
        "yaxis": {
         "range": [
          0,
          1000
         ],
         "title": {
          "text": "Fitness jedinki"
         }
        }
       }
      },
      "text/html": [
       "<div>\n",
       "        \n",
       "        \n",
       "            <div id=\"6305b2dc-ec06-481f-bcc9-00f7b9e70ff5\" class=\"plotly-graph-div\" style=\"height:525px; width:100%;\"></div>\n",
       "            <script type=\"text/javascript\">\n",
       "                require([\"plotly\"], function(Plotly) {\n",
       "                    window.PLOTLYENV=window.PLOTLYENV || {};\n",
       "                    \n",
       "                if (document.getElementById(\"6305b2dc-ec06-481f-bcc9-00f7b9e70ff5\")) {\n",
       "                    Plotly.newPlot(\n",
       "                        '6305b2dc-ec06-481f-bcc9-00f7b9e70ff5',\n",
       "                        [{\"name\": \"fitness\", \"type\": \"bar\", \"visible\": true, \"x\": [0, 1, 2, 3, 4, 5, 6, 7, 8, 9], \"y\": [0.011076629900203529, 400.26259127659847, 21.287795118063087, 54.90010319921535, 0.08449125882359228, 0.8032575441888339, 45.08078054121009, 4.8951983302366635, 4.098670965532469, 79.24390695981141]}, {\"name\": \"fitness\", \"type\": \"bar\", \"visible\": false, \"x\": [0, 1, 2, 3, 4, 5, 6, 7, 8, 9], \"y\": [0.047937672111490845, 36.02363321489386, 44.47362125295538, 49.90918472655941, 83.64634623535649, 37.91961391041459, 449.5590303278568, 8.804878551090157, 509.32936225011326, 88.04878551090158]}, {\"name\": \"fitness\", \"type\": \"bar\", \"visible\": false, \"x\": [0, 1, 2, 3, 4, 5, 6, 7, 8, 9], \"y\": [70.8024497709175, 56.592151361123705, 4.446908359136444, 139.53930335353402, 75.28171161182084, 499.5100336976187, 53.613617078959294, 52.535983922694115, 5.149051784263251, 76.87459418606352]}, {\"name\": \"fitness\", \"type\": \"bar\", \"visible\": false, \"x\": [0, 1, 2, 3, 4, 5, 6, 7, 8, 9], \"y\": [0.7528171161182079, 9.490690640254757, 74.52129028240851, 73.77607737958444, 589.6896154588115, 4.741856362548554, 139.53930335353402, 56.592151361123705, 90.16156108242018, 404.60312729507115]}, {\"name\": \"fitness\", \"type\": \"bar\", \"visible\": false, \"x\": [0, 1, 2, 3, 4, 5, 6, 7, 8, 9], \"y\": [156.60976807355104, 92.00159294124508, 589.6896154588115, 74.52129028240851, 24.433783053335848, 489.1599195050087, 81.14540497417815, 82.80143364712058, 139.53930335353402, 589.6896154588115]}, {\"name\": \"fitness\", \"type\": \"bar\", \"visible\": false, \"x\": [0, 1, 2, 3, 4, 5, 6, 7, 8, 9], \"y\": [50.46070748577986, 107.51411675789441, 589.6896154588115, 589.6896154588115, 589.6896154588115, 589.6896154588115, 489.1599195050087, 589.6896154588115, 589.6896154588115, 589.6896154588115]}, {\"name\": \"fitness\", \"type\": \"bar\", \"visible\": false, \"x\": [0, 1, 2, 3, 4, 5, 6, 7, 8, 9], \"y\": [589.6896154588115, 589.6896154588115, 589.6896154588115, 589.6896154588115, 589.6896154588115, 589.6896154588115, 589.6896154588115, 589.6896154588115, 589.6896154588115, 589.6896154588115]}, {\"name\": \"fitness\", \"type\": \"bar\", \"visible\": false, \"x\": [0, 1, 2, 3, 4, 5, 6, 7, 8, 9], \"y\": [589.6896154588115, 589.6896154588115, 589.6896154588115, 589.6896154588115, 589.6896154588115, 589.6896154588115, 589.6896154588115, 589.6896154588115, 589.6896154588115, 589.6896154588115]}, {\"name\": \"fitness\", \"type\": \"bar\", \"visible\": false, \"x\": [0, 1, 2, 3, 4, 5, 6, 7, 8, 9], \"y\": [589.6896154588115, 589.6896154588115, 589.6896154588115, 589.6896154588115, 589.6896154588115, 589.6896154588115, 589.6896154588115, 589.6896154588115, 589.6896154588115, 589.6896154588115]}, {\"name\": \"fitness\", \"type\": \"bar\", \"visible\": false, \"x\": [0, 1, 2, 3, 4, 5, 6, 7, 8, 9], \"y\": [589.6896154588115, 589.6896154588115, 589.6896154588115, 589.6896154588115, 589.6896154588115, 589.6896154588115, 589.6896154588115, 589.6896154588115, 589.6896154588115, 589.6896154588115]}, {\"name\": \"fitness\", \"type\": \"bar\", \"visible\": false, \"x\": [0, 1, 2, 3, 4, 5, 6, 7, 8, 9], \"y\": [589.6896154588115, 589.6896154588115, 589.6896154588115, 589.6896154588115, 589.6896154588115, 589.6896154588115, 589.6896154588115, 589.6896154588115, 589.6896154588115, 589.6896154588115]}, {\"name\": \"fitness\", \"type\": \"bar\", \"visible\": false, \"x\": [0, 1, 2, 3, 4, 5, 6, 7, 8, 9], \"y\": [589.6896154588115, 589.6896154588115, 589.6896154588115, 589.6896154588115, 589.6896154588115, 589.6896154588115, 589.6896154588115, 589.6896154588115, 589.6896154588115, 589.6896154588115]}, {\"name\": \"fitness\", \"type\": \"bar\", \"visible\": false, \"x\": [0, 1, 2, 3, 4, 5, 6, 7, 8, 9], \"y\": [589.6896154588115, 589.6896154588115, 589.6896154588115, 589.6896154588115, 589.6896154588115, 589.6896154588115, 589.6896154588115, 589.6896154588115, 589.6896154588115, 589.6896154588115]}, {\"name\": \"fitness\", \"type\": \"bar\", \"visible\": false, \"x\": [0, 1, 2, 3, 4, 5, 6, 7, 8, 9], \"y\": [589.6896154588115, 589.6896154588115, 589.6896154588115, 589.6896154588115, 589.6896154588115, 589.6896154588115, 589.6896154588115, 589.6896154588115, 589.6896154588115, 589.6896154588115]}, {\"name\": \"fitness\", \"type\": \"bar\", \"visible\": false, \"x\": [0, 1, 2, 3, 4, 5, 6, 7, 8, 9], \"y\": [589.6896154588115, 589.6896154588115, 589.6896154588115, 589.6896154588115, 589.6896154588115, 589.6896154588115, 589.6896154588115, 589.6896154588115, 589.6896154588115, 589.6896154588115]}, {\"name\": \"fitness\", \"type\": \"bar\", \"visible\": false, \"x\": [0, 1, 2, 3, 4, 5, 6, 7, 8, 9], \"y\": [589.6896154588115, 589.6896154588115, 589.6896154588115, 589.6896154588115, 589.6896154588115, 589.6896154588115, 589.6896154588115, 589.6896154588115, 589.6896154588115, 589.6896154588115]}, {\"name\": \"fitness\", \"type\": \"bar\", \"visible\": false, \"x\": [0, 1, 2, 3, 4, 5, 6, 7, 8, 9], \"y\": [589.6896154588115, 589.6896154588115, 589.6896154588115, 589.6896154588115, 589.6896154588115, 589.6896154588115, 589.6896154588115, 589.6896154588115, 589.6896154588115, 589.6896154588115]}, {\"name\": \"fitness\", \"type\": \"bar\", \"visible\": false, \"x\": [0, 1, 2, 3, 4, 5, 6, 7, 8, 9], \"y\": [589.6896154588115, 589.6896154588115, 589.6896154588115, 589.6896154588115, 589.6896154588115, 589.6896154588115, 589.6896154588115, 589.6896154588115, 589.6896154588115, 589.6896154588115]}, {\"name\": \"fitness\", \"type\": \"bar\", \"visible\": false, \"x\": [0, 1, 2, 3, 4, 5, 6, 7, 8, 9], \"y\": [589.6896154588115, 589.6896154588115, 589.6896154588115, 589.6896154588115, 589.6896154588115, 589.6896154588115, 589.6896154588115, 589.6896154588115, 589.6896154588115, 589.6896154588115]}, {\"name\": \"fitness\", \"type\": \"bar\", \"visible\": false, \"x\": [0, 1, 2, 3, 4, 5, 6, 7, 8, 9], \"y\": [589.6896154588115, 589.6896154588115, 589.6896154588115, 589.6896154588115, 589.6896154588115, 589.6896154588115, 589.6896154588115, 589.6896154588115, 589.6896154588115, 589.6896154588115]}],\n",
       "                        {\"showlegend\": false, \"sliders\": [{\"active\": 0, \"currentvalue\": {\"prefix\": \"Generacija: \"}, \"pad\": {\"t\": 50}, \"steps\": [{\"args\": [{\"visible\": [true, false, false, false, false, false, false, false, false, false, false, false, false, false, false, false, false, false, false, false]}, {\"title.text\": \"Fitness populacija 1. generacije\"}], \"label\": \"1. gen\", \"method\": \"update\"}, {\"args\": [{\"visible\": [false, true, false, false, false, false, false, false, false, false, false, false, false, false, false, false, false, false, false, false]}, {\"title.text\": \"Fitness populacija 2. generacije\"}], \"label\": \"2. gen\", \"method\": \"update\"}, {\"args\": [{\"visible\": [false, false, true, false, false, false, false, false, false, false, false, false, false, false, false, false, false, false, false, false]}, {\"title.text\": \"Fitness populacija 3. generacije\"}], \"label\": \"3. gen\", \"method\": \"update\"}, {\"args\": [{\"visible\": [false, false, false, true, false, false, false, false, false, false, false, false, false, false, false, false, false, false, false, false]}, {\"title.text\": \"Fitness populacija 4. generacije\"}], \"label\": \"4. gen\", \"method\": \"update\"}, {\"args\": [{\"visible\": [false, false, false, false, true, false, false, false, false, false, false, false, false, false, false, false, false, false, false, false]}, {\"title.text\": \"Fitness populacija 5. generacije\"}], \"label\": \"5. gen\", \"method\": \"update\"}, {\"args\": [{\"visible\": [false, false, false, false, false, true, false, false, false, false, false, false, false, false, false, false, false, false, false, false]}, {\"title.text\": \"Fitness populacija 6. generacije\"}], \"label\": \"6. gen\", \"method\": \"update\"}, {\"args\": [{\"visible\": [false, false, false, false, false, false, true, false, false, false, false, false, false, false, false, false, false, false, false, false]}, {\"title.text\": \"Fitness populacija 7. generacije\"}], \"label\": \"7. gen\", \"method\": \"update\"}, {\"args\": [{\"visible\": [false, false, false, false, false, false, false, true, false, false, false, false, false, false, false, false, false, false, false, false]}, {\"title.text\": \"Fitness populacija 8. generacije\"}], \"label\": \"8. gen\", \"method\": \"update\"}, {\"args\": [{\"visible\": [false, false, false, false, false, false, false, false, true, false, false, false, false, false, false, false, false, false, false, false]}, {\"title.text\": \"Fitness populacija 9. generacije\"}], \"label\": \"9. gen\", \"method\": \"update\"}, {\"args\": [{\"visible\": [false, false, false, false, false, false, false, false, false, true, false, false, false, false, false, false, false, false, false, false]}, {\"title.text\": \"Fitness populacija 10. generacije\"}], \"label\": \"10. gen\", \"method\": \"update\"}, {\"args\": [{\"visible\": [false, false, false, false, false, false, false, false, false, false, true, false, false, false, false, false, false, false, false, false]}, {\"title.text\": \"Fitness populacija 11. generacije\"}], \"label\": \"11. gen\", \"method\": \"update\"}, {\"args\": [{\"visible\": [false, false, false, false, false, false, false, false, false, false, false, true, false, false, false, false, false, false, false, false]}, {\"title.text\": \"Fitness populacija 12. generacije\"}], \"label\": \"12. gen\", \"method\": \"update\"}, {\"args\": [{\"visible\": [false, false, false, false, false, false, false, false, false, false, false, false, true, false, false, false, false, false, false, false]}, {\"title.text\": \"Fitness populacija 13. generacije\"}], \"label\": \"13. gen\", \"method\": \"update\"}, {\"args\": [{\"visible\": [false, false, false, false, false, false, false, false, false, false, false, false, false, true, false, false, false, false, false, false]}, {\"title.text\": \"Fitness populacija 14. generacije\"}], \"label\": \"14. gen\", \"method\": \"update\"}, {\"args\": [{\"visible\": [false, false, false, false, false, false, false, false, false, false, false, false, false, false, true, false, false, false, false, false]}, {\"title.text\": \"Fitness populacija 15. generacije\"}], \"label\": \"15. gen\", \"method\": \"update\"}, {\"args\": [{\"visible\": [false, false, false, false, false, false, false, false, false, false, false, false, false, false, false, true, false, false, false, false]}, {\"title.text\": \"Fitness populacija 16. generacije\"}], \"label\": \"16. gen\", \"method\": \"update\"}, {\"args\": [{\"visible\": [false, false, false, false, false, false, false, false, false, false, false, false, false, false, false, false, true, false, false, false]}, {\"title.text\": \"Fitness populacija 17. generacije\"}], \"label\": \"17. gen\", \"method\": \"update\"}, {\"args\": [{\"visible\": [false, false, false, false, false, false, false, false, false, false, false, false, false, false, false, false, false, true, false, false]}, {\"title.text\": \"Fitness populacija 18. generacije\"}], \"label\": \"18. gen\", \"method\": \"update\"}, {\"args\": [{\"visible\": [false, false, false, false, false, false, false, false, false, false, false, false, false, false, false, false, false, false, true, false]}, {\"title.text\": \"Fitness populacija 19. generacije\"}], \"label\": \"19. gen\", \"method\": \"update\"}, {\"args\": [{\"visible\": [false, false, false, false, false, false, false, false, false, false, false, false, false, false, false, false, false, false, false, true]}, {\"title.text\": \"Fitness populacija 20. generacije\"}], \"label\": \"20. gen\", \"method\": \"update\"}], \"transition\": {\"easing\": \"bounce-in-out\"}}], \"template\": {\"data\": {\"bar\": [{\"error_x\": {\"color\": \"#2a3f5f\"}, \"error_y\": {\"color\": \"#2a3f5f\"}, \"marker\": {\"line\": {\"color\": \"#E5ECF6\", \"width\": 0.5}}, \"type\": \"bar\"}], \"barpolar\": [{\"marker\": {\"line\": {\"color\": \"#E5ECF6\", \"width\": 0.5}}, \"type\": \"barpolar\"}], \"carpet\": [{\"aaxis\": {\"endlinecolor\": \"#2a3f5f\", \"gridcolor\": \"white\", \"linecolor\": \"white\", \"minorgridcolor\": \"white\", \"startlinecolor\": \"#2a3f5f\"}, \"baxis\": {\"endlinecolor\": \"#2a3f5f\", \"gridcolor\": \"white\", \"linecolor\": \"white\", \"minorgridcolor\": \"white\", \"startlinecolor\": \"#2a3f5f\"}, \"type\": \"carpet\"}], \"choropleth\": [{\"colorbar\": {\"outlinewidth\": 0, \"ticks\": \"\"}, \"type\": \"choropleth\"}], \"contour\": [{\"colorbar\": {\"outlinewidth\": 0, \"ticks\": \"\"}, \"colorscale\": [[0.0, \"#0d0887\"], [0.1111111111111111, \"#46039f\"], [0.2222222222222222, \"#7201a8\"], [0.3333333333333333, \"#9c179e\"], [0.4444444444444444, \"#bd3786\"], [0.5555555555555556, \"#d8576b\"], [0.6666666666666666, \"#ed7953\"], [0.7777777777777778, \"#fb9f3a\"], [0.8888888888888888, \"#fdca26\"], [1.0, \"#f0f921\"]], \"type\": \"contour\"}], \"contourcarpet\": [{\"colorbar\": {\"outlinewidth\": 0, \"ticks\": \"\"}, \"type\": \"contourcarpet\"}], \"heatmap\": [{\"colorbar\": {\"outlinewidth\": 0, \"ticks\": \"\"}, \"colorscale\": [[0.0, \"#0d0887\"], [0.1111111111111111, \"#46039f\"], [0.2222222222222222, \"#7201a8\"], [0.3333333333333333, \"#9c179e\"], [0.4444444444444444, \"#bd3786\"], [0.5555555555555556, \"#d8576b\"], [0.6666666666666666, \"#ed7953\"], [0.7777777777777778, \"#fb9f3a\"], [0.8888888888888888, \"#fdca26\"], [1.0, \"#f0f921\"]], \"type\": \"heatmap\"}], \"heatmapgl\": [{\"colorbar\": {\"outlinewidth\": 0, \"ticks\": \"\"}, \"colorscale\": [[0.0, \"#0d0887\"], [0.1111111111111111, \"#46039f\"], [0.2222222222222222, \"#7201a8\"], [0.3333333333333333, \"#9c179e\"], [0.4444444444444444, \"#bd3786\"], [0.5555555555555556, \"#d8576b\"], [0.6666666666666666, \"#ed7953\"], [0.7777777777777778, \"#fb9f3a\"], [0.8888888888888888, \"#fdca26\"], [1.0, \"#f0f921\"]], \"type\": \"heatmapgl\"}], \"histogram\": [{\"marker\": {\"colorbar\": {\"outlinewidth\": 0, \"ticks\": \"\"}}, \"type\": \"histogram\"}], \"histogram2d\": [{\"colorbar\": {\"outlinewidth\": 0, \"ticks\": \"\"}, \"colorscale\": [[0.0, \"#0d0887\"], [0.1111111111111111, \"#46039f\"], [0.2222222222222222, \"#7201a8\"], [0.3333333333333333, \"#9c179e\"], [0.4444444444444444, \"#bd3786\"], [0.5555555555555556, \"#d8576b\"], [0.6666666666666666, \"#ed7953\"], [0.7777777777777778, \"#fb9f3a\"], [0.8888888888888888, \"#fdca26\"], [1.0, \"#f0f921\"]], \"type\": \"histogram2d\"}], \"histogram2dcontour\": [{\"colorbar\": {\"outlinewidth\": 0, \"ticks\": \"\"}, \"colorscale\": [[0.0, \"#0d0887\"], [0.1111111111111111, \"#46039f\"], [0.2222222222222222, \"#7201a8\"], [0.3333333333333333, \"#9c179e\"], [0.4444444444444444, \"#bd3786\"], [0.5555555555555556, \"#d8576b\"], [0.6666666666666666, \"#ed7953\"], [0.7777777777777778, \"#fb9f3a\"], [0.8888888888888888, \"#fdca26\"], [1.0, \"#f0f921\"]], \"type\": \"histogram2dcontour\"}], \"mesh3d\": [{\"colorbar\": {\"outlinewidth\": 0, \"ticks\": \"\"}, \"type\": \"mesh3d\"}], \"parcoords\": [{\"line\": {\"colorbar\": {\"outlinewidth\": 0, \"ticks\": \"\"}}, \"type\": \"parcoords\"}], \"pie\": [{\"automargin\": true, \"type\": \"pie\"}], \"scatter\": [{\"marker\": {\"colorbar\": {\"outlinewidth\": 0, \"ticks\": \"\"}}, \"type\": \"scatter\"}], \"scatter3d\": [{\"line\": {\"colorbar\": {\"outlinewidth\": 0, \"ticks\": \"\"}}, \"marker\": {\"colorbar\": {\"outlinewidth\": 0, \"ticks\": \"\"}}, \"type\": \"scatter3d\"}], \"scattercarpet\": [{\"marker\": {\"colorbar\": {\"outlinewidth\": 0, \"ticks\": \"\"}}, \"type\": \"scattercarpet\"}], \"scattergeo\": [{\"marker\": {\"colorbar\": {\"outlinewidth\": 0, \"ticks\": \"\"}}, \"type\": \"scattergeo\"}], \"scattergl\": [{\"marker\": {\"colorbar\": {\"outlinewidth\": 0, \"ticks\": \"\"}}, \"type\": \"scattergl\"}], \"scattermapbox\": [{\"marker\": {\"colorbar\": {\"outlinewidth\": 0, \"ticks\": \"\"}}, \"type\": \"scattermapbox\"}], \"scatterpolar\": [{\"marker\": {\"colorbar\": {\"outlinewidth\": 0, \"ticks\": \"\"}}, \"type\": \"scatterpolar\"}], \"scatterpolargl\": [{\"marker\": {\"colorbar\": {\"outlinewidth\": 0, \"ticks\": \"\"}}, \"type\": \"scatterpolargl\"}], \"scatterternary\": [{\"marker\": {\"colorbar\": {\"outlinewidth\": 0, \"ticks\": \"\"}}, \"type\": \"scatterternary\"}], \"surface\": [{\"colorbar\": {\"outlinewidth\": 0, \"ticks\": \"\"}, \"colorscale\": [[0.0, \"#0d0887\"], [0.1111111111111111, \"#46039f\"], [0.2222222222222222, \"#7201a8\"], [0.3333333333333333, \"#9c179e\"], [0.4444444444444444, \"#bd3786\"], [0.5555555555555556, \"#d8576b\"], [0.6666666666666666, \"#ed7953\"], [0.7777777777777778, \"#fb9f3a\"], [0.8888888888888888, \"#fdca26\"], [1.0, \"#f0f921\"]], \"type\": \"surface\"}], \"table\": [{\"cells\": {\"fill\": {\"color\": \"#EBF0F8\"}, \"line\": {\"color\": \"white\"}}, \"header\": {\"fill\": {\"color\": \"#C8D4E3\"}, \"line\": {\"color\": \"white\"}}, \"type\": \"table\"}]}, \"layout\": {\"annotationdefaults\": {\"arrowcolor\": \"#2a3f5f\", \"arrowhead\": 0, \"arrowwidth\": 1}, \"coloraxis\": {\"colorbar\": {\"outlinewidth\": 0, \"ticks\": \"\"}}, \"colorscale\": {\"diverging\": [[0, \"#8e0152\"], [0.1, \"#c51b7d\"], [0.2, \"#de77ae\"], [0.3, \"#f1b6da\"], [0.4, \"#fde0ef\"], [0.5, \"#f7f7f7\"], [0.6, \"#e6f5d0\"], [0.7, \"#b8e186\"], [0.8, \"#7fbc41\"], [0.9, \"#4d9221\"], [1, \"#276419\"]], \"sequential\": [[0.0, \"#0d0887\"], [0.1111111111111111, \"#46039f\"], [0.2222222222222222, \"#7201a8\"], [0.3333333333333333, \"#9c179e\"], [0.4444444444444444, \"#bd3786\"], [0.5555555555555556, \"#d8576b\"], [0.6666666666666666, \"#ed7953\"], [0.7777777777777778, \"#fb9f3a\"], [0.8888888888888888, \"#fdca26\"], [1.0, \"#f0f921\"]], \"sequentialminus\": [[0.0, \"#0d0887\"], [0.1111111111111111, \"#46039f\"], [0.2222222222222222, \"#7201a8\"], [0.3333333333333333, \"#9c179e\"], [0.4444444444444444, \"#bd3786\"], [0.5555555555555556, \"#d8576b\"], [0.6666666666666666, \"#ed7953\"], [0.7777777777777778, \"#fb9f3a\"], [0.8888888888888888, \"#fdca26\"], [1.0, \"#f0f921\"]]}, \"colorway\": [\"#636efa\", \"#EF553B\", \"#00cc96\", \"#ab63fa\", \"#FFA15A\", \"#19d3f3\", \"#FF6692\", \"#B6E880\", \"#FF97FF\", \"#FECB52\"], \"font\": {\"color\": \"#2a3f5f\"}, \"geo\": {\"bgcolor\": \"white\", \"lakecolor\": \"white\", \"landcolor\": \"#E5ECF6\", \"showlakes\": true, \"showland\": true, \"subunitcolor\": \"white\"}, \"hoverlabel\": {\"align\": \"left\"}, \"hovermode\": \"closest\", \"mapbox\": {\"style\": \"light\"}, \"paper_bgcolor\": \"white\", \"plot_bgcolor\": \"#E5ECF6\", \"polar\": {\"angularaxis\": {\"gridcolor\": \"white\", \"linecolor\": \"white\", \"ticks\": \"\"}, \"bgcolor\": \"#E5ECF6\", \"radialaxis\": {\"gridcolor\": \"white\", \"linecolor\": \"white\", \"ticks\": \"\"}}, \"scene\": {\"xaxis\": {\"backgroundcolor\": \"#E5ECF6\", \"gridcolor\": \"white\", \"gridwidth\": 2, \"linecolor\": \"white\", \"showbackground\": true, \"ticks\": \"\", \"zerolinecolor\": \"white\"}, \"yaxis\": {\"backgroundcolor\": \"#E5ECF6\", \"gridcolor\": \"white\", \"gridwidth\": 2, \"linecolor\": \"white\", \"showbackground\": true, \"ticks\": \"\", \"zerolinecolor\": \"white\"}, \"zaxis\": {\"backgroundcolor\": \"#E5ECF6\", \"gridcolor\": \"white\", \"gridwidth\": 2, \"linecolor\": \"white\", \"showbackground\": true, \"ticks\": \"\", \"zerolinecolor\": \"white\"}}, \"shapedefaults\": {\"line\": {\"color\": \"#2a3f5f\"}}, \"ternary\": {\"aaxis\": {\"gridcolor\": \"white\", \"linecolor\": \"white\", \"ticks\": \"\"}, \"baxis\": {\"gridcolor\": \"white\", \"linecolor\": \"white\", \"ticks\": \"\"}, \"bgcolor\": \"#E5ECF6\", \"caxis\": {\"gridcolor\": \"white\", \"linecolor\": \"white\", \"ticks\": \"\"}}, \"title\": {\"x\": 0.05}, \"xaxis\": {\"automargin\": true, \"gridcolor\": \"white\", \"linecolor\": \"white\", \"ticks\": \"\", \"title\": {\"standoff\": 15}, \"zerolinecolor\": \"white\", \"zerolinewidth\": 2}, \"yaxis\": {\"automargin\": true, \"gridcolor\": \"white\", \"linecolor\": \"white\", \"ticks\": \"\", \"title\": {\"standoff\": 15}, \"zerolinecolor\": \"white\", \"zerolinewidth\": 2}}}, \"title\": {\"text\": \"Fitness populacija 1. generacije\"}, \"xaxis\": {\"title\": {\"text\": \"Jedinke generacija\"}, \"type\": \"category\"}, \"yaxis\": {\"range\": [0, 1000], \"title\": {\"text\": \"Fitness jedinki\"}}},\n",
       "                        {\"responsive\": true}\n",
       "                    ).then(function(){\n",
       "                            \n",
       "var gd = document.getElementById('6305b2dc-ec06-481f-bcc9-00f7b9e70ff5');\n",
       "var x = new MutationObserver(function (mutations, observer) {{\n",
       "        var display = window.getComputedStyle(gd).display;\n",
       "        if (!display || display === 'none') {{\n",
       "            console.log([gd, 'removed!']);\n",
       "            Plotly.purge(gd);\n",
       "            observer.disconnect();\n",
       "        }}\n",
       "}});\n",
       "\n",
       "// Listen for the removal of the full notebook cells\n",
       "var notebookContainer = gd.closest('#notebook-container');\n",
       "if (notebookContainer) {{\n",
       "    x.observe(notebookContainer, {childList: true});\n",
       "}}\n",
       "\n",
       "// Listen for the clearing of the current output cell\n",
       "var outputEl = gd.closest('.output');\n",
       "if (outputEl) {{\n",
       "    x.observe(outputEl, {childList: true});\n",
       "}}\n",
       "\n",
       "                        })\n",
       "                };\n",
       "                });\n",
       "            </script>\n",
       "        </div>"
      ]
     },
     "metadata": {},
     "output_type": "display_data"
    }
   ],
   "source": [
    "plot_fitness(ulazni_podaci)"
   ]
  },
  {
   "cell_type": "code",
   "execution_count": 13,
   "metadata": {},
   "outputs": [],
   "source": [
    "def plot_restrictions(ulazni_podaci):\n",
    "    x = list(range(ulazni_podaci['parametri']['n_pop']))\n",
    "    data = []\n",
    "    for i in range(len(generacije['all'])):\n",
    "        data.append(go.Bar(x=x, y=[len(jedinka['hard_pos']) for jedinka in generacije['all'][i]['all']], visible = False, name=\"hard\"))\n",
    "    for i in range(len(generacije['all'])):\n",
    "        data.append(go.Bar(x=x, y=[len(jedinka['soft_pos']) for jedinka in generacije['all'][i]['all']], visible = False, name=\"soft\"))\n",
    "    data[0]['visible'] = data[len(generacije['all'])]['visible'] = True\n",
    "    steps = []\n",
    "    for i in range(len(data) // 2):\n",
    "        step = dict(method = 'update', \n",
    "                    args = [{'visible': [t == i or len(data) // 2 + i == t for t in range(len(data))]}, \n",
    "                            {'title.text': f'Fitness populacija {i + 1}. generacije'}], \n",
    "                    label = f'{i + 1}. gen')\n",
    "        steps.append(step)\n",
    "\n",
    "    sliders = [dict(\n",
    "        active=0,\n",
    "        currentvalue={\"prefix\": \"Generacija: \"},\n",
    "        pad={\"t\": 50},\n",
    "        steps=steps,\n",
    "        transition=dict(easing = \"bounce-in-out\")\n",
    "    )]\n",
    "    layout = go.Layout(\n",
    "        yaxis=dict(title='Broj narušenih ograničenja'),\n",
    "        xaxis=dict(title='Jedinke generacija', type='category'),\n",
    "        title=f'Broj narušenih ograničenja 1. generacije',\n",
    "        showlegend = True)\n",
    "\n",
    "    fig = go.Figure(data=data, layout=layout)\n",
    "    fig.update_layout(\n",
    "        barmode='group',\n",
    "        sliders=sliders\n",
    "    )\n",
    "    py.iplot(fig, filename='violation-one-population')"
   ]
  },
  {
   "cell_type": "code",
   "execution_count": 14,
   "metadata": {},
   "outputs": [
    {
     "data": {
      "application/vnd.plotly.v1+json": {
       "config": {
        "linkText": "Export to plot.ly",
        "plotlyServerURL": "https://plot.ly",
        "showLink": false
       },
       "data": [
        {
         "name": "hard",
         "type": "bar",
         "visible": true,
         "x": [
          0,
          1,
          2,
          3,
          4,
          5,
          6,
          7,
          8,
          9
         ],
         "y": [
          5,
          0,
          2,
          1,
          4,
          3,
          1,
          2,
          2,
          1
         ]
        },
        {
         "name": "hard",
         "type": "bar",
         "visible": false,
         "x": [
          0,
          1,
          2,
          3,
          4,
          5,
          6,
          7,
          8,
          9
         ],
         "y": [
          4,
          1,
          1,
          1,
          1,
          1,
          0,
          2,
          0,
          1
         ]
        },
        {
         "name": "hard",
         "type": "bar",
         "visible": false,
         "x": [
          0,
          1,
          2,
          3,
          4,
          5,
          6,
          7,
          8,
          9
         ],
         "y": [
          1,
          1,
          2,
          1,
          1,
          0,
          1,
          1,
          2,
          1
         ]
        },
        {
         "name": "hard",
         "type": "bar",
         "visible": false,
         "x": [
          0,
          1,
          2,
          3,
          4,
          5,
          6,
          7,
          8,
          9
         ],
         "y": [
          3,
          2,
          1,
          1,
          0,
          2,
          1,
          1,
          1,
          0
         ]
        },
        {
         "name": "hard",
         "type": "bar",
         "visible": false,
         "x": [
          0,
          1,
          2,
          3,
          4,
          5,
          6,
          7,
          8,
          9
         ],
         "y": [
          1,
          1,
          0,
          1,
          2,
          0,
          1,
          1,
          1,
          0
         ]
        },
        {
         "name": "hard",
         "type": "bar",
         "visible": false,
         "x": [
          0,
          1,
          2,
          3,
          4,
          5,
          6,
          7,
          8,
          9
         ],
         "y": [
          1,
          1,
          0,
          0,
          0,
          0,
          0,
          0,
          0,
          0
         ]
        },
        {
         "name": "hard",
         "type": "bar",
         "visible": false,
         "x": [
          0,
          1,
          2,
          3,
          4,
          5,
          6,
          7,
          8,
          9
         ],
         "y": [
          0,
          0,
          0,
          0,
          0,
          0,
          0,
          0,
          0,
          0
         ]
        },
        {
         "name": "hard",
         "type": "bar",
         "visible": false,
         "x": [
          0,
          1,
          2,
          3,
          4,
          5,
          6,
          7,
          8,
          9
         ],
         "y": [
          0,
          0,
          0,
          0,
          0,
          0,
          0,
          0,
          0,
          0
         ]
        },
        {
         "name": "hard",
         "type": "bar",
         "visible": false,
         "x": [
          0,
          1,
          2,
          3,
          4,
          5,
          6,
          7,
          8,
          9
         ],
         "y": [
          0,
          0,
          0,
          0,
          0,
          0,
          0,
          0,
          0,
          0
         ]
        },
        {
         "name": "hard",
         "type": "bar",
         "visible": false,
         "x": [
          0,
          1,
          2,
          3,
          4,
          5,
          6,
          7,
          8,
          9
         ],
         "y": [
          0,
          0,
          0,
          0,
          0,
          0,
          0,
          0,
          0,
          0
         ]
        },
        {
         "name": "hard",
         "type": "bar",
         "visible": false,
         "x": [
          0,
          1,
          2,
          3,
          4,
          5,
          6,
          7,
          8,
          9
         ],
         "y": [
          0,
          0,
          0,
          0,
          0,
          0,
          0,
          0,
          0,
          0
         ]
        },
        {
         "name": "hard",
         "type": "bar",
         "visible": false,
         "x": [
          0,
          1,
          2,
          3,
          4,
          5,
          6,
          7,
          8,
          9
         ],
         "y": [
          0,
          0,
          0,
          0,
          0,
          0,
          0,
          0,
          0,
          0
         ]
        },
        {
         "name": "hard",
         "type": "bar",
         "visible": false,
         "x": [
          0,
          1,
          2,
          3,
          4,
          5,
          6,
          7,
          8,
          9
         ],
         "y": [
          0,
          0,
          0,
          0,
          0,
          0,
          0,
          0,
          0,
          0
         ]
        },
        {
         "name": "hard",
         "type": "bar",
         "visible": false,
         "x": [
          0,
          1,
          2,
          3,
          4,
          5,
          6,
          7,
          8,
          9
         ],
         "y": [
          0,
          0,
          0,
          0,
          0,
          0,
          0,
          0,
          0,
          0
         ]
        },
        {
         "name": "hard",
         "type": "bar",
         "visible": false,
         "x": [
          0,
          1,
          2,
          3,
          4,
          5,
          6,
          7,
          8,
          9
         ],
         "y": [
          0,
          0,
          0,
          0,
          0,
          0,
          0,
          0,
          0,
          0
         ]
        },
        {
         "name": "hard",
         "type": "bar",
         "visible": false,
         "x": [
          0,
          1,
          2,
          3,
          4,
          5,
          6,
          7,
          8,
          9
         ],
         "y": [
          0,
          0,
          0,
          0,
          0,
          0,
          0,
          0,
          0,
          0
         ]
        },
        {
         "name": "hard",
         "type": "bar",
         "visible": false,
         "x": [
          0,
          1,
          2,
          3,
          4,
          5,
          6,
          7,
          8,
          9
         ],
         "y": [
          0,
          0,
          0,
          0,
          0,
          0,
          0,
          0,
          0,
          0
         ]
        },
        {
         "name": "hard",
         "type": "bar",
         "visible": false,
         "x": [
          0,
          1,
          2,
          3,
          4,
          5,
          6,
          7,
          8,
          9
         ],
         "y": [
          0,
          0,
          0,
          0,
          0,
          0,
          0,
          0,
          0,
          0
         ]
        },
        {
         "name": "hard",
         "type": "bar",
         "visible": false,
         "x": [
          0,
          1,
          2,
          3,
          4,
          5,
          6,
          7,
          8,
          9
         ],
         "y": [
          0,
          0,
          0,
          0,
          0,
          0,
          0,
          0,
          0,
          0
         ]
        },
        {
         "name": "hard",
         "type": "bar",
         "visible": false,
         "x": [
          0,
          1,
          2,
          3,
          4,
          5,
          6,
          7,
          8,
          9
         ],
         "y": [
          0,
          0,
          0,
          0,
          0,
          0,
          0,
          0,
          0,
          0
         ]
        },
        {
         "name": "soft",
         "type": "bar",
         "visible": true,
         "x": [
          0,
          1,
          2,
          3,
          4,
          5,
          6,
          7,
          8,
          9
         ],
         "y": [
          20,
          20,
          14,
          16,
          18,
          20,
          20,
          19,
          21,
          19
         ]
        },
        {
         "name": "soft",
         "type": "bar",
         "visible": false,
         "x": [
          0,
          1,
          2,
          3,
          4,
          5,
          6,
          7,
          8,
          9
         ],
         "y": [
          19,
          21,
          19,
          16,
          19,
          20,
          19,
          18,
          16,
          18
         ]
        },
        {
         "name": "soft",
         "type": "bar",
         "visible": false,
         "x": [
          0,
          1,
          2,
          3,
          4,
          5,
          6,
          7,
          8,
          9
         ],
         "y": [
          22,
          15,
          18,
          17,
          20,
          18,
          15,
          15,
          17,
          20
         ]
        },
        {
         "name": "soft",
         "type": "bar",
         "visible": false,
         "x": [
          0,
          1,
          2,
          3,
          4,
          5,
          6,
          7,
          8,
          9
         ],
         "y": [
          20,
          18,
          20,
          21,
          14,
          18,
          17,
          15,
          19,
          20
         ]
        },
        {
         "name": "soft",
         "type": "bar",
         "visible": false,
         "x": [
          0,
          1,
          2,
          3,
          4,
          5,
          6,
          7,
          8,
          9
         ],
         "y": [
          15,
          18,
          14,
          20,
          19,
          18,
          20,
          19,
          17,
          14
         ]
        },
        {
         "name": "soft",
         "type": "bar",
         "visible": false,
         "x": [
          0,
          1,
          2,
          3,
          4,
          5,
          6,
          7,
          8,
          9
         ],
         "y": [
          18,
          14,
          14,
          14,
          14,
          14,
          18,
          14,
          14,
          14
         ]
        },
        {
         "name": "soft",
         "type": "bar",
         "visible": false,
         "x": [
          0,
          1,
          2,
          3,
          4,
          5,
          6,
          7,
          8,
          9
         ],
         "y": [
          14,
          14,
          14,
          14,
          14,
          14,
          14,
          14,
          14,
          14
         ]
        },
        {
         "name": "soft",
         "type": "bar",
         "visible": false,
         "x": [
          0,
          1,
          2,
          3,
          4,
          5,
          6,
          7,
          8,
          9
         ],
         "y": [
          14,
          14,
          14,
          14,
          14,
          14,
          14,
          14,
          14,
          14
         ]
        },
        {
         "name": "soft",
         "type": "bar",
         "visible": false,
         "x": [
          0,
          1,
          2,
          3,
          4,
          5,
          6,
          7,
          8,
          9
         ],
         "y": [
          14,
          14,
          14,
          14,
          14,
          14,
          14,
          14,
          14,
          14
         ]
        },
        {
         "name": "soft",
         "type": "bar",
         "visible": false,
         "x": [
          0,
          1,
          2,
          3,
          4,
          5,
          6,
          7,
          8,
          9
         ],
         "y": [
          14,
          14,
          14,
          14,
          14,
          14,
          14,
          14,
          14,
          14
         ]
        },
        {
         "name": "soft",
         "type": "bar",
         "visible": false,
         "x": [
          0,
          1,
          2,
          3,
          4,
          5,
          6,
          7,
          8,
          9
         ],
         "y": [
          14,
          14,
          14,
          14,
          14,
          14,
          14,
          14,
          14,
          14
         ]
        },
        {
         "name": "soft",
         "type": "bar",
         "visible": false,
         "x": [
          0,
          1,
          2,
          3,
          4,
          5,
          6,
          7,
          8,
          9
         ],
         "y": [
          14,
          14,
          14,
          14,
          14,
          14,
          14,
          14,
          14,
          14
         ]
        },
        {
         "name": "soft",
         "type": "bar",
         "visible": false,
         "x": [
          0,
          1,
          2,
          3,
          4,
          5,
          6,
          7,
          8,
          9
         ],
         "y": [
          14,
          14,
          14,
          14,
          14,
          14,
          14,
          14,
          14,
          14
         ]
        },
        {
         "name": "soft",
         "type": "bar",
         "visible": false,
         "x": [
          0,
          1,
          2,
          3,
          4,
          5,
          6,
          7,
          8,
          9
         ],
         "y": [
          14,
          14,
          14,
          14,
          14,
          14,
          14,
          14,
          14,
          14
         ]
        },
        {
         "name": "soft",
         "type": "bar",
         "visible": false,
         "x": [
          0,
          1,
          2,
          3,
          4,
          5,
          6,
          7,
          8,
          9
         ],
         "y": [
          14,
          14,
          14,
          14,
          14,
          14,
          14,
          14,
          14,
          14
         ]
        },
        {
         "name": "soft",
         "type": "bar",
         "visible": false,
         "x": [
          0,
          1,
          2,
          3,
          4,
          5,
          6,
          7,
          8,
          9
         ],
         "y": [
          14,
          14,
          14,
          14,
          14,
          14,
          14,
          14,
          14,
          14
         ]
        },
        {
         "name": "soft",
         "type": "bar",
         "visible": false,
         "x": [
          0,
          1,
          2,
          3,
          4,
          5,
          6,
          7,
          8,
          9
         ],
         "y": [
          14,
          14,
          14,
          14,
          14,
          14,
          14,
          14,
          14,
          14
         ]
        },
        {
         "name": "soft",
         "type": "bar",
         "visible": false,
         "x": [
          0,
          1,
          2,
          3,
          4,
          5,
          6,
          7,
          8,
          9
         ],
         "y": [
          14,
          14,
          14,
          14,
          14,
          14,
          14,
          14,
          14,
          14
         ]
        },
        {
         "name": "soft",
         "type": "bar",
         "visible": false,
         "x": [
          0,
          1,
          2,
          3,
          4,
          5,
          6,
          7,
          8,
          9
         ],
         "y": [
          14,
          14,
          14,
          14,
          14,
          14,
          14,
          14,
          14,
          14
         ]
        },
        {
         "name": "soft",
         "type": "bar",
         "visible": false,
         "x": [
          0,
          1,
          2,
          3,
          4,
          5,
          6,
          7,
          8,
          9
         ],
         "y": [
          14,
          14,
          14,
          14,
          14,
          14,
          14,
          14,
          14,
          14
         ]
        }
       ],
       "layout": {
        "barmode": "group",
        "showlegend": true,
        "sliders": [
         {
          "active": 0,
          "currentvalue": {
           "prefix": "Generacija: "
          },
          "pad": {
           "t": 50
          },
          "steps": [
           {
            "args": [
             {
              "visible": [
               true,
               false,
               false,
               false,
               false,
               false,
               false,
               false,
               false,
               false,
               false,
               false,
               false,
               false,
               false,
               false,
               false,
               false,
               false,
               false,
               true,
               false,
               false,
               false,
               false,
               false,
               false,
               false,
               false,
               false,
               false,
               false,
               false,
               false,
               false,
               false,
               false,
               false,
               false,
               false
              ]
             },
             {
              "title.text": "Fitness populacija 1. generacije"
             }
            ],
            "label": "1. gen",
            "method": "update"
           },
           {
            "args": [
             {
              "visible": [
               false,
               true,
               false,
               false,
               false,
               false,
               false,
               false,
               false,
               false,
               false,
               false,
               false,
               false,
               false,
               false,
               false,
               false,
               false,
               false,
               false,
               true,
               false,
               false,
               false,
               false,
               false,
               false,
               false,
               false,
               false,
               false,
               false,
               false,
               false,
               false,
               false,
               false,
               false,
               false
              ]
             },
             {
              "title.text": "Fitness populacija 2. generacije"
             }
            ],
            "label": "2. gen",
            "method": "update"
           },
           {
            "args": [
             {
              "visible": [
               false,
               false,
               true,
               false,
               false,
               false,
               false,
               false,
               false,
               false,
               false,
               false,
               false,
               false,
               false,
               false,
               false,
               false,
               false,
               false,
               false,
               false,
               true,
               false,
               false,
               false,
               false,
               false,
               false,
               false,
               false,
               false,
               false,
               false,
               false,
               false,
               false,
               false,
               false,
               false
              ]
             },
             {
              "title.text": "Fitness populacija 3. generacije"
             }
            ],
            "label": "3. gen",
            "method": "update"
           },
           {
            "args": [
             {
              "visible": [
               false,
               false,
               false,
               true,
               false,
               false,
               false,
               false,
               false,
               false,
               false,
               false,
               false,
               false,
               false,
               false,
               false,
               false,
               false,
               false,
               false,
               false,
               false,
               true,
               false,
               false,
               false,
               false,
               false,
               false,
               false,
               false,
               false,
               false,
               false,
               false,
               false,
               false,
               false,
               false
              ]
             },
             {
              "title.text": "Fitness populacija 4. generacije"
             }
            ],
            "label": "4. gen",
            "method": "update"
           },
           {
            "args": [
             {
              "visible": [
               false,
               false,
               false,
               false,
               true,
               false,
               false,
               false,
               false,
               false,
               false,
               false,
               false,
               false,
               false,
               false,
               false,
               false,
               false,
               false,
               false,
               false,
               false,
               false,
               true,
               false,
               false,
               false,
               false,
               false,
               false,
               false,
               false,
               false,
               false,
               false,
               false,
               false,
               false,
               false
              ]
             },
             {
              "title.text": "Fitness populacija 5. generacije"
             }
            ],
            "label": "5. gen",
            "method": "update"
           },
           {
            "args": [
             {
              "visible": [
               false,
               false,
               false,
               false,
               false,
               true,
               false,
               false,
               false,
               false,
               false,
               false,
               false,
               false,
               false,
               false,
               false,
               false,
               false,
               false,
               false,
               false,
               false,
               false,
               false,
               true,
               false,
               false,
               false,
               false,
               false,
               false,
               false,
               false,
               false,
               false,
               false,
               false,
               false,
               false
              ]
             },
             {
              "title.text": "Fitness populacija 6. generacije"
             }
            ],
            "label": "6. gen",
            "method": "update"
           },
           {
            "args": [
             {
              "visible": [
               false,
               false,
               false,
               false,
               false,
               false,
               true,
               false,
               false,
               false,
               false,
               false,
               false,
               false,
               false,
               false,
               false,
               false,
               false,
               false,
               false,
               false,
               false,
               false,
               false,
               false,
               true,
               false,
               false,
               false,
               false,
               false,
               false,
               false,
               false,
               false,
               false,
               false,
               false,
               false
              ]
             },
             {
              "title.text": "Fitness populacija 7. generacije"
             }
            ],
            "label": "7. gen",
            "method": "update"
           },
           {
            "args": [
             {
              "visible": [
               false,
               false,
               false,
               false,
               false,
               false,
               false,
               true,
               false,
               false,
               false,
               false,
               false,
               false,
               false,
               false,
               false,
               false,
               false,
               false,
               false,
               false,
               false,
               false,
               false,
               false,
               false,
               true,
               false,
               false,
               false,
               false,
               false,
               false,
               false,
               false,
               false,
               false,
               false,
               false
              ]
             },
             {
              "title.text": "Fitness populacija 8. generacije"
             }
            ],
            "label": "8. gen",
            "method": "update"
           },
           {
            "args": [
             {
              "visible": [
               false,
               false,
               false,
               false,
               false,
               false,
               false,
               false,
               true,
               false,
               false,
               false,
               false,
               false,
               false,
               false,
               false,
               false,
               false,
               false,
               false,
               false,
               false,
               false,
               false,
               false,
               false,
               false,
               true,
               false,
               false,
               false,
               false,
               false,
               false,
               false,
               false,
               false,
               false,
               false
              ]
             },
             {
              "title.text": "Fitness populacija 9. generacije"
             }
            ],
            "label": "9. gen",
            "method": "update"
           },
           {
            "args": [
             {
              "visible": [
               false,
               false,
               false,
               false,
               false,
               false,
               false,
               false,
               false,
               true,
               false,
               false,
               false,
               false,
               false,
               false,
               false,
               false,
               false,
               false,
               false,
               false,
               false,
               false,
               false,
               false,
               false,
               false,
               false,
               true,
               false,
               false,
               false,
               false,
               false,
               false,
               false,
               false,
               false,
               false
              ]
             },
             {
              "title.text": "Fitness populacija 10. generacije"
             }
            ],
            "label": "10. gen",
            "method": "update"
           },
           {
            "args": [
             {
              "visible": [
               false,
               false,
               false,
               false,
               false,
               false,
               false,
               false,
               false,
               false,
               true,
               false,
               false,
               false,
               false,
               false,
               false,
               false,
               false,
               false,
               false,
               false,
               false,
               false,
               false,
               false,
               false,
               false,
               false,
               false,
               true,
               false,
               false,
               false,
               false,
               false,
               false,
               false,
               false,
               false
              ]
             },
             {
              "title.text": "Fitness populacija 11. generacije"
             }
            ],
            "label": "11. gen",
            "method": "update"
           },
           {
            "args": [
             {
              "visible": [
               false,
               false,
               false,
               false,
               false,
               false,
               false,
               false,
               false,
               false,
               false,
               true,
               false,
               false,
               false,
               false,
               false,
               false,
               false,
               false,
               false,
               false,
               false,
               false,
               false,
               false,
               false,
               false,
               false,
               false,
               false,
               true,
               false,
               false,
               false,
               false,
               false,
               false,
               false,
               false
              ]
             },
             {
              "title.text": "Fitness populacija 12. generacije"
             }
            ],
            "label": "12. gen",
            "method": "update"
           },
           {
            "args": [
             {
              "visible": [
               false,
               false,
               false,
               false,
               false,
               false,
               false,
               false,
               false,
               false,
               false,
               false,
               true,
               false,
               false,
               false,
               false,
               false,
               false,
               false,
               false,
               false,
               false,
               false,
               false,
               false,
               false,
               false,
               false,
               false,
               false,
               false,
               true,
               false,
               false,
               false,
               false,
               false,
               false,
               false
              ]
             },
             {
              "title.text": "Fitness populacija 13. generacije"
             }
            ],
            "label": "13. gen",
            "method": "update"
           },
           {
            "args": [
             {
              "visible": [
               false,
               false,
               false,
               false,
               false,
               false,
               false,
               false,
               false,
               false,
               false,
               false,
               false,
               true,
               false,
               false,
               false,
               false,
               false,
               false,
               false,
               false,
               false,
               false,
               false,
               false,
               false,
               false,
               false,
               false,
               false,
               false,
               false,
               true,
               false,
               false,
               false,
               false,
               false,
               false
              ]
             },
             {
              "title.text": "Fitness populacija 14. generacije"
             }
            ],
            "label": "14. gen",
            "method": "update"
           },
           {
            "args": [
             {
              "visible": [
               false,
               false,
               false,
               false,
               false,
               false,
               false,
               false,
               false,
               false,
               false,
               false,
               false,
               false,
               true,
               false,
               false,
               false,
               false,
               false,
               false,
               false,
               false,
               false,
               false,
               false,
               false,
               false,
               false,
               false,
               false,
               false,
               false,
               false,
               true,
               false,
               false,
               false,
               false,
               false
              ]
             },
             {
              "title.text": "Fitness populacija 15. generacije"
             }
            ],
            "label": "15. gen",
            "method": "update"
           },
           {
            "args": [
             {
              "visible": [
               false,
               false,
               false,
               false,
               false,
               false,
               false,
               false,
               false,
               false,
               false,
               false,
               false,
               false,
               false,
               true,
               false,
               false,
               false,
               false,
               false,
               false,
               false,
               false,
               false,
               false,
               false,
               false,
               false,
               false,
               false,
               false,
               false,
               false,
               false,
               true,
               false,
               false,
               false,
               false
              ]
             },
             {
              "title.text": "Fitness populacija 16. generacije"
             }
            ],
            "label": "16. gen",
            "method": "update"
           },
           {
            "args": [
             {
              "visible": [
               false,
               false,
               false,
               false,
               false,
               false,
               false,
               false,
               false,
               false,
               false,
               false,
               false,
               false,
               false,
               false,
               true,
               false,
               false,
               false,
               false,
               false,
               false,
               false,
               false,
               false,
               false,
               false,
               false,
               false,
               false,
               false,
               false,
               false,
               false,
               false,
               true,
               false,
               false,
               false
              ]
             },
             {
              "title.text": "Fitness populacija 17. generacije"
             }
            ],
            "label": "17. gen",
            "method": "update"
           },
           {
            "args": [
             {
              "visible": [
               false,
               false,
               false,
               false,
               false,
               false,
               false,
               false,
               false,
               false,
               false,
               false,
               false,
               false,
               false,
               false,
               false,
               true,
               false,
               false,
               false,
               false,
               false,
               false,
               false,
               false,
               false,
               false,
               false,
               false,
               false,
               false,
               false,
               false,
               false,
               false,
               false,
               true,
               false,
               false
              ]
             },
             {
              "title.text": "Fitness populacija 18. generacije"
             }
            ],
            "label": "18. gen",
            "method": "update"
           },
           {
            "args": [
             {
              "visible": [
               false,
               false,
               false,
               false,
               false,
               false,
               false,
               false,
               false,
               false,
               false,
               false,
               false,
               false,
               false,
               false,
               false,
               false,
               true,
               false,
               false,
               false,
               false,
               false,
               false,
               false,
               false,
               false,
               false,
               false,
               false,
               false,
               false,
               false,
               false,
               false,
               false,
               false,
               true,
               false
              ]
             },
             {
              "title.text": "Fitness populacija 19. generacije"
             }
            ],
            "label": "19. gen",
            "method": "update"
           },
           {
            "args": [
             {
              "visible": [
               false,
               false,
               false,
               false,
               false,
               false,
               false,
               false,
               false,
               false,
               false,
               false,
               false,
               false,
               false,
               false,
               false,
               false,
               false,
               true,
               false,
               false,
               false,
               false,
               false,
               false,
               false,
               false,
               false,
               false,
               false,
               false,
               false,
               false,
               false,
               false,
               false,
               false,
               false,
               true
              ]
             },
             {
              "title.text": "Fitness populacija 20. generacije"
             }
            ],
            "label": "20. gen",
            "method": "update"
           }
          ],
          "transition": {
           "easing": "bounce-in-out"
          }
         }
        ],
        "template": {
         "data": {
          "bar": [
           {
            "error_x": {
             "color": "#2a3f5f"
            },
            "error_y": {
             "color": "#2a3f5f"
            },
            "marker": {
             "line": {
              "color": "#E5ECF6",
              "width": 0.5
             }
            },
            "type": "bar"
           }
          ],
          "barpolar": [
           {
            "marker": {
             "line": {
              "color": "#E5ECF6",
              "width": 0.5
             }
            },
            "type": "barpolar"
           }
          ],
          "carpet": [
           {
            "aaxis": {
             "endlinecolor": "#2a3f5f",
             "gridcolor": "white",
             "linecolor": "white",
             "minorgridcolor": "white",
             "startlinecolor": "#2a3f5f"
            },
            "baxis": {
             "endlinecolor": "#2a3f5f",
             "gridcolor": "white",
             "linecolor": "white",
             "minorgridcolor": "white",
             "startlinecolor": "#2a3f5f"
            },
            "type": "carpet"
           }
          ],
          "choropleth": [
           {
            "colorbar": {
             "outlinewidth": 0,
             "ticks": ""
            },
            "type": "choropleth"
           }
          ],
          "contour": [
           {
            "colorbar": {
             "outlinewidth": 0,
             "ticks": ""
            },
            "colorscale": [
             [
              0,
              "#0d0887"
             ],
             [
              0.1111111111111111,
              "#46039f"
             ],
             [
              0.2222222222222222,
              "#7201a8"
             ],
             [
              0.3333333333333333,
              "#9c179e"
             ],
             [
              0.4444444444444444,
              "#bd3786"
             ],
             [
              0.5555555555555556,
              "#d8576b"
             ],
             [
              0.6666666666666666,
              "#ed7953"
             ],
             [
              0.7777777777777778,
              "#fb9f3a"
             ],
             [
              0.8888888888888888,
              "#fdca26"
             ],
             [
              1,
              "#f0f921"
             ]
            ],
            "type": "contour"
           }
          ],
          "contourcarpet": [
           {
            "colorbar": {
             "outlinewidth": 0,
             "ticks": ""
            },
            "type": "contourcarpet"
           }
          ],
          "heatmap": [
           {
            "colorbar": {
             "outlinewidth": 0,
             "ticks": ""
            },
            "colorscale": [
             [
              0,
              "#0d0887"
             ],
             [
              0.1111111111111111,
              "#46039f"
             ],
             [
              0.2222222222222222,
              "#7201a8"
             ],
             [
              0.3333333333333333,
              "#9c179e"
             ],
             [
              0.4444444444444444,
              "#bd3786"
             ],
             [
              0.5555555555555556,
              "#d8576b"
             ],
             [
              0.6666666666666666,
              "#ed7953"
             ],
             [
              0.7777777777777778,
              "#fb9f3a"
             ],
             [
              0.8888888888888888,
              "#fdca26"
             ],
             [
              1,
              "#f0f921"
             ]
            ],
            "type": "heatmap"
           }
          ],
          "heatmapgl": [
           {
            "colorbar": {
             "outlinewidth": 0,
             "ticks": ""
            },
            "colorscale": [
             [
              0,
              "#0d0887"
             ],
             [
              0.1111111111111111,
              "#46039f"
             ],
             [
              0.2222222222222222,
              "#7201a8"
             ],
             [
              0.3333333333333333,
              "#9c179e"
             ],
             [
              0.4444444444444444,
              "#bd3786"
             ],
             [
              0.5555555555555556,
              "#d8576b"
             ],
             [
              0.6666666666666666,
              "#ed7953"
             ],
             [
              0.7777777777777778,
              "#fb9f3a"
             ],
             [
              0.8888888888888888,
              "#fdca26"
             ],
             [
              1,
              "#f0f921"
             ]
            ],
            "type": "heatmapgl"
           }
          ],
          "histogram": [
           {
            "marker": {
             "colorbar": {
              "outlinewidth": 0,
              "ticks": ""
             }
            },
            "type": "histogram"
           }
          ],
          "histogram2d": [
           {
            "colorbar": {
             "outlinewidth": 0,
             "ticks": ""
            },
            "colorscale": [
             [
              0,
              "#0d0887"
             ],
             [
              0.1111111111111111,
              "#46039f"
             ],
             [
              0.2222222222222222,
              "#7201a8"
             ],
             [
              0.3333333333333333,
              "#9c179e"
             ],
             [
              0.4444444444444444,
              "#bd3786"
             ],
             [
              0.5555555555555556,
              "#d8576b"
             ],
             [
              0.6666666666666666,
              "#ed7953"
             ],
             [
              0.7777777777777778,
              "#fb9f3a"
             ],
             [
              0.8888888888888888,
              "#fdca26"
             ],
             [
              1,
              "#f0f921"
             ]
            ],
            "type": "histogram2d"
           }
          ],
          "histogram2dcontour": [
           {
            "colorbar": {
             "outlinewidth": 0,
             "ticks": ""
            },
            "colorscale": [
             [
              0,
              "#0d0887"
             ],
             [
              0.1111111111111111,
              "#46039f"
             ],
             [
              0.2222222222222222,
              "#7201a8"
             ],
             [
              0.3333333333333333,
              "#9c179e"
             ],
             [
              0.4444444444444444,
              "#bd3786"
             ],
             [
              0.5555555555555556,
              "#d8576b"
             ],
             [
              0.6666666666666666,
              "#ed7953"
             ],
             [
              0.7777777777777778,
              "#fb9f3a"
             ],
             [
              0.8888888888888888,
              "#fdca26"
             ],
             [
              1,
              "#f0f921"
             ]
            ],
            "type": "histogram2dcontour"
           }
          ],
          "mesh3d": [
           {
            "colorbar": {
             "outlinewidth": 0,
             "ticks": ""
            },
            "type": "mesh3d"
           }
          ],
          "parcoords": [
           {
            "line": {
             "colorbar": {
              "outlinewidth": 0,
              "ticks": ""
             }
            },
            "type": "parcoords"
           }
          ],
          "pie": [
           {
            "automargin": true,
            "type": "pie"
           }
          ],
          "scatter": [
           {
            "marker": {
             "colorbar": {
              "outlinewidth": 0,
              "ticks": ""
             }
            },
            "type": "scatter"
           }
          ],
          "scatter3d": [
           {
            "line": {
             "colorbar": {
              "outlinewidth": 0,
              "ticks": ""
             }
            },
            "marker": {
             "colorbar": {
              "outlinewidth": 0,
              "ticks": ""
             }
            },
            "type": "scatter3d"
           }
          ],
          "scattercarpet": [
           {
            "marker": {
             "colorbar": {
              "outlinewidth": 0,
              "ticks": ""
             }
            },
            "type": "scattercarpet"
           }
          ],
          "scattergeo": [
           {
            "marker": {
             "colorbar": {
              "outlinewidth": 0,
              "ticks": ""
             }
            },
            "type": "scattergeo"
           }
          ],
          "scattergl": [
           {
            "marker": {
             "colorbar": {
              "outlinewidth": 0,
              "ticks": ""
             }
            },
            "type": "scattergl"
           }
          ],
          "scattermapbox": [
           {
            "marker": {
             "colorbar": {
              "outlinewidth": 0,
              "ticks": ""
             }
            },
            "type": "scattermapbox"
           }
          ],
          "scatterpolar": [
           {
            "marker": {
             "colorbar": {
              "outlinewidth": 0,
              "ticks": ""
             }
            },
            "type": "scatterpolar"
           }
          ],
          "scatterpolargl": [
           {
            "marker": {
             "colorbar": {
              "outlinewidth": 0,
              "ticks": ""
             }
            },
            "type": "scatterpolargl"
           }
          ],
          "scatterternary": [
           {
            "marker": {
             "colorbar": {
              "outlinewidth": 0,
              "ticks": ""
             }
            },
            "type": "scatterternary"
           }
          ],
          "surface": [
           {
            "colorbar": {
             "outlinewidth": 0,
             "ticks": ""
            },
            "colorscale": [
             [
              0,
              "#0d0887"
             ],
             [
              0.1111111111111111,
              "#46039f"
             ],
             [
              0.2222222222222222,
              "#7201a8"
             ],
             [
              0.3333333333333333,
              "#9c179e"
             ],
             [
              0.4444444444444444,
              "#bd3786"
             ],
             [
              0.5555555555555556,
              "#d8576b"
             ],
             [
              0.6666666666666666,
              "#ed7953"
             ],
             [
              0.7777777777777778,
              "#fb9f3a"
             ],
             [
              0.8888888888888888,
              "#fdca26"
             ],
             [
              1,
              "#f0f921"
             ]
            ],
            "type": "surface"
           }
          ],
          "table": [
           {
            "cells": {
             "fill": {
              "color": "#EBF0F8"
             },
             "line": {
              "color": "white"
             }
            },
            "header": {
             "fill": {
              "color": "#C8D4E3"
             },
             "line": {
              "color": "white"
             }
            },
            "type": "table"
           }
          ]
         },
         "layout": {
          "annotationdefaults": {
           "arrowcolor": "#2a3f5f",
           "arrowhead": 0,
           "arrowwidth": 1
          },
          "coloraxis": {
           "colorbar": {
            "outlinewidth": 0,
            "ticks": ""
           }
          },
          "colorscale": {
           "diverging": [
            [
             0,
             "#8e0152"
            ],
            [
             0.1,
             "#c51b7d"
            ],
            [
             0.2,
             "#de77ae"
            ],
            [
             0.3,
             "#f1b6da"
            ],
            [
             0.4,
             "#fde0ef"
            ],
            [
             0.5,
             "#f7f7f7"
            ],
            [
             0.6,
             "#e6f5d0"
            ],
            [
             0.7,
             "#b8e186"
            ],
            [
             0.8,
             "#7fbc41"
            ],
            [
             0.9,
             "#4d9221"
            ],
            [
             1,
             "#276419"
            ]
           ],
           "sequential": [
            [
             0,
             "#0d0887"
            ],
            [
             0.1111111111111111,
             "#46039f"
            ],
            [
             0.2222222222222222,
             "#7201a8"
            ],
            [
             0.3333333333333333,
             "#9c179e"
            ],
            [
             0.4444444444444444,
             "#bd3786"
            ],
            [
             0.5555555555555556,
             "#d8576b"
            ],
            [
             0.6666666666666666,
             "#ed7953"
            ],
            [
             0.7777777777777778,
             "#fb9f3a"
            ],
            [
             0.8888888888888888,
             "#fdca26"
            ],
            [
             1,
             "#f0f921"
            ]
           ],
           "sequentialminus": [
            [
             0,
             "#0d0887"
            ],
            [
             0.1111111111111111,
             "#46039f"
            ],
            [
             0.2222222222222222,
             "#7201a8"
            ],
            [
             0.3333333333333333,
             "#9c179e"
            ],
            [
             0.4444444444444444,
             "#bd3786"
            ],
            [
             0.5555555555555556,
             "#d8576b"
            ],
            [
             0.6666666666666666,
             "#ed7953"
            ],
            [
             0.7777777777777778,
             "#fb9f3a"
            ],
            [
             0.8888888888888888,
             "#fdca26"
            ],
            [
             1,
             "#f0f921"
            ]
           ]
          },
          "colorway": [
           "#636efa",
           "#EF553B",
           "#00cc96",
           "#ab63fa",
           "#FFA15A",
           "#19d3f3",
           "#FF6692",
           "#B6E880",
           "#FF97FF",
           "#FECB52"
          ],
          "font": {
           "color": "#2a3f5f"
          },
          "geo": {
           "bgcolor": "white",
           "lakecolor": "white",
           "landcolor": "#E5ECF6",
           "showlakes": true,
           "showland": true,
           "subunitcolor": "white"
          },
          "hoverlabel": {
           "align": "left"
          },
          "hovermode": "closest",
          "mapbox": {
           "style": "light"
          },
          "paper_bgcolor": "white",
          "plot_bgcolor": "#E5ECF6",
          "polar": {
           "angularaxis": {
            "gridcolor": "white",
            "linecolor": "white",
            "ticks": ""
           },
           "bgcolor": "#E5ECF6",
           "radialaxis": {
            "gridcolor": "white",
            "linecolor": "white",
            "ticks": ""
           }
          },
          "scene": {
           "xaxis": {
            "backgroundcolor": "#E5ECF6",
            "gridcolor": "white",
            "gridwidth": 2,
            "linecolor": "white",
            "showbackground": true,
            "ticks": "",
            "zerolinecolor": "white"
           },
           "yaxis": {
            "backgroundcolor": "#E5ECF6",
            "gridcolor": "white",
            "gridwidth": 2,
            "linecolor": "white",
            "showbackground": true,
            "ticks": "",
            "zerolinecolor": "white"
           },
           "zaxis": {
            "backgroundcolor": "#E5ECF6",
            "gridcolor": "white",
            "gridwidth": 2,
            "linecolor": "white",
            "showbackground": true,
            "ticks": "",
            "zerolinecolor": "white"
           }
          },
          "shapedefaults": {
           "line": {
            "color": "#2a3f5f"
           }
          },
          "ternary": {
           "aaxis": {
            "gridcolor": "white",
            "linecolor": "white",
            "ticks": ""
           },
           "baxis": {
            "gridcolor": "white",
            "linecolor": "white",
            "ticks": ""
           },
           "bgcolor": "#E5ECF6",
           "caxis": {
            "gridcolor": "white",
            "linecolor": "white",
            "ticks": ""
           }
          },
          "title": {
           "x": 0.05
          },
          "xaxis": {
           "automargin": true,
           "gridcolor": "white",
           "linecolor": "white",
           "ticks": "",
           "title": {
            "standoff": 15
           },
           "zerolinecolor": "white",
           "zerolinewidth": 2
          },
          "yaxis": {
           "automargin": true,
           "gridcolor": "white",
           "linecolor": "white",
           "ticks": "",
           "title": {
            "standoff": 15
           },
           "zerolinecolor": "white",
           "zerolinewidth": 2
          }
         }
        },
        "title": {
         "text": "Broj narušenih ograničenja 1. generacije"
        },
        "xaxis": {
         "title": {
          "text": "Jedinke generacija"
         },
         "type": "category"
        },
        "yaxis": {
         "title": {
          "text": "Broj narušenih ograničenja"
         }
        }
       }
      },
      "text/html": [
       "<div>\n",
       "        \n",
       "        \n",
       "            <div id=\"905e2384-ad9c-4eee-a5ea-829204c5807b\" class=\"plotly-graph-div\" style=\"height:525px; width:100%;\"></div>\n",
       "            <script type=\"text/javascript\">\n",
       "                require([\"plotly\"], function(Plotly) {\n",
       "                    window.PLOTLYENV=window.PLOTLYENV || {};\n",
       "                    \n",
       "                if (document.getElementById(\"905e2384-ad9c-4eee-a5ea-829204c5807b\")) {\n",
       "                    Plotly.newPlot(\n",
       "                        '905e2384-ad9c-4eee-a5ea-829204c5807b',\n",
       "                        [{\"name\": \"hard\", \"type\": \"bar\", \"visible\": true, \"x\": [0, 1, 2, 3, 4, 5, 6, 7, 8, 9], \"y\": [5, 0, 2, 1, 4, 3, 1, 2, 2, 1]}, {\"name\": \"hard\", \"type\": \"bar\", \"visible\": false, \"x\": [0, 1, 2, 3, 4, 5, 6, 7, 8, 9], \"y\": [4, 1, 1, 1, 1, 1, 0, 2, 0, 1]}, {\"name\": \"hard\", \"type\": \"bar\", \"visible\": false, \"x\": [0, 1, 2, 3, 4, 5, 6, 7, 8, 9], \"y\": [1, 1, 2, 1, 1, 0, 1, 1, 2, 1]}, {\"name\": \"hard\", \"type\": \"bar\", \"visible\": false, \"x\": [0, 1, 2, 3, 4, 5, 6, 7, 8, 9], \"y\": [3, 2, 1, 1, 0, 2, 1, 1, 1, 0]}, {\"name\": \"hard\", \"type\": \"bar\", \"visible\": false, \"x\": [0, 1, 2, 3, 4, 5, 6, 7, 8, 9], \"y\": [1, 1, 0, 1, 2, 0, 1, 1, 1, 0]}, {\"name\": \"hard\", \"type\": \"bar\", \"visible\": false, \"x\": [0, 1, 2, 3, 4, 5, 6, 7, 8, 9], \"y\": [1, 1, 0, 0, 0, 0, 0, 0, 0, 0]}, {\"name\": \"hard\", \"type\": \"bar\", \"visible\": false, \"x\": [0, 1, 2, 3, 4, 5, 6, 7, 8, 9], \"y\": [0, 0, 0, 0, 0, 0, 0, 0, 0, 0]}, {\"name\": \"hard\", \"type\": \"bar\", \"visible\": false, \"x\": [0, 1, 2, 3, 4, 5, 6, 7, 8, 9], \"y\": [0, 0, 0, 0, 0, 0, 0, 0, 0, 0]}, {\"name\": \"hard\", \"type\": \"bar\", \"visible\": false, \"x\": [0, 1, 2, 3, 4, 5, 6, 7, 8, 9], \"y\": [0, 0, 0, 0, 0, 0, 0, 0, 0, 0]}, {\"name\": \"hard\", \"type\": \"bar\", \"visible\": false, \"x\": [0, 1, 2, 3, 4, 5, 6, 7, 8, 9], \"y\": [0, 0, 0, 0, 0, 0, 0, 0, 0, 0]}, {\"name\": \"hard\", \"type\": \"bar\", \"visible\": false, \"x\": [0, 1, 2, 3, 4, 5, 6, 7, 8, 9], \"y\": [0, 0, 0, 0, 0, 0, 0, 0, 0, 0]}, {\"name\": \"hard\", \"type\": \"bar\", \"visible\": false, \"x\": [0, 1, 2, 3, 4, 5, 6, 7, 8, 9], \"y\": [0, 0, 0, 0, 0, 0, 0, 0, 0, 0]}, {\"name\": \"hard\", \"type\": \"bar\", \"visible\": false, \"x\": [0, 1, 2, 3, 4, 5, 6, 7, 8, 9], \"y\": [0, 0, 0, 0, 0, 0, 0, 0, 0, 0]}, {\"name\": \"hard\", \"type\": \"bar\", \"visible\": false, \"x\": [0, 1, 2, 3, 4, 5, 6, 7, 8, 9], \"y\": [0, 0, 0, 0, 0, 0, 0, 0, 0, 0]}, {\"name\": \"hard\", \"type\": \"bar\", \"visible\": false, \"x\": [0, 1, 2, 3, 4, 5, 6, 7, 8, 9], \"y\": [0, 0, 0, 0, 0, 0, 0, 0, 0, 0]}, {\"name\": \"hard\", \"type\": \"bar\", \"visible\": false, \"x\": [0, 1, 2, 3, 4, 5, 6, 7, 8, 9], \"y\": [0, 0, 0, 0, 0, 0, 0, 0, 0, 0]}, {\"name\": \"hard\", \"type\": \"bar\", \"visible\": false, \"x\": [0, 1, 2, 3, 4, 5, 6, 7, 8, 9], \"y\": [0, 0, 0, 0, 0, 0, 0, 0, 0, 0]}, {\"name\": \"hard\", \"type\": \"bar\", \"visible\": false, \"x\": [0, 1, 2, 3, 4, 5, 6, 7, 8, 9], \"y\": [0, 0, 0, 0, 0, 0, 0, 0, 0, 0]}, {\"name\": \"hard\", \"type\": \"bar\", \"visible\": false, \"x\": [0, 1, 2, 3, 4, 5, 6, 7, 8, 9], \"y\": [0, 0, 0, 0, 0, 0, 0, 0, 0, 0]}, {\"name\": \"hard\", \"type\": \"bar\", \"visible\": false, \"x\": [0, 1, 2, 3, 4, 5, 6, 7, 8, 9], \"y\": [0, 0, 0, 0, 0, 0, 0, 0, 0, 0]}, {\"name\": \"soft\", \"type\": \"bar\", \"visible\": true, \"x\": [0, 1, 2, 3, 4, 5, 6, 7, 8, 9], \"y\": [20, 20, 14, 16, 18, 20, 20, 19, 21, 19]}, {\"name\": \"soft\", \"type\": \"bar\", \"visible\": false, \"x\": [0, 1, 2, 3, 4, 5, 6, 7, 8, 9], \"y\": [19, 21, 19, 16, 19, 20, 19, 18, 16, 18]}, {\"name\": \"soft\", \"type\": \"bar\", \"visible\": false, \"x\": [0, 1, 2, 3, 4, 5, 6, 7, 8, 9], \"y\": [22, 15, 18, 17, 20, 18, 15, 15, 17, 20]}, {\"name\": \"soft\", \"type\": \"bar\", \"visible\": false, \"x\": [0, 1, 2, 3, 4, 5, 6, 7, 8, 9], \"y\": [20, 18, 20, 21, 14, 18, 17, 15, 19, 20]}, {\"name\": \"soft\", \"type\": \"bar\", \"visible\": false, \"x\": [0, 1, 2, 3, 4, 5, 6, 7, 8, 9], \"y\": [15, 18, 14, 20, 19, 18, 20, 19, 17, 14]}, {\"name\": \"soft\", \"type\": \"bar\", \"visible\": false, \"x\": [0, 1, 2, 3, 4, 5, 6, 7, 8, 9], \"y\": [18, 14, 14, 14, 14, 14, 18, 14, 14, 14]}, {\"name\": \"soft\", \"type\": \"bar\", \"visible\": false, \"x\": [0, 1, 2, 3, 4, 5, 6, 7, 8, 9], \"y\": [14, 14, 14, 14, 14, 14, 14, 14, 14, 14]}, {\"name\": \"soft\", \"type\": \"bar\", \"visible\": false, \"x\": [0, 1, 2, 3, 4, 5, 6, 7, 8, 9], \"y\": [14, 14, 14, 14, 14, 14, 14, 14, 14, 14]}, {\"name\": \"soft\", \"type\": \"bar\", \"visible\": false, \"x\": [0, 1, 2, 3, 4, 5, 6, 7, 8, 9], \"y\": [14, 14, 14, 14, 14, 14, 14, 14, 14, 14]}, {\"name\": \"soft\", \"type\": \"bar\", \"visible\": false, \"x\": [0, 1, 2, 3, 4, 5, 6, 7, 8, 9], \"y\": [14, 14, 14, 14, 14, 14, 14, 14, 14, 14]}, {\"name\": \"soft\", \"type\": \"bar\", \"visible\": false, \"x\": [0, 1, 2, 3, 4, 5, 6, 7, 8, 9], \"y\": [14, 14, 14, 14, 14, 14, 14, 14, 14, 14]}, {\"name\": \"soft\", \"type\": \"bar\", \"visible\": false, \"x\": [0, 1, 2, 3, 4, 5, 6, 7, 8, 9], \"y\": [14, 14, 14, 14, 14, 14, 14, 14, 14, 14]}, {\"name\": \"soft\", \"type\": \"bar\", \"visible\": false, \"x\": [0, 1, 2, 3, 4, 5, 6, 7, 8, 9], \"y\": [14, 14, 14, 14, 14, 14, 14, 14, 14, 14]}, {\"name\": \"soft\", \"type\": \"bar\", \"visible\": false, \"x\": [0, 1, 2, 3, 4, 5, 6, 7, 8, 9], \"y\": [14, 14, 14, 14, 14, 14, 14, 14, 14, 14]}, {\"name\": \"soft\", \"type\": \"bar\", \"visible\": false, \"x\": [0, 1, 2, 3, 4, 5, 6, 7, 8, 9], \"y\": [14, 14, 14, 14, 14, 14, 14, 14, 14, 14]}, {\"name\": \"soft\", \"type\": \"bar\", \"visible\": false, \"x\": [0, 1, 2, 3, 4, 5, 6, 7, 8, 9], \"y\": [14, 14, 14, 14, 14, 14, 14, 14, 14, 14]}, {\"name\": \"soft\", \"type\": \"bar\", \"visible\": false, \"x\": [0, 1, 2, 3, 4, 5, 6, 7, 8, 9], \"y\": [14, 14, 14, 14, 14, 14, 14, 14, 14, 14]}, {\"name\": \"soft\", \"type\": \"bar\", \"visible\": false, \"x\": [0, 1, 2, 3, 4, 5, 6, 7, 8, 9], \"y\": [14, 14, 14, 14, 14, 14, 14, 14, 14, 14]}, {\"name\": \"soft\", \"type\": \"bar\", \"visible\": false, \"x\": [0, 1, 2, 3, 4, 5, 6, 7, 8, 9], \"y\": [14, 14, 14, 14, 14, 14, 14, 14, 14, 14]}, {\"name\": \"soft\", \"type\": \"bar\", \"visible\": false, \"x\": [0, 1, 2, 3, 4, 5, 6, 7, 8, 9], \"y\": [14, 14, 14, 14, 14, 14, 14, 14, 14, 14]}],\n",
       "                        {\"barmode\": \"group\", \"showlegend\": true, \"sliders\": [{\"active\": 0, \"currentvalue\": {\"prefix\": \"Generacija: \"}, \"pad\": {\"t\": 50}, \"steps\": [{\"args\": [{\"visible\": [true, false, false, false, false, false, false, false, false, false, false, false, false, false, false, false, false, false, false, false, true, false, false, false, false, false, false, false, false, false, false, false, false, false, false, false, false, false, false, false]}, {\"title.text\": \"Fitness populacija 1. generacije\"}], \"label\": \"1. gen\", \"method\": \"update\"}, {\"args\": [{\"visible\": [false, true, false, false, false, false, false, false, false, false, false, false, false, false, false, false, false, false, false, false, false, true, false, false, false, false, false, false, false, false, false, false, false, false, false, false, false, false, false, false]}, {\"title.text\": \"Fitness populacija 2. generacije\"}], \"label\": \"2. gen\", \"method\": \"update\"}, {\"args\": [{\"visible\": [false, false, true, false, false, false, false, false, false, false, false, false, false, false, false, false, false, false, false, false, false, false, true, false, false, false, false, false, false, false, false, false, false, false, false, false, false, false, false, false]}, {\"title.text\": \"Fitness populacija 3. generacije\"}], \"label\": \"3. gen\", \"method\": \"update\"}, {\"args\": [{\"visible\": [false, false, false, true, false, false, false, false, false, false, false, false, false, false, false, false, false, false, false, false, false, false, false, true, false, false, false, false, false, false, false, false, false, false, false, false, false, false, false, false]}, {\"title.text\": \"Fitness populacija 4. generacije\"}], \"label\": \"4. gen\", \"method\": \"update\"}, {\"args\": [{\"visible\": [false, false, false, false, true, false, false, false, false, false, false, false, false, false, false, false, false, false, false, false, false, false, false, false, true, false, false, false, false, false, false, false, false, false, false, false, false, false, false, false]}, {\"title.text\": \"Fitness populacija 5. generacije\"}], \"label\": \"5. gen\", \"method\": \"update\"}, {\"args\": [{\"visible\": [false, false, false, false, false, true, false, false, false, false, false, false, false, false, false, false, false, false, false, false, false, false, false, false, false, true, false, false, false, false, false, false, false, false, false, false, false, false, false, false]}, {\"title.text\": \"Fitness populacija 6. generacije\"}], \"label\": \"6. gen\", \"method\": \"update\"}, {\"args\": [{\"visible\": [false, false, false, false, false, false, true, false, false, false, false, false, false, false, false, false, false, false, false, false, false, false, false, false, false, false, true, false, false, false, false, false, false, false, false, false, false, false, false, false]}, {\"title.text\": \"Fitness populacija 7. generacije\"}], \"label\": \"7. gen\", \"method\": \"update\"}, {\"args\": [{\"visible\": [false, false, false, false, false, false, false, true, false, false, false, false, false, false, false, false, false, false, false, false, false, false, false, false, false, false, false, true, false, false, false, false, false, false, false, false, false, false, false, false]}, {\"title.text\": \"Fitness populacija 8. generacije\"}], \"label\": \"8. gen\", \"method\": \"update\"}, {\"args\": [{\"visible\": [false, false, false, false, false, false, false, false, true, false, false, false, false, false, false, false, false, false, false, false, false, false, false, false, false, false, false, false, true, false, false, false, false, false, false, false, false, false, false, false]}, {\"title.text\": \"Fitness populacija 9. generacije\"}], \"label\": \"9. gen\", \"method\": \"update\"}, {\"args\": [{\"visible\": [false, false, false, false, false, false, false, false, false, true, false, false, false, false, false, false, false, false, false, false, false, false, false, false, false, false, false, false, false, true, false, false, false, false, false, false, false, false, false, false]}, {\"title.text\": \"Fitness populacija 10. generacije\"}], \"label\": \"10. gen\", \"method\": \"update\"}, {\"args\": [{\"visible\": [false, false, false, false, false, false, false, false, false, false, true, false, false, false, false, false, false, false, false, false, false, false, false, false, false, false, false, false, false, false, true, false, false, false, false, false, false, false, false, false]}, {\"title.text\": \"Fitness populacija 11. generacije\"}], \"label\": \"11. gen\", \"method\": \"update\"}, {\"args\": [{\"visible\": [false, false, false, false, false, false, false, false, false, false, false, true, false, false, false, false, false, false, false, false, false, false, false, false, false, false, false, false, false, false, false, true, false, false, false, false, false, false, false, false]}, {\"title.text\": \"Fitness populacija 12. generacije\"}], \"label\": \"12. gen\", \"method\": \"update\"}, {\"args\": [{\"visible\": [false, false, false, false, false, false, false, false, false, false, false, false, true, false, false, false, false, false, false, false, false, false, false, false, false, false, false, false, false, false, false, false, true, false, false, false, false, false, false, false]}, {\"title.text\": \"Fitness populacija 13. generacije\"}], \"label\": \"13. gen\", \"method\": \"update\"}, {\"args\": [{\"visible\": [false, false, false, false, false, false, false, false, false, false, false, false, false, true, false, false, false, false, false, false, false, false, false, false, false, false, false, false, false, false, false, false, false, true, false, false, false, false, false, false]}, {\"title.text\": \"Fitness populacija 14. generacije\"}], \"label\": \"14. gen\", \"method\": \"update\"}, {\"args\": [{\"visible\": [false, false, false, false, false, false, false, false, false, false, false, false, false, false, true, false, false, false, false, false, false, false, false, false, false, false, false, false, false, false, false, false, false, false, true, false, false, false, false, false]}, {\"title.text\": \"Fitness populacija 15. generacije\"}], \"label\": \"15. gen\", \"method\": \"update\"}, {\"args\": [{\"visible\": [false, false, false, false, false, false, false, false, false, false, false, false, false, false, false, true, false, false, false, false, false, false, false, false, false, false, false, false, false, false, false, false, false, false, false, true, false, false, false, false]}, {\"title.text\": \"Fitness populacija 16. generacije\"}], \"label\": \"16. gen\", \"method\": \"update\"}, {\"args\": [{\"visible\": [false, false, false, false, false, false, false, false, false, false, false, false, false, false, false, false, true, false, false, false, false, false, false, false, false, false, false, false, false, false, false, false, false, false, false, false, true, false, false, false]}, {\"title.text\": \"Fitness populacija 17. generacije\"}], \"label\": \"17. gen\", \"method\": \"update\"}, {\"args\": [{\"visible\": [false, false, false, false, false, false, false, false, false, false, false, false, false, false, false, false, false, true, false, false, false, false, false, false, false, false, false, false, false, false, false, false, false, false, false, false, false, true, false, false]}, {\"title.text\": \"Fitness populacija 18. generacije\"}], \"label\": \"18. gen\", \"method\": \"update\"}, {\"args\": [{\"visible\": [false, false, false, false, false, false, false, false, false, false, false, false, false, false, false, false, false, false, true, false, false, false, false, false, false, false, false, false, false, false, false, false, false, false, false, false, false, false, true, false]}, {\"title.text\": \"Fitness populacija 19. generacije\"}], \"label\": \"19. gen\", \"method\": \"update\"}, {\"args\": [{\"visible\": [false, false, false, false, false, false, false, false, false, false, false, false, false, false, false, false, false, false, false, true, false, false, false, false, false, false, false, false, false, false, false, false, false, false, false, false, false, false, false, true]}, {\"title.text\": \"Fitness populacija 20. generacije\"}], \"label\": \"20. gen\", \"method\": \"update\"}], \"transition\": {\"easing\": \"bounce-in-out\"}}], \"template\": {\"data\": {\"bar\": [{\"error_x\": {\"color\": \"#2a3f5f\"}, \"error_y\": {\"color\": \"#2a3f5f\"}, \"marker\": {\"line\": {\"color\": \"#E5ECF6\", \"width\": 0.5}}, \"type\": \"bar\"}], \"barpolar\": [{\"marker\": {\"line\": {\"color\": \"#E5ECF6\", \"width\": 0.5}}, \"type\": \"barpolar\"}], \"carpet\": [{\"aaxis\": {\"endlinecolor\": \"#2a3f5f\", \"gridcolor\": \"white\", \"linecolor\": \"white\", \"minorgridcolor\": \"white\", \"startlinecolor\": \"#2a3f5f\"}, \"baxis\": {\"endlinecolor\": \"#2a3f5f\", \"gridcolor\": \"white\", \"linecolor\": \"white\", \"minorgridcolor\": \"white\", \"startlinecolor\": \"#2a3f5f\"}, \"type\": \"carpet\"}], \"choropleth\": [{\"colorbar\": {\"outlinewidth\": 0, \"ticks\": \"\"}, \"type\": \"choropleth\"}], \"contour\": [{\"colorbar\": {\"outlinewidth\": 0, \"ticks\": \"\"}, \"colorscale\": [[0.0, \"#0d0887\"], [0.1111111111111111, \"#46039f\"], [0.2222222222222222, \"#7201a8\"], [0.3333333333333333, \"#9c179e\"], [0.4444444444444444, \"#bd3786\"], [0.5555555555555556, \"#d8576b\"], [0.6666666666666666, \"#ed7953\"], [0.7777777777777778, \"#fb9f3a\"], [0.8888888888888888, \"#fdca26\"], [1.0, \"#f0f921\"]], \"type\": \"contour\"}], \"contourcarpet\": [{\"colorbar\": {\"outlinewidth\": 0, \"ticks\": \"\"}, \"type\": \"contourcarpet\"}], \"heatmap\": [{\"colorbar\": {\"outlinewidth\": 0, \"ticks\": \"\"}, \"colorscale\": [[0.0, \"#0d0887\"], [0.1111111111111111, \"#46039f\"], [0.2222222222222222, \"#7201a8\"], [0.3333333333333333, \"#9c179e\"], [0.4444444444444444, \"#bd3786\"], [0.5555555555555556, \"#d8576b\"], [0.6666666666666666, \"#ed7953\"], [0.7777777777777778, \"#fb9f3a\"], [0.8888888888888888, \"#fdca26\"], [1.0, \"#f0f921\"]], \"type\": \"heatmap\"}], \"heatmapgl\": [{\"colorbar\": {\"outlinewidth\": 0, \"ticks\": \"\"}, \"colorscale\": [[0.0, \"#0d0887\"], [0.1111111111111111, \"#46039f\"], [0.2222222222222222, \"#7201a8\"], [0.3333333333333333, \"#9c179e\"], [0.4444444444444444, \"#bd3786\"], [0.5555555555555556, \"#d8576b\"], [0.6666666666666666, \"#ed7953\"], [0.7777777777777778, \"#fb9f3a\"], [0.8888888888888888, \"#fdca26\"], [1.0, \"#f0f921\"]], \"type\": \"heatmapgl\"}], \"histogram\": [{\"marker\": {\"colorbar\": {\"outlinewidth\": 0, \"ticks\": \"\"}}, \"type\": \"histogram\"}], \"histogram2d\": [{\"colorbar\": {\"outlinewidth\": 0, \"ticks\": \"\"}, \"colorscale\": [[0.0, \"#0d0887\"], [0.1111111111111111, \"#46039f\"], [0.2222222222222222, \"#7201a8\"], [0.3333333333333333, \"#9c179e\"], [0.4444444444444444, \"#bd3786\"], [0.5555555555555556, \"#d8576b\"], [0.6666666666666666, \"#ed7953\"], [0.7777777777777778, \"#fb9f3a\"], [0.8888888888888888, \"#fdca26\"], [1.0, \"#f0f921\"]], \"type\": \"histogram2d\"}], \"histogram2dcontour\": [{\"colorbar\": {\"outlinewidth\": 0, \"ticks\": \"\"}, \"colorscale\": [[0.0, \"#0d0887\"], [0.1111111111111111, \"#46039f\"], [0.2222222222222222, \"#7201a8\"], [0.3333333333333333, \"#9c179e\"], [0.4444444444444444, \"#bd3786\"], [0.5555555555555556, \"#d8576b\"], [0.6666666666666666, \"#ed7953\"], [0.7777777777777778, \"#fb9f3a\"], [0.8888888888888888, \"#fdca26\"], [1.0, \"#f0f921\"]], \"type\": \"histogram2dcontour\"}], \"mesh3d\": [{\"colorbar\": {\"outlinewidth\": 0, \"ticks\": \"\"}, \"type\": \"mesh3d\"}], \"parcoords\": [{\"line\": {\"colorbar\": {\"outlinewidth\": 0, \"ticks\": \"\"}}, \"type\": \"parcoords\"}], \"pie\": [{\"automargin\": true, \"type\": \"pie\"}], \"scatter\": [{\"marker\": {\"colorbar\": {\"outlinewidth\": 0, \"ticks\": \"\"}}, \"type\": \"scatter\"}], \"scatter3d\": [{\"line\": {\"colorbar\": {\"outlinewidth\": 0, \"ticks\": \"\"}}, \"marker\": {\"colorbar\": {\"outlinewidth\": 0, \"ticks\": \"\"}}, \"type\": \"scatter3d\"}], \"scattercarpet\": [{\"marker\": {\"colorbar\": {\"outlinewidth\": 0, \"ticks\": \"\"}}, \"type\": \"scattercarpet\"}], \"scattergeo\": [{\"marker\": {\"colorbar\": {\"outlinewidth\": 0, \"ticks\": \"\"}}, \"type\": \"scattergeo\"}], \"scattergl\": [{\"marker\": {\"colorbar\": {\"outlinewidth\": 0, \"ticks\": \"\"}}, \"type\": \"scattergl\"}], \"scattermapbox\": [{\"marker\": {\"colorbar\": {\"outlinewidth\": 0, \"ticks\": \"\"}}, \"type\": \"scattermapbox\"}], \"scatterpolar\": [{\"marker\": {\"colorbar\": {\"outlinewidth\": 0, \"ticks\": \"\"}}, \"type\": \"scatterpolar\"}], \"scatterpolargl\": [{\"marker\": {\"colorbar\": {\"outlinewidth\": 0, \"ticks\": \"\"}}, \"type\": \"scatterpolargl\"}], \"scatterternary\": [{\"marker\": {\"colorbar\": {\"outlinewidth\": 0, \"ticks\": \"\"}}, \"type\": \"scatterternary\"}], \"surface\": [{\"colorbar\": {\"outlinewidth\": 0, \"ticks\": \"\"}, \"colorscale\": [[0.0, \"#0d0887\"], [0.1111111111111111, \"#46039f\"], [0.2222222222222222, \"#7201a8\"], [0.3333333333333333, \"#9c179e\"], [0.4444444444444444, \"#bd3786\"], [0.5555555555555556, \"#d8576b\"], [0.6666666666666666, \"#ed7953\"], [0.7777777777777778, \"#fb9f3a\"], [0.8888888888888888, \"#fdca26\"], [1.0, \"#f0f921\"]], \"type\": \"surface\"}], \"table\": [{\"cells\": {\"fill\": {\"color\": \"#EBF0F8\"}, \"line\": {\"color\": \"white\"}}, \"header\": {\"fill\": {\"color\": \"#C8D4E3\"}, \"line\": {\"color\": \"white\"}}, \"type\": \"table\"}]}, \"layout\": {\"annotationdefaults\": {\"arrowcolor\": \"#2a3f5f\", \"arrowhead\": 0, \"arrowwidth\": 1}, \"coloraxis\": {\"colorbar\": {\"outlinewidth\": 0, \"ticks\": \"\"}}, \"colorscale\": {\"diverging\": [[0, \"#8e0152\"], [0.1, \"#c51b7d\"], [0.2, \"#de77ae\"], [0.3, \"#f1b6da\"], [0.4, \"#fde0ef\"], [0.5, \"#f7f7f7\"], [0.6, \"#e6f5d0\"], [0.7, \"#b8e186\"], [0.8, \"#7fbc41\"], [0.9, \"#4d9221\"], [1, \"#276419\"]], \"sequential\": [[0.0, \"#0d0887\"], [0.1111111111111111, \"#46039f\"], [0.2222222222222222, \"#7201a8\"], [0.3333333333333333, \"#9c179e\"], [0.4444444444444444, \"#bd3786\"], [0.5555555555555556, \"#d8576b\"], [0.6666666666666666, \"#ed7953\"], [0.7777777777777778, \"#fb9f3a\"], [0.8888888888888888, \"#fdca26\"], [1.0, \"#f0f921\"]], \"sequentialminus\": [[0.0, \"#0d0887\"], [0.1111111111111111, \"#46039f\"], [0.2222222222222222, \"#7201a8\"], [0.3333333333333333, \"#9c179e\"], [0.4444444444444444, \"#bd3786\"], [0.5555555555555556, \"#d8576b\"], [0.6666666666666666, \"#ed7953\"], [0.7777777777777778, \"#fb9f3a\"], [0.8888888888888888, \"#fdca26\"], [1.0, \"#f0f921\"]]}, \"colorway\": [\"#636efa\", \"#EF553B\", \"#00cc96\", \"#ab63fa\", \"#FFA15A\", \"#19d3f3\", \"#FF6692\", \"#B6E880\", \"#FF97FF\", \"#FECB52\"], \"font\": {\"color\": \"#2a3f5f\"}, \"geo\": {\"bgcolor\": \"white\", \"lakecolor\": \"white\", \"landcolor\": \"#E5ECF6\", \"showlakes\": true, \"showland\": true, \"subunitcolor\": \"white\"}, \"hoverlabel\": {\"align\": \"left\"}, \"hovermode\": \"closest\", \"mapbox\": {\"style\": \"light\"}, \"paper_bgcolor\": \"white\", \"plot_bgcolor\": \"#E5ECF6\", \"polar\": {\"angularaxis\": {\"gridcolor\": \"white\", \"linecolor\": \"white\", \"ticks\": \"\"}, \"bgcolor\": \"#E5ECF6\", \"radialaxis\": {\"gridcolor\": \"white\", \"linecolor\": \"white\", \"ticks\": \"\"}}, \"scene\": {\"xaxis\": {\"backgroundcolor\": \"#E5ECF6\", \"gridcolor\": \"white\", \"gridwidth\": 2, \"linecolor\": \"white\", \"showbackground\": true, \"ticks\": \"\", \"zerolinecolor\": \"white\"}, \"yaxis\": {\"backgroundcolor\": \"#E5ECF6\", \"gridcolor\": \"white\", \"gridwidth\": 2, \"linecolor\": \"white\", \"showbackground\": true, \"ticks\": \"\", \"zerolinecolor\": \"white\"}, \"zaxis\": {\"backgroundcolor\": \"#E5ECF6\", \"gridcolor\": \"white\", \"gridwidth\": 2, \"linecolor\": \"white\", \"showbackground\": true, \"ticks\": \"\", \"zerolinecolor\": \"white\"}}, \"shapedefaults\": {\"line\": {\"color\": \"#2a3f5f\"}}, \"ternary\": {\"aaxis\": {\"gridcolor\": \"white\", \"linecolor\": \"white\", \"ticks\": \"\"}, \"baxis\": {\"gridcolor\": \"white\", \"linecolor\": \"white\", \"ticks\": \"\"}, \"bgcolor\": \"#E5ECF6\", \"caxis\": {\"gridcolor\": \"white\", \"linecolor\": \"white\", \"ticks\": \"\"}}, \"title\": {\"x\": 0.05}, \"xaxis\": {\"automargin\": true, \"gridcolor\": \"white\", \"linecolor\": \"white\", \"ticks\": \"\", \"title\": {\"standoff\": 15}, \"zerolinecolor\": \"white\", \"zerolinewidth\": 2}, \"yaxis\": {\"automargin\": true, \"gridcolor\": \"white\", \"linecolor\": \"white\", \"ticks\": \"\", \"title\": {\"standoff\": 15}, \"zerolinecolor\": \"white\", \"zerolinewidth\": 2}}}, \"title\": {\"text\": \"Broj naru\\u0161enih ograni\\u010denja 1. generacije\"}, \"xaxis\": {\"title\": {\"text\": \"Jedinke generacija\"}, \"type\": \"category\"}, \"yaxis\": {\"title\": {\"text\": \"Broj naru\\u0161enih ograni\\u010denja\"}}},\n",
       "                        {\"responsive\": true}\n",
       "                    ).then(function(){\n",
       "                            \n",
       "var gd = document.getElementById('905e2384-ad9c-4eee-a5ea-829204c5807b');\n",
       "var x = new MutationObserver(function (mutations, observer) {{\n",
       "        var display = window.getComputedStyle(gd).display;\n",
       "        if (!display || display === 'none') {{\n",
       "            console.log([gd, 'removed!']);\n",
       "            Plotly.purge(gd);\n",
       "            observer.disconnect();\n",
       "        }}\n",
       "}});\n",
       "\n",
       "// Listen for the removal of the full notebook cells\n",
       "var notebookContainer = gd.closest('#notebook-container');\n",
       "if (notebookContainer) {{\n",
       "    x.observe(notebookContainer, {childList: true});\n",
       "}}\n",
       "\n",
       "// Listen for the clearing of the current output cell\n",
       "var outputEl = gd.closest('.output');\n",
       "if (outputEl) {{\n",
       "    x.observe(outputEl, {childList: true});\n",
       "}}\n",
       "\n",
       "                        })\n",
       "                };\n",
       "                });\n",
       "            </script>\n",
       "        </div>"
      ]
     },
     "metadata": {},
     "output_type": "display_data"
    }
   ],
   "source": [
    "plot_restrictions(ulazni_podaci)"
   ]
  },
  {
   "cell_type": "code",
   "execution_count": 15,
   "metadata": {},
   "outputs": [],
   "source": [
    "def plot_prof_pref(ulazni_podaci):\n",
    "    def pref_matrix(ulazni_podaci, prof_id):\n",
    "        podaci = {r['dan']: sorted(list(r['termini'])) for r in ulazni_podaci['preferencije']['profesori'][prof_id]['odabir']}\n",
    "        podaci.update({d: [] for d in ulazni_podaci['dani'] if d not in podaci})\n",
    "        return [[1.0 if j in podaci[i] else 0.0 for i in ulazni_podaci['dani']] for j in ulazni_podaci['termini']]\n",
    "\n",
    "    fig = plt.figure()\n",
    "    fig, ax = plt.subplots(1, len(ulazni_podaci['preferencije']['profesori']), figsize=(12,12))\n",
    "    fig.suptitle(\"Preferencije termina profesora\", fontsize=\"xx-large\")\n",
    "    for j in range(len(ulazni_podaci['preferencije']['profesori'])):\n",
    "        ax[j].set_xticks([i - 0.5 for i in range(len(ulazni_podaci['dani']))], minor=True)\n",
    "        ax[j].set_yticks([i - 0.5 for i in range(len(ulazni_podaci['termini']))], minor=True)\n",
    "        ax[j].grid(which=\"minor\", color=\"w\", linestyle='-', linewidth=3)\n",
    "        ax[j].tick_params(top=True, bottom=True, labeltop=True, labelbottom=True, right=True, left=True, labelright=True, labelleft=True)\n",
    "        ax[j].set_xticklabels(['']+[str(d) for d in ulazni_podaci['dani']])\n",
    "        ax[j].set_yticklabels(['']+[str(t) for t in ulazni_podaci['termini']])\n",
    "        tick_spacing = 1\n",
    "        ax[j].xaxis.set_major_locator(ticker.MultipleLocator(tick_spacing))\n",
    "        ax[j].yaxis.set_major_locator(ticker.MultipleLocator(tick_spacing))\n",
    "        ax[j].set_title(f\"Preferencije termina profesora '{ulazni_podaci['nastavnici'][ulazni_podaci['preferencije']['profesori'][j]['p_id']]['preime']}'\")\n",
    "        ax[j].set_xlabel('Dani')\n",
    "        ax[j].set_ylabel('Termini')\n",
    "        heatplot = ax[j].imshow(pref_matrix(ulazni_podaci, j), cmap=mpl.colors.LinearSegmentedColormap.from_list(\"\", [\"coral\",\"lightgreen\"]))"
   ]
  },
  {
   "cell_type": "code",
   "execution_count": 16,
   "metadata": {},
   "outputs": [
    {
     "data": {
      "text/plain": [
       "<Figure size 432x288 with 0 Axes>"
      ]
     },
     "metadata": {},
     "output_type": "display_data"
    },
    {
     "data": {
      "image/png": "[encoded data removed]",
      "text/plain": [
       "<Figure size 864x864 with 2 Axes>"
      ]
     },
     "metadata": {},
     "output_type": "display_data"
    }
   ],
   "source": [
    "plot_prof_pref(ulazni_podaci)"
   ]
  },
  {
   "cell_type": "code",
   "execution_count": null,
   "metadata": {
    "collapsed": true
   },
   "outputs": [],
   "source": []
  }
 ],
 "metadata": {
  "kernelspec": {
   "display_name": "Python 3",
   "language": "python",
   "name": "python3"
  },
  "language_info": {
   "codemirror_mode": {
    "name": "ipython",
    "version": 3
   },
   "file_extension": ".py",
   "mimetype": "text/x-python",
   "name": "python",
   "nbconvert_exporter": "python",
   "pygments_lexer": "ipython3",
   "version": "3.6.8"
  }
 },
 "nbformat": 4,
 "nbformat_minor": 2
}
